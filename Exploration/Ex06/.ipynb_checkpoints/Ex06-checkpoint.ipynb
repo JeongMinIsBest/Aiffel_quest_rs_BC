{
 "cells": [
  {
   "cell_type": "code",
   "execution_count": null,
   "metadata": {
    "id": "-pHuTCMRtnQp"
   },
   "outputs": [],
   "source": [
    "!pip install --upgrade summa\n",
    "!pip install --upgrade nltk #3.9.1"
   ]
  },
  {
   "cell_type": "code",
   "execution_count": 2,
   "metadata": {
    "colab": {
     "base_uri": "https://localhost:8080/"
    },
    "id": "IOVAP_uNtpa0",
    "outputId": "7c0baddc-daef-4738-a486-091340883010"
   },
   "outputs": [
    {
     "name": "stdout",
     "output_type": "stream",
     "text": [
      "3.9.1\n",
      "2.6.0+cu124\n",
      "2.2.2\n",
      "1.2.0\n"
     ]
    }
   ],
   "source": [
    "from importlib.metadata import version\n",
    "import nltk\n",
    "import torch\n",
    "import summa\n",
    "import pandas as pd\n",
    "\n",
    "print(nltk.__version__)\n",
    "print(torch.__version__)\n",
    "print(pd.__version__)\n",
    "print(version('summa'))"
   ]
  },
  {
   "cell_type": "code",
   "execution_count": 3,
   "metadata": {
    "id": "7Uyd2YdMtv4M"
   },
   "outputs": [],
   "source": [
    "import urllib.request\n",
    "urllib.request.urlretrieve(\"https://raw.githubusercontent.com/sunnysai12345/News_summary/master/news_summary_more.csv\", filename=\"news_headlines_more.csv\")\n",
    "data = pd.read_csv('news_headlines_more.csv', encoding='iso-8859-1')"
   ]
  },
  {
   "cell_type": "code",
   "execution_count": 4,
   "metadata": {
    "colab": {
     "base_uri": "https://localhost:8080/",
     "height": 363
    },
    "id": "m_zAKqhhtyEX",
    "outputId": "f818675a-8444-437c-c850-b480c88b91cb"
   },
   "outputs": [
    {
     "data": {
      "application/vnd.google.colaboratory.intrinsic+json": {
       "summary": "{\n  \"name\": \"data\",\n  \"rows\": 10,\n  \"fields\": [\n    {\n      \"column\": \"headlines\",\n      \"properties\": {\n        \"dtype\": \"string\",\n        \"num_unique_values\": 10,\n        \"samples\": [\n          \"Indian-origin chef fired over \\\"anti-Islam\\\" tweet to Priyanka\",\n          \"Prabhudeva featured as background dancer in 1988 Tamil film\",\n          \"Iran to sign over \\u00c3\\u00a2\\u00c2\\u0082\\u00c2\\u00b931,000-crore gas deal with oil firm Total\"\n        ],\n        \"semantic_type\": \"\",\n        \"description\": \"\"\n      }\n    },\n    {\n      \"column\": \"text\",\n      \"properties\": {\n        \"dtype\": \"string\",\n        \"num_unique_values\": 10,\n        \"samples\": [\n          \"Dubai's JW Marriott Marquis has fired Michelin-starred Indian-origin chef Atul Kochhar over his tweet slamming Priyanka Chopra\\u00c3\\u00a2\\u00c2\\u0080\\u00c2\\u0099s apology for a Quantico episode that portrayed Indians as terrorist. \\\"We don\\u00c3\\u00a2\\u00c2\\u0080\\u00c2\\u0099t share the same views,\\\" read Marriott\\u00c3\\u00a2\\u00c2\\u0080\\u00c2\\u0099s statement. In the tweet for which he apologised, Kochhar wrote, \\u00c3\\u00a2\\u00c2\\u0080\\u00c2\\u009cYou haven't respected sentiments of Hindus...terrorised by Islam.\\\"n\",\n          \"Choreographer-director Prabhudeva featured as a background dancer in a song in 1988 Tamil film 'Agni Natchathiram'. Also called 'Michael Jackson of India', he's known for choreographing songs like 'Urvasi' (Hum Se Hai Muqabala), Kay Sera Sera (Pukar), and Gandi Baat (R... Rajkumar). Prabhudeva, who turned 44 on Monday, also produced and acted in a career spanning over twenty-five years.\",\n          \"French oil and gas company Total has agreed to a $4.8-billion deal (over \\u00c3\\u00a2\\u00c2\\u0082\\u00c2\\u00b931,000 crore) with Iran to develop one of the world's largest natural gas fields, Iran's oil ministry said. This is Iran's biggest foreign deal since sanctions were eased last year. The deal is to develop a gas field in Persian Gulf alongside China's CNPC and Iran's Petropars.\"\n        ],\n        \"semantic_type\": \"\",\n        \"description\": \"\"\n      }\n    }\n  ]\n}",
       "type": "dataframe"
      },
      "text/html": [
       "\n",
       "  <div id=\"df-36d22364-e4c4-4f0b-9fcb-39e34f0d73cb\" class=\"colab-df-container\">\n",
       "    <div>\n",
       "<style scoped>\n",
       "    .dataframe tbody tr th:only-of-type {\n",
       "        vertical-align: middle;\n",
       "    }\n",
       "\n",
       "    .dataframe tbody tr th {\n",
       "        vertical-align: top;\n",
       "    }\n",
       "\n",
       "    .dataframe thead th {\n",
       "        text-align: right;\n",
       "    }\n",
       "</style>\n",
       "<table border=\"1\" class=\"dataframe\">\n",
       "  <thead>\n",
       "    <tr style=\"text-align: right;\">\n",
       "      <th></th>\n",
       "      <th>headlines</th>\n",
       "      <th>text</th>\n",
       "    </tr>\n",
       "  </thead>\n",
       "  <tbody>\n",
       "    <tr>\n",
       "      <th>61810</th>\n",
       "      <td>Jockey suspended for punching horse in the rib...</td>\n",
       "      <td>South African apprentice jockey Dylan Caboche ...</td>\n",
       "    </tr>\n",
       "    <tr>\n",
       "      <th>95318</th>\n",
       "      <td>Prabhudeva featured as background dancer in 19...</td>\n",
       "      <td>Choreographer-director Prabhudeva featured as ...</td>\n",
       "    </tr>\n",
       "    <tr>\n",
       "      <th>19996</th>\n",
       "      <td>Nobody respects me, may be they will post my d...</td>\n",
       "      <td>Samajwadi Party patriarch Mulayam Singh Yadav ...</td>\n",
       "    </tr>\n",
       "    <tr>\n",
       "      <th>78755</th>\n",
       "      <td>India's daughters-in-law from Pak always welco...</td>\n",
       "      <td>Responding to a tweet from a Mumbai-based man ...</td>\n",
       "    </tr>\n",
       "    <tr>\n",
       "      <th>26637</th>\n",
       "      <td>Security in Northeast better, insurgency down ...</td>\n",
       "      <td>Insurgency-related incidents in the Northeast ...</td>\n",
       "    </tr>\n",
       "    <tr>\n",
       "      <th>82382</th>\n",
       "      <td>Iran to sign over Ã¢ÂÂ¹31,000-crore gas deal ...</td>\n",
       "      <td>French oil and gas company Total has agreed to...</td>\n",
       "    </tr>\n",
       "    <tr>\n",
       "      <th>90386</th>\n",
       "      <td>China's first homemade passenger jet makes mai...</td>\n",
       "      <td>The first Chinese-built passenger jet, C-919, ...</td>\n",
       "    </tr>\n",
       "    <tr>\n",
       "      <th>17501</th>\n",
       "      <td>Wrong if guys do it too: 59 Grand Slam-winner ...</td>\n",
       "      <td>Reacting to American tennis player Serena Will...</td>\n",
       "    </tr>\n",
       "    <tr>\n",
       "      <th>38518</th>\n",
       "      <td>Indian-origin chef fired over \"anti-Islam\" twe...</td>\n",
       "      <td>Dubai's JW Marriott Marquis has fired Michelin...</td>\n",
       "    </tr>\n",
       "    <tr>\n",
       "      <th>78474</th>\n",
       "      <td>Apple supplier Foxconn to build $10 bn LCD fac...</td>\n",
       "      <td>Apple supplier Foxconn plans to build a factor...</td>\n",
       "    </tr>\n",
       "  </tbody>\n",
       "</table>\n",
       "</div>\n",
       "    <div class=\"colab-df-buttons\">\n",
       "\n",
       "  <div class=\"colab-df-container\">\n",
       "    <button class=\"colab-df-convert\" onclick=\"convertToInteractive('df-36d22364-e4c4-4f0b-9fcb-39e34f0d73cb')\"\n",
       "            title=\"Convert this dataframe to an interactive table.\"\n",
       "            style=\"display:none;\">\n",
       "\n",
       "  <svg xmlns=\"http://www.w3.org/2000/svg\" height=\"24px\" viewBox=\"0 -960 960 960\">\n",
       "    <path d=\"M120-120v-720h720v720H120Zm60-500h600v-160H180v160Zm220 220h160v-160H400v160Zm0 220h160v-160H400v160ZM180-400h160v-160H180v160Zm440 0h160v-160H620v160ZM180-180h160v-160H180v160Zm440 0h160v-160H620v160Z\"/>\n",
       "  </svg>\n",
       "    </button>\n",
       "\n",
       "  <style>\n",
       "    .colab-df-container {\n",
       "      display:flex;\n",
       "      gap: 12px;\n",
       "    }\n",
       "\n",
       "    .colab-df-convert {\n",
       "      background-color: #E8F0FE;\n",
       "      border: none;\n",
       "      border-radius: 50%;\n",
       "      cursor: pointer;\n",
       "      display: none;\n",
       "      fill: #1967D2;\n",
       "      height: 32px;\n",
       "      padding: 0 0 0 0;\n",
       "      width: 32px;\n",
       "    }\n",
       "\n",
       "    .colab-df-convert:hover {\n",
       "      background-color: #E2EBFA;\n",
       "      box-shadow: 0px 1px 2px rgba(60, 64, 67, 0.3), 0px 1px 3px 1px rgba(60, 64, 67, 0.15);\n",
       "      fill: #174EA6;\n",
       "    }\n",
       "\n",
       "    .colab-df-buttons div {\n",
       "      margin-bottom: 4px;\n",
       "    }\n",
       "\n",
       "    [theme=dark] .colab-df-convert {\n",
       "      background-color: #3B4455;\n",
       "      fill: #D2E3FC;\n",
       "    }\n",
       "\n",
       "    [theme=dark] .colab-df-convert:hover {\n",
       "      background-color: #434B5C;\n",
       "      box-shadow: 0px 1px 3px 1px rgba(0, 0, 0, 0.15);\n",
       "      filter: drop-shadow(0px 1px 2px rgba(0, 0, 0, 0.3));\n",
       "      fill: #FFFFFF;\n",
       "    }\n",
       "  </style>\n",
       "\n",
       "    <script>\n",
       "      const buttonEl =\n",
       "        document.querySelector('#df-36d22364-e4c4-4f0b-9fcb-39e34f0d73cb button.colab-df-convert');\n",
       "      buttonEl.style.display =\n",
       "        google.colab.kernel.accessAllowed ? 'block' : 'none';\n",
       "\n",
       "      async function convertToInteractive(key) {\n",
       "        const element = document.querySelector('#df-36d22364-e4c4-4f0b-9fcb-39e34f0d73cb');\n",
       "        const dataTable =\n",
       "          await google.colab.kernel.invokeFunction('convertToInteractive',\n",
       "                                                    [key], {});\n",
       "        if (!dataTable) return;\n",
       "\n",
       "        const docLinkHtml = 'Like what you see? Visit the ' +\n",
       "          '<a target=\"_blank\" href=https://colab.research.google.com/notebooks/data_table.ipynb>data table notebook</a>'\n",
       "          + ' to learn more about interactive tables.';\n",
       "        element.innerHTML = '';\n",
       "        dataTable['output_type'] = 'display_data';\n",
       "        await google.colab.output.renderOutput(dataTable, element);\n",
       "        const docLink = document.createElement('div');\n",
       "        docLink.innerHTML = docLinkHtml;\n",
       "        element.appendChild(docLink);\n",
       "      }\n",
       "    </script>\n",
       "  </div>\n",
       "\n",
       "\n",
       "    <div id=\"df-411ee182-00f8-4d08-b979-89e5b66a17b1\">\n",
       "      <button class=\"colab-df-quickchart\" onclick=\"quickchart('df-411ee182-00f8-4d08-b979-89e5b66a17b1')\"\n",
       "                title=\"Suggest charts\"\n",
       "                style=\"display:none;\">\n",
       "\n",
       "<svg xmlns=\"http://www.w3.org/2000/svg\" height=\"24px\"viewBox=\"0 0 24 24\"\n",
       "     width=\"24px\">\n",
       "    <g>\n",
       "        <path d=\"M19 3H5c-1.1 0-2 .9-2 2v14c0 1.1.9 2 2 2h14c1.1 0 2-.9 2-2V5c0-1.1-.9-2-2-2zM9 17H7v-7h2v7zm4 0h-2V7h2v10zm4 0h-2v-4h2v4z\"/>\n",
       "    </g>\n",
       "</svg>\n",
       "      </button>\n",
       "\n",
       "<style>\n",
       "  .colab-df-quickchart {\n",
       "      --bg-color: #E8F0FE;\n",
       "      --fill-color: #1967D2;\n",
       "      --hover-bg-color: #E2EBFA;\n",
       "      --hover-fill-color: #174EA6;\n",
       "      --disabled-fill-color: #AAA;\n",
       "      --disabled-bg-color: #DDD;\n",
       "  }\n",
       "\n",
       "  [theme=dark] .colab-df-quickchart {\n",
       "      --bg-color: #3B4455;\n",
       "      --fill-color: #D2E3FC;\n",
       "      --hover-bg-color: #434B5C;\n",
       "      --hover-fill-color: #FFFFFF;\n",
       "      --disabled-bg-color: #3B4455;\n",
       "      --disabled-fill-color: #666;\n",
       "  }\n",
       "\n",
       "  .colab-df-quickchart {\n",
       "    background-color: var(--bg-color);\n",
       "    border: none;\n",
       "    border-radius: 50%;\n",
       "    cursor: pointer;\n",
       "    display: none;\n",
       "    fill: var(--fill-color);\n",
       "    height: 32px;\n",
       "    padding: 0;\n",
       "    width: 32px;\n",
       "  }\n",
       "\n",
       "  .colab-df-quickchart:hover {\n",
       "    background-color: var(--hover-bg-color);\n",
       "    box-shadow: 0 1px 2px rgba(60, 64, 67, 0.3), 0 1px 3px 1px rgba(60, 64, 67, 0.15);\n",
       "    fill: var(--button-hover-fill-color);\n",
       "  }\n",
       "\n",
       "  .colab-df-quickchart-complete:disabled,\n",
       "  .colab-df-quickchart-complete:disabled:hover {\n",
       "    background-color: var(--disabled-bg-color);\n",
       "    fill: var(--disabled-fill-color);\n",
       "    box-shadow: none;\n",
       "  }\n",
       "\n",
       "  .colab-df-spinner {\n",
       "    border: 2px solid var(--fill-color);\n",
       "    border-color: transparent;\n",
       "    border-bottom-color: var(--fill-color);\n",
       "    animation:\n",
       "      spin 1s steps(1) infinite;\n",
       "  }\n",
       "\n",
       "  @keyframes spin {\n",
       "    0% {\n",
       "      border-color: transparent;\n",
       "      border-bottom-color: var(--fill-color);\n",
       "      border-left-color: var(--fill-color);\n",
       "    }\n",
       "    20% {\n",
       "      border-color: transparent;\n",
       "      border-left-color: var(--fill-color);\n",
       "      border-top-color: var(--fill-color);\n",
       "    }\n",
       "    30% {\n",
       "      border-color: transparent;\n",
       "      border-left-color: var(--fill-color);\n",
       "      border-top-color: var(--fill-color);\n",
       "      border-right-color: var(--fill-color);\n",
       "    }\n",
       "    40% {\n",
       "      border-color: transparent;\n",
       "      border-right-color: var(--fill-color);\n",
       "      border-top-color: var(--fill-color);\n",
       "    }\n",
       "    60% {\n",
       "      border-color: transparent;\n",
       "      border-right-color: var(--fill-color);\n",
       "    }\n",
       "    80% {\n",
       "      border-color: transparent;\n",
       "      border-right-color: var(--fill-color);\n",
       "      border-bottom-color: var(--fill-color);\n",
       "    }\n",
       "    90% {\n",
       "      border-color: transparent;\n",
       "      border-bottom-color: var(--fill-color);\n",
       "    }\n",
       "  }\n",
       "</style>\n",
       "\n",
       "      <script>\n",
       "        async function quickchart(key) {\n",
       "          const quickchartButtonEl =\n",
       "            document.querySelector('#' + key + ' button');\n",
       "          quickchartButtonEl.disabled = true;  // To prevent multiple clicks.\n",
       "          quickchartButtonEl.classList.add('colab-df-spinner');\n",
       "          try {\n",
       "            const charts = await google.colab.kernel.invokeFunction(\n",
       "                'suggestCharts', [key], {});\n",
       "          } catch (error) {\n",
       "            console.error('Error during call to suggestCharts:', error);\n",
       "          }\n",
       "          quickchartButtonEl.classList.remove('colab-df-spinner');\n",
       "          quickchartButtonEl.classList.add('colab-df-quickchart-complete');\n",
       "        }\n",
       "        (() => {\n",
       "          let quickchartButtonEl =\n",
       "            document.querySelector('#df-411ee182-00f8-4d08-b979-89e5b66a17b1 button');\n",
       "          quickchartButtonEl.style.display =\n",
       "            google.colab.kernel.accessAllowed ? 'block' : 'none';\n",
       "        })();\n",
       "      </script>\n",
       "    </div>\n",
       "\n",
       "    </div>\n",
       "  </div>\n"
      ],
      "text/plain": [
       "                                               headlines  \\\n",
       "61810  Jockey suspended for punching horse in the rib...   \n",
       "95318  Prabhudeva featured as background dancer in 19...   \n",
       "19996  Nobody respects me, may be they will post my d...   \n",
       "78755  India's daughters-in-law from Pak always welco...   \n",
       "26637  Security in Northeast better, insurgency down ...   \n",
       "82382  Iran to sign over Ã¢ÂÂ¹31,000-crore gas deal ...   \n",
       "90386  China's first homemade passenger jet makes mai...   \n",
       "17501  Wrong if guys do it too: 59 Grand Slam-winner ...   \n",
       "38518  Indian-origin chef fired over \"anti-Islam\" twe...   \n",
       "78474  Apple supplier Foxconn to build $10 bn LCD fac...   \n",
       "\n",
       "                                                    text  \n",
       "61810  South African apprentice jockey Dylan Caboche ...  \n",
       "95318  Choreographer-director Prabhudeva featured as ...  \n",
       "19996  Samajwadi Party patriarch Mulayam Singh Yadav ...  \n",
       "78755  Responding to a tweet from a Mumbai-based man ...  \n",
       "26637  Insurgency-related incidents in the Northeast ...  \n",
       "82382  French oil and gas company Total has agreed to...  \n",
       "90386  The first Chinese-built passenger jet, C-919, ...  \n",
       "17501  Reacting to American tennis player Serena Will...  \n",
       "38518  Dubai's JW Marriott Marquis has fired Michelin...  \n",
       "78474  Apple supplier Foxconn plans to build a factor...  "
      ]
     },
     "execution_count": 4,
     "metadata": {},
     "output_type": "execute_result"
    }
   ],
   "source": [
    "data.sample(10)"
   ]
  },
  {
   "cell_type": "code",
   "execution_count": 7,
   "metadata": {
    "colab": {
     "base_uri": "https://localhost:8080/"
    },
    "id": "_D1X4vcNwOIu",
    "outputId": "71865fef-08fa-4cbe-8342-c61198e5515e"
   },
   "outputs": [
    {
     "name": "stderr",
     "output_type": "stream",
     "text": [
      "[nltk_data] Downloading package stopwords to /root/nltk_data...\n",
      "[nltk_data]   Unzipping corpora/stopwords.zip.\n"
     ]
    },
    {
     "name": "stdout",
     "output_type": "stream",
     "text": [
      "=3\n"
     ]
    }
   ],
   "source": [
    "import nltk\n",
    "nltk.download('stopwords')\n",
    "\n",
    "import numpy as np\n",
    "import pandas as pd\n",
    "import os\n",
    "import re\n",
    "import matplotlib.pyplot as plt\n",
    "from nltk.corpus import stopwords\n",
    "from bs4 import BeautifulSoup\n",
    "\n",
    "import torch\n",
    "from collections import Counter\n",
    "\n",
    "import urllib.request\n",
    "import warnings\n",
    "warnings.filterwarnings(\"ignore\", category=UserWarning, module='bs4')\n",
    "\n",
    "print('=3')"
   ]
  },
  {
   "cell_type": "code",
   "execution_count": 9,
   "metadata": {
    "colab": {
     "base_uri": "https://localhost:8080/"
    },
    "id": "rkpBDO8F3iIy",
    "outputId": "f9e6fbdd-35f9-485a-8ddb-39fb3dab0015"
   },
   "outputs": [
    {
     "name": "stdout",
     "output_type": "stream",
     "text": [
      "전체 샘플수 : 98401\n"
     ]
    }
   ],
   "source": [
    "data = pd.read_csv(\"/content/news_headlines_more.csv\", nrows=100000)\n",
    "print('전체 샘플수 :', (len(data)))"
   ]
  },
  {
   "cell_type": "code",
   "execution_count": 10,
   "metadata": {
    "colab": {
     "base_uri": "https://localhost:8080/",
     "height": 206
    },
    "id": "_4NOo4fX3ud-",
    "outputId": "1a59dd7e-aab2-42d7-e2ef-adf8d90e2829"
   },
   "outputs": [
    {
     "data": {
      "application/vnd.google.colaboratory.intrinsic+json": {
       "summary": "{\n  \"name\": \"data\",\n  \"rows\": 98401,\n  \"fields\": [\n    {\n      \"column\": \"headlines\",\n      \"properties\": {\n        \"dtype\": \"string\",\n        \"num_unique_values\": 98280,\n        \"samples\": [\n          \"Salman Khan asked to appear before court in Arms Act case\",\n          \"Man who beat Federer at Wimbledon once lost to AB de Villiers\",\n          \"Alwar lynching victim died of 'shock': Post-mortem report\"\n        ],\n        \"semantic_type\": \"\",\n        \"description\": \"\"\n      }\n    },\n    {\n      \"column\": \"text\",\n      \"properties\": {\n        \"dtype\": \"string\",\n        \"num_unique_values\": 98360,\n        \"samples\": [\n          \"Digital payments startup Paytm has raised $1.4 billion from SoftBank in India's largest funding round. This is also SoftBank's biggest investment in the Indian startup ecosystem till date. The latest investment by SoftBank will value Paytm at around $8 billion, up from its valuation of $4.8 billion in August 2016. \",\n          \"Oil companies on Thursday reduced the petrol price by \\u00e2\\u0082\\u00b91.12/litre and diesel by \\u00e2\\u0082\\u00b91.24/litre effective June 16. This is the first cut in prices following the decision to revise fuel prices daily and the revision shall be applicable from 6 AM to 6 AM the next day. Customers can know the revised prices through social media posts and 'Fuel@IOC' app.\",\n          \"The Indian Army has announced plans to deploy women officers for cyber warfare as they face cybersecurity threats from both state and non-state actors. In order to increase the number of female officers and provide them more opportunities, the Army is also planning to hire 850 of women in the military police branch and some in the language training branch.\"\n        ],\n        \"semantic_type\": \"\",\n        \"description\": \"\"\n      }\n    }\n  ]\n}",
       "type": "dataframe",
       "variable_name": "data"
      },
      "text/html": [
       "\n",
       "  <div id=\"df-07d960ec-da34-4164-9429-5c95e6ce753c\" class=\"colab-df-container\">\n",
       "    <div>\n",
       "<style scoped>\n",
       "    .dataframe tbody tr th:only-of-type {\n",
       "        vertical-align: middle;\n",
       "    }\n",
       "\n",
       "    .dataframe tbody tr th {\n",
       "        vertical-align: top;\n",
       "    }\n",
       "\n",
       "    .dataframe thead th {\n",
       "        text-align: right;\n",
       "    }\n",
       "</style>\n",
       "<table border=\"1\" class=\"dataframe\">\n",
       "  <thead>\n",
       "    <tr style=\"text-align: right;\">\n",
       "      <th></th>\n",
       "      <th>headlines</th>\n",
       "      <th>text</th>\n",
       "    </tr>\n",
       "  </thead>\n",
       "  <tbody>\n",
       "    <tr>\n",
       "      <th>0</th>\n",
       "      <td>upGrad learner switches to career in ML &amp; Al w...</td>\n",
       "      <td>Saurav Kant, an alumnus of upGrad and IIIT-B's...</td>\n",
       "    </tr>\n",
       "    <tr>\n",
       "      <th>1</th>\n",
       "      <td>Delhi techie wins free food from Swiggy for on...</td>\n",
       "      <td>Kunal Shah's credit card bill payment platform...</td>\n",
       "    </tr>\n",
       "    <tr>\n",
       "      <th>2</th>\n",
       "      <td>New Zealand end Rohit Sharma-led India's 12-ma...</td>\n",
       "      <td>New Zealand defeated India by 8 wickets in the...</td>\n",
       "    </tr>\n",
       "    <tr>\n",
       "      <th>3</th>\n",
       "      <td>Aegon life iTerm insurance plan helps customer...</td>\n",
       "      <td>With Aegon Life iTerm Insurance plan, customer...</td>\n",
       "    </tr>\n",
       "    <tr>\n",
       "      <th>4</th>\n",
       "      <td>Have known Hirani for yrs, what if MeToo claim...</td>\n",
       "      <td>Speaking about the sexual harassment allegatio...</td>\n",
       "    </tr>\n",
       "  </tbody>\n",
       "</table>\n",
       "</div>\n",
       "    <div class=\"colab-df-buttons\">\n",
       "\n",
       "  <div class=\"colab-df-container\">\n",
       "    <button class=\"colab-df-convert\" onclick=\"convertToInteractive('df-07d960ec-da34-4164-9429-5c95e6ce753c')\"\n",
       "            title=\"Convert this dataframe to an interactive table.\"\n",
       "            style=\"display:none;\">\n",
       "\n",
       "  <svg xmlns=\"http://www.w3.org/2000/svg\" height=\"24px\" viewBox=\"0 -960 960 960\">\n",
       "    <path d=\"M120-120v-720h720v720H120Zm60-500h600v-160H180v160Zm220 220h160v-160H400v160Zm0 220h160v-160H400v160ZM180-400h160v-160H180v160Zm440 0h160v-160H620v160ZM180-180h160v-160H180v160Zm440 0h160v-160H620v160Z\"/>\n",
       "  </svg>\n",
       "    </button>\n",
       "\n",
       "  <style>\n",
       "    .colab-df-container {\n",
       "      display:flex;\n",
       "      gap: 12px;\n",
       "    }\n",
       "\n",
       "    .colab-df-convert {\n",
       "      background-color: #E8F0FE;\n",
       "      border: none;\n",
       "      border-radius: 50%;\n",
       "      cursor: pointer;\n",
       "      display: none;\n",
       "      fill: #1967D2;\n",
       "      height: 32px;\n",
       "      padding: 0 0 0 0;\n",
       "      width: 32px;\n",
       "    }\n",
       "\n",
       "    .colab-df-convert:hover {\n",
       "      background-color: #E2EBFA;\n",
       "      box-shadow: 0px 1px 2px rgba(60, 64, 67, 0.3), 0px 1px 3px 1px rgba(60, 64, 67, 0.15);\n",
       "      fill: #174EA6;\n",
       "    }\n",
       "\n",
       "    .colab-df-buttons div {\n",
       "      margin-bottom: 4px;\n",
       "    }\n",
       "\n",
       "    [theme=dark] .colab-df-convert {\n",
       "      background-color: #3B4455;\n",
       "      fill: #D2E3FC;\n",
       "    }\n",
       "\n",
       "    [theme=dark] .colab-df-convert:hover {\n",
       "      background-color: #434B5C;\n",
       "      box-shadow: 0px 1px 3px 1px rgba(0, 0, 0, 0.15);\n",
       "      filter: drop-shadow(0px 1px 2px rgba(0, 0, 0, 0.3));\n",
       "      fill: #FFFFFF;\n",
       "    }\n",
       "  </style>\n",
       "\n",
       "    <script>\n",
       "      const buttonEl =\n",
       "        document.querySelector('#df-07d960ec-da34-4164-9429-5c95e6ce753c button.colab-df-convert');\n",
       "      buttonEl.style.display =\n",
       "        google.colab.kernel.accessAllowed ? 'block' : 'none';\n",
       "\n",
       "      async function convertToInteractive(key) {\n",
       "        const element = document.querySelector('#df-07d960ec-da34-4164-9429-5c95e6ce753c');\n",
       "        const dataTable =\n",
       "          await google.colab.kernel.invokeFunction('convertToInteractive',\n",
       "                                                    [key], {});\n",
       "        if (!dataTable) return;\n",
       "\n",
       "        const docLinkHtml = 'Like what you see? Visit the ' +\n",
       "          '<a target=\"_blank\" href=https://colab.research.google.com/notebooks/data_table.ipynb>data table notebook</a>'\n",
       "          + ' to learn more about interactive tables.';\n",
       "        element.innerHTML = '';\n",
       "        dataTable['output_type'] = 'display_data';\n",
       "        await google.colab.output.renderOutput(dataTable, element);\n",
       "        const docLink = document.createElement('div');\n",
       "        docLink.innerHTML = docLinkHtml;\n",
       "        element.appendChild(docLink);\n",
       "      }\n",
       "    </script>\n",
       "  </div>\n",
       "\n",
       "\n",
       "    <div id=\"df-8337a33c-9388-4201-a344-de7a513f79fe\">\n",
       "      <button class=\"colab-df-quickchart\" onclick=\"quickchart('df-8337a33c-9388-4201-a344-de7a513f79fe')\"\n",
       "                title=\"Suggest charts\"\n",
       "                style=\"display:none;\">\n",
       "\n",
       "<svg xmlns=\"http://www.w3.org/2000/svg\" height=\"24px\"viewBox=\"0 0 24 24\"\n",
       "     width=\"24px\">\n",
       "    <g>\n",
       "        <path d=\"M19 3H5c-1.1 0-2 .9-2 2v14c0 1.1.9 2 2 2h14c1.1 0 2-.9 2-2V5c0-1.1-.9-2-2-2zM9 17H7v-7h2v7zm4 0h-2V7h2v10zm4 0h-2v-4h2v4z\"/>\n",
       "    </g>\n",
       "</svg>\n",
       "      </button>\n",
       "\n",
       "<style>\n",
       "  .colab-df-quickchart {\n",
       "      --bg-color: #E8F0FE;\n",
       "      --fill-color: #1967D2;\n",
       "      --hover-bg-color: #E2EBFA;\n",
       "      --hover-fill-color: #174EA6;\n",
       "      --disabled-fill-color: #AAA;\n",
       "      --disabled-bg-color: #DDD;\n",
       "  }\n",
       "\n",
       "  [theme=dark] .colab-df-quickchart {\n",
       "      --bg-color: #3B4455;\n",
       "      --fill-color: #D2E3FC;\n",
       "      --hover-bg-color: #434B5C;\n",
       "      --hover-fill-color: #FFFFFF;\n",
       "      --disabled-bg-color: #3B4455;\n",
       "      --disabled-fill-color: #666;\n",
       "  }\n",
       "\n",
       "  .colab-df-quickchart {\n",
       "    background-color: var(--bg-color);\n",
       "    border: none;\n",
       "    border-radius: 50%;\n",
       "    cursor: pointer;\n",
       "    display: none;\n",
       "    fill: var(--fill-color);\n",
       "    height: 32px;\n",
       "    padding: 0;\n",
       "    width: 32px;\n",
       "  }\n",
       "\n",
       "  .colab-df-quickchart:hover {\n",
       "    background-color: var(--hover-bg-color);\n",
       "    box-shadow: 0 1px 2px rgba(60, 64, 67, 0.3), 0 1px 3px 1px rgba(60, 64, 67, 0.15);\n",
       "    fill: var(--button-hover-fill-color);\n",
       "  }\n",
       "\n",
       "  .colab-df-quickchart-complete:disabled,\n",
       "  .colab-df-quickchart-complete:disabled:hover {\n",
       "    background-color: var(--disabled-bg-color);\n",
       "    fill: var(--disabled-fill-color);\n",
       "    box-shadow: none;\n",
       "  }\n",
       "\n",
       "  .colab-df-spinner {\n",
       "    border: 2px solid var(--fill-color);\n",
       "    border-color: transparent;\n",
       "    border-bottom-color: var(--fill-color);\n",
       "    animation:\n",
       "      spin 1s steps(1) infinite;\n",
       "  }\n",
       "\n",
       "  @keyframes spin {\n",
       "    0% {\n",
       "      border-color: transparent;\n",
       "      border-bottom-color: var(--fill-color);\n",
       "      border-left-color: var(--fill-color);\n",
       "    }\n",
       "    20% {\n",
       "      border-color: transparent;\n",
       "      border-left-color: var(--fill-color);\n",
       "      border-top-color: var(--fill-color);\n",
       "    }\n",
       "    30% {\n",
       "      border-color: transparent;\n",
       "      border-left-color: var(--fill-color);\n",
       "      border-top-color: var(--fill-color);\n",
       "      border-right-color: var(--fill-color);\n",
       "    }\n",
       "    40% {\n",
       "      border-color: transparent;\n",
       "      border-right-color: var(--fill-color);\n",
       "      border-top-color: var(--fill-color);\n",
       "    }\n",
       "    60% {\n",
       "      border-color: transparent;\n",
       "      border-right-color: var(--fill-color);\n",
       "    }\n",
       "    80% {\n",
       "      border-color: transparent;\n",
       "      border-right-color: var(--fill-color);\n",
       "      border-bottom-color: var(--fill-color);\n",
       "    }\n",
       "    90% {\n",
       "      border-color: transparent;\n",
       "      border-bottom-color: var(--fill-color);\n",
       "    }\n",
       "  }\n",
       "</style>\n",
       "\n",
       "      <script>\n",
       "        async function quickchart(key) {\n",
       "          const quickchartButtonEl =\n",
       "            document.querySelector('#' + key + ' button');\n",
       "          quickchartButtonEl.disabled = true;  // To prevent multiple clicks.\n",
       "          quickchartButtonEl.classList.add('colab-df-spinner');\n",
       "          try {\n",
       "            const charts = await google.colab.kernel.invokeFunction(\n",
       "                'suggestCharts', [key], {});\n",
       "          } catch (error) {\n",
       "            console.error('Error during call to suggestCharts:', error);\n",
       "          }\n",
       "          quickchartButtonEl.classList.remove('colab-df-spinner');\n",
       "          quickchartButtonEl.classList.add('colab-df-quickchart-complete');\n",
       "        }\n",
       "        (() => {\n",
       "          let quickchartButtonEl =\n",
       "            document.querySelector('#df-8337a33c-9388-4201-a344-de7a513f79fe button');\n",
       "          quickchartButtonEl.style.display =\n",
       "            google.colab.kernel.accessAllowed ? 'block' : 'none';\n",
       "        })();\n",
       "      </script>\n",
       "    </div>\n",
       "\n",
       "    </div>\n",
       "  </div>\n"
      ],
      "text/plain": [
       "                                           headlines  \\\n",
       "0  upGrad learner switches to career in ML & Al w...   \n",
       "1  Delhi techie wins free food from Swiggy for on...   \n",
       "2  New Zealand end Rohit Sharma-led India's 12-ma...   \n",
       "3  Aegon life iTerm insurance plan helps customer...   \n",
       "4  Have known Hirani for yrs, what if MeToo claim...   \n",
       "\n",
       "                                                text  \n",
       "0  Saurav Kant, an alumnus of upGrad and IIIT-B's...  \n",
       "1  Kunal Shah's credit card bill payment platform...  \n",
       "2  New Zealand defeated India by 8 wickets in the...  \n",
       "3  With Aegon Life iTerm Insurance plan, customer...  \n",
       "4  Speaking about the sexual harassment allegatio...  "
      ]
     },
     "execution_count": 10,
     "metadata": {},
     "output_type": "execute_result"
    }
   ],
   "source": [
    "data.head()"
   ]
  },
  {
   "cell_type": "code",
   "execution_count": 13,
   "metadata": {
    "colab": {
     "base_uri": "https://localhost:8080/"
    },
    "id": "Fra1jc0W339d",
    "outputId": "baaef9b8-b919-4f98-bcc5-be5c3ffcb3c6"
   },
   "outputs": [
    {
     "name": "stdout",
     "output_type": "stream",
     "text": [
      "text 열에서 중복을 배제한 유일한 샘플의 수 : 98360\n",
      "headline 열에서 중복을 배제한 유일한 샘플의 수 : 98280\n"
     ]
    }
   ],
   "source": [
    "print('text 열에서 중복을 배제한 유일한 샘플의 수 :', data['text'].nunique())\n",
    "print('headline 열에서 중복을 배제한 유일한 샘플의 수 :', data['headlines'].nunique())"
   ]
  },
  {
   "cell_type": "code",
   "execution_count": 14,
   "metadata": {
    "colab": {
     "base_uri": "https://localhost:8080/"
    },
    "id": "segn-SLw4ALY",
    "outputId": "0ad98624-a09a-4ea9-fd93-34b0e116c558"
   },
   "outputs": [
    {
     "name": "stdout",
     "output_type": "stream",
     "text": [
      "전체 샘플수 : 98360\n"
     ]
    }
   ],
   "source": [
    "# inplace=True 를 설정하면 DataFrame 타입 값을 return 하지 않고 data 내부를 직접적으로 바꿉니다\n",
    "data.drop_duplicates(subset = ['text'], inplace=True)\n",
    "print('전체 샘플수 :', (len(data)))"
   ]
  },
  {
   "cell_type": "code",
   "execution_count": 15,
   "metadata": {
    "colab": {
     "base_uri": "https://localhost:8080/"
    },
    "id": "_9xanX1T4O8t",
    "outputId": "9ba4292c-8817-4424-b13e-5880d6aae434"
   },
   "outputs": [
    {
     "name": "stdout",
     "output_type": "stream",
     "text": [
      "headlines    0\n",
      "text         0\n",
      "dtype: int64\n"
     ]
    }
   ],
   "source": [
    "print(data.isnull().sum())"
   ]
  },
  {
   "cell_type": "code",
   "execution_count": 16,
   "metadata": {
    "colab": {
     "base_uri": "https://localhost:8080/"
    },
    "id": "p2yDEUtZ_GKX",
    "outputId": "c2bc59d2-af60-4030-9f19-8cd9c60e066f"
   },
   "outputs": [
    {
     "name": "stdout",
     "output_type": "stream",
     "text": [
      "정규화 사전의 수:  120\n"
     ]
    }
   ],
   "source": [
    "contractions = {\"ain't\": \"is not\", \"aren't\": \"are not\",\"can't\": \"cannot\", \"'cause\": \"because\", \"could've\": \"could have\", \"couldn't\": \"could not\",\n",
    "                           \"didn't\": \"did not\",  \"doesn't\": \"does not\", \"don't\": \"do not\", \"hadn't\": \"had not\", \"hasn't\": \"has not\", \"haven't\": \"have not\",\n",
    "                           \"he'd\": \"he would\",\"he'll\": \"he will\", \"he's\": \"he is\", \"how'd\": \"how did\", \"how'd'y\": \"how do you\", \"how'll\": \"how will\", \"how's\": \"how is\",\n",
    "                           \"I'd\": \"I would\", \"I'd've\": \"I would have\", \"I'll\": \"I will\", \"I'll've\": \"I will have\",\"I'm\": \"I am\", \"I've\": \"I have\", \"i'd\": \"i would\",\n",
    "                           \"i'd've\": \"i would have\", \"i'll\": \"i will\",  \"i'll've\": \"i will have\",\"i'm\": \"i am\", \"i've\": \"i have\", \"isn't\": \"is not\", \"it'd\": \"it would\",\n",
    "                           \"it'd've\": \"it would have\", \"it'll\": \"it will\", \"it'll've\": \"it will have\",\"it's\": \"it is\", \"let's\": \"let us\", \"ma'am\": \"madam\",\n",
    "                           \"mayn't\": \"may not\", \"might've\": \"might have\",\"mightn't\": \"might not\",\"mightn't've\": \"might not have\", \"must've\": \"must have\",\n",
    "                           \"mustn't\": \"must not\", \"mustn't've\": \"must not have\", \"needn't\": \"need not\", \"needn't've\": \"need not have\",\"o'clock\": \"of the clock\",\n",
    "                           \"oughtn't\": \"ought not\", \"oughtn't've\": \"ought not have\", \"shan't\": \"shall not\", \"sha'n't\": \"shall not\", \"shan't've\": \"shall not have\",\n",
    "                           \"she'd\": \"she would\", \"she'd've\": \"she would have\", \"she'll\": \"she will\", \"she'll've\": \"she will have\", \"she's\": \"she is\",\n",
    "                           \"should've\": \"should have\", \"shouldn't\": \"should not\", \"shouldn't've\": \"should not have\", \"so've\": \"so have\",\"so's\": \"so as\",\n",
    "                           \"this's\": \"this is\",\"that'd\": \"that would\", \"that'd've\": \"that would have\", \"that's\": \"that is\", \"there'd\": \"there would\",\n",
    "                           \"there'd've\": \"there would have\", \"there's\": \"there is\", \"here's\": \"here is\",\"they'd\": \"they would\", \"they'd've\": \"they would have\",\n",
    "                           \"they'll\": \"they will\", \"they'll've\": \"they will have\", \"they're\": \"they are\", \"they've\": \"they have\", \"to've\": \"to have\",\n",
    "                           \"wasn't\": \"was not\", \"we'd\": \"we would\", \"we'd've\": \"we would have\", \"we'll\": \"we will\", \"we'll've\": \"we will have\", \"we're\": \"we are\",\n",
    "                           \"we've\": \"we have\", \"weren't\": \"were not\", \"what'll\": \"what will\", \"what'll've\": \"what will have\", \"what're\": \"what are\",\n",
    "                           \"what's\": \"what is\", \"what've\": \"what have\", \"when's\": \"when is\", \"when've\": \"when have\", \"where'd\": \"where did\", \"where's\": \"where is\",\n",
    "                           \"where've\": \"where have\", \"who'll\": \"who will\", \"who'll've\": \"who will have\", \"who's\": \"who is\", \"who've\": \"who have\",\n",
    "                           \"why's\": \"why is\", \"why've\": \"why have\", \"will've\": \"will have\", \"won't\": \"will not\", \"won't've\": \"will not have\",\n",
    "                           \"would've\": \"would have\", \"wouldn't\": \"would not\", \"wouldn't've\": \"would not have\", \"y'all\": \"you all\",\n",
    "                           \"y'all'd\": \"you all would\",\"y'all'd've\": \"you all would have\",\"y'all're\": \"you all are\",\"y'all've\": \"you all have\",\n",
    "                           \"you'd\": \"you would\", \"you'd've\": \"you would have\", \"you'll\": \"you will\", \"you'll've\": \"you will have\",\n",
    "                           \"you're\": \"you are\", \"you've\": \"you have\"}\n",
    "\n",
    "print(\"정규화 사전의 수: \", len(contractions))"
   ]
  },
  {
   "cell_type": "code",
   "execution_count": 17,
   "metadata": {
    "colab": {
     "base_uri": "https://localhost:8080/"
    },
    "id": "xnj5jZo0_IKR",
    "outputId": "8fc1c624-e1d2-4fa9-b292-4f4e253be955"
   },
   "outputs": [
    {
     "name": "stdout",
     "output_type": "stream",
     "text": [
      "불용어 개수 : 198\n",
      "['a', 'about', 'above', 'after', 'again', 'against', 'ain', 'all', 'am', 'an', 'and', 'any', 'are', 'aren', \"aren't\", 'as', 'at', 'be', 'because', 'been', 'before', 'being', 'below', 'between', 'both', 'but', 'by', 'can', 'couldn', \"couldn't\", 'd', 'did', 'didn', \"didn't\", 'do', 'does', 'doesn', \"doesn't\", 'doing', 'don', \"don't\", 'down', 'during', 'each', 'few', 'for', 'from', 'further', 'had', 'hadn', \"hadn't\", 'has', 'hasn', \"hasn't\", 'have', 'haven', \"haven't\", 'having', 'he', \"he'd\", \"he'll\", 'her', 'here', 'hers', 'herself', \"he's\", 'him', 'himself', 'his', 'how', 'i', \"i'd\", 'if', \"i'll\", \"i'm\", 'in', 'into', 'is', 'isn', \"isn't\", 'it', \"it'd\", \"it'll\", \"it's\", 'its', 'itself', \"i've\", 'just', 'll', 'm', 'ma', 'me', 'mightn', \"mightn't\", 'more', 'most', 'mustn', \"mustn't\", 'my', 'myself', 'needn', \"needn't\", 'no', 'nor', 'not', 'now', 'o', 'of', 'off', 'on', 'once', 'only', 'or', 'other', 'our', 'ours', 'ourselves', 'out', 'over', 'own', 're', 's', 'same', 'shan', \"shan't\", 'she', \"she'd\", \"she'll\", \"she's\", 'should', 'shouldn', \"shouldn't\", \"should've\", 'so', 'some', 'such', 't', 'than', 'that', \"that'll\", 'the', 'their', 'theirs', 'them', 'themselves', 'then', 'there', 'these', 'they', \"they'd\", \"they'll\", \"they're\", \"they've\", 'this', 'those', 'through', 'to', 'too', 'under', 'until', 'up', 've', 'very', 'was', 'wasn', \"wasn't\", 'we', \"we'd\", \"we'll\", \"we're\", 'were', 'weren', \"weren't\", \"we've\", 'what', 'when', 'where', 'which', 'while', 'who', 'whom', 'why', 'will', 'with', 'won', \"won't\", 'wouldn', \"wouldn't\", 'y', 'you', \"you'd\", \"you'll\", 'your', \"you're\", 'yours', 'yourself', 'yourselves', \"you've\"]\n"
     ]
    }
   ],
   "source": [
    "print('불용어 개수 :', len(stopwords.words('english') ))\n",
    "print(stopwords.words('english'))"
   ]
  },
  {
   "cell_type": "code",
   "execution_count": 19,
   "metadata": {
    "id": "ivFEh5b-_K2N"
   },
   "outputs": [],
   "source": [
    "# 데이터 전처리 함수\n",
    "def preprocess_sentence(sentence, remove_stopwords=True):\n",
    "    sentence = sentence.lower() # 텍스트 소문자화\n",
    "    sentence = BeautifulSoup(sentence, \"lxml\").text # <br />, <a href = ...> 등의 html 태그 제거\n",
    "    sentence = re.sub(r'\\([^)]*\\)', '', sentence) # 괄호로 닫힌 문자열 (...) 제거 Ex) my husband (and myself!) for => my husband for\n",
    "    sentence = re.sub('\"','', sentence) # 쌍따옴표 \" 제거\n",
    "    sentence = ' '.join([contractions[t] if t in contractions else t for t in sentence.split(\" \")]) # 약어 정규화\n",
    "    sentence = re.sub(r\"'s\\b\",\"\", sentence) # 소유격 제거. Ex) roland's -> roland\n",
    "    sentence = re.sub(\"[^a-zA-Z]\", \" \", sentence) # 영어 외 문자(숫자, 특수문자 등) 공백으로 변환\n",
    "    sentence = re.sub('[m]{2,}', 'mm', sentence) # m이 3개 이상이면 2개로 변경. Ex) ummmmmmm yeah -> umm yeah\n",
    "\n",
    "    # 불용어 제거 (Text)\n",
    "    if remove_stopwords:\n",
    "        tokens = ' '.join(word for word in sentence.split() if not word in stopwords.words('english') if len(word) > 1)\n",
    "    # 불용어 미제거 (headlines)\n",
    "    else:\n",
    "        tokens = ' '.join(word for word in sentence.split() if len(word) > 1)\n",
    "    return tokens"
   ]
  },
  {
   "cell_type": "code",
   "execution_count": 22,
   "metadata": {
    "colab": {
     "base_uri": "https://localhost:8080/"
    },
    "id": "10W4_J8x_Oda",
    "outputId": "eee659e8-b543-418f-e44a-e44df6ef22e4"
   },
   "outputs": [
    {
     "name": "stdout",
     "output_type": "stream",
     "text": [
      "text 전처리 후 결과:  ['saurav kant alumnus upgrad iiit pg program machine learning artificial intelligence sr systems engineer infosys almost years work experience program upgrad degree career support helped transition data scientist tech mahindra salary hike upgrad online power learning powered lakh careers', 'kunal shah credit card bill payment platform cred gave users chance win free food swiggy one year pranav kaushik delhi techie bagged reward spending cred coins users get one cred coin per rupee bill paid used avail rewards brands like ixigo bookmyshow ubereats cult fit', 'new zealand defeated india wickets fourth odi hamilton thursday win first match five match odi series india lost international match rohit sharma captaincy consecutive victories dating back march match witnessed india getting seventh lowest total odi cricket history', 'aegon life iterm insurance plan customers enjoy tax benefits premiums paid save taxes plan provides life cover age years also customers options insure critical illnesses disability accidental death benefit rider life cover age years', 'speaking sexual harassment allegations rajkumar hirani sonam kapoor said known hirani many years true metoo movement get derailed metoo movement always believe woman case need reserve judgment added hirani accused assistant worked sanju']\n"
     ]
    }
   ],
   "source": [
    "# 전체 Text 데이터에 대한 전처리 : 10분 이상 시간이 걸릴 수 있습니다.\n",
    "clean_text = []\n",
    "\n",
    "for sentence in data['text']:\n",
    "    clean_text.append(preprocess_sentence(sentence))\n",
    "\n",
    "# 전처리 후 출력\n",
    "print(\"text 전처리 후 결과: \", clean_text[:5])"
   ]
  },
  {
   "cell_type": "code",
   "execution_count": 23,
   "metadata": {
    "colab": {
     "base_uri": "https://localhost:8080/"
    },
    "id": "EF0gyD3b_uwu",
    "outputId": "00b1f120-1bb0-4c40-95f4-0fc15b8d88e1"
   },
   "outputs": [
    {
     "name": "stdout",
     "output_type": "stream",
     "text": [
      "headlines 전처리 후 결과:  ['upgrad learner switches to career in ml al with salary hike', 'delhi techie wins free food from swiggy for one year on cred', 'new zealand end rohit sharma led india match winning streak', 'aegon life iterm insurance plan helps customers save tax', 'have known hirani for yrs what if metoo claims are not true sonam']\n"
     ]
    }
   ],
   "source": [
    "# 전체 headlines 데이터에 대한 전처리 : 5분 이상 시간이 걸릴 수 있습니다.\n",
    "clean_headlines = []\n",
    "\n",
    "for sentence in data['headlines']:\n",
    "    clean_headlines.append(preprocess_sentence(sentence, remove_stopwords=False))\n",
    "\n",
    "print(\"headlines 전처리 후 결과: \", clean_headlines[:5])"
   ]
  },
  {
   "cell_type": "code",
   "execution_count": 24,
   "metadata": {
    "colab": {
     "base_uri": "https://localhost:8080/"
    },
    "id": "l3yz4-_kBdQ5",
    "outputId": "f3cf3395-e342-4476-b9e2-5baec1c23e44"
   },
   "outputs": [
    {
     "name": "stdout",
     "output_type": "stream",
     "text": [
      "=3\n"
     ]
    }
   ],
   "source": [
    "data['text'] = clean_text\n",
    "data['headlines'] = clean_headlines\n",
    "\n",
    "# 빈 값을 Null 값으로 변환\n",
    "data.replace('', np.nan, inplace=True)\n",
    "print('=3')"
   ]
  },
  {
   "cell_type": "code",
   "execution_count": 25,
   "metadata": {
    "colab": {
     "base_uri": "https://localhost:8080/",
     "height": 147
    },
    "id": "4E0nYQXABjcm",
    "outputId": "15d1bbd2-c3b4-4d29-ae5e-48831a135d69"
   },
   "outputs": [
    {
     "data": {
      "text/html": [
       "<div>\n",
       "<style scoped>\n",
       "    .dataframe tbody tr th:only-of-type {\n",
       "        vertical-align: middle;\n",
       "    }\n",
       "\n",
       "    .dataframe tbody tr th {\n",
       "        vertical-align: top;\n",
       "    }\n",
       "\n",
       "    .dataframe thead th {\n",
       "        text-align: right;\n",
       "    }\n",
       "</style>\n",
       "<table border=\"1\" class=\"dataframe\">\n",
       "  <thead>\n",
       "    <tr style=\"text-align: right;\">\n",
       "      <th></th>\n",
       "      <th>0</th>\n",
       "    </tr>\n",
       "  </thead>\n",
       "  <tbody>\n",
       "    <tr>\n",
       "      <th>headlines</th>\n",
       "      <td>0</td>\n",
       "    </tr>\n",
       "    <tr>\n",
       "      <th>text</th>\n",
       "      <td>0</td>\n",
       "    </tr>\n",
       "  </tbody>\n",
       "</table>\n",
       "</div><br><label><b>dtype:</b> int64</label>"
      ],
      "text/plain": [
       "headlines    0\n",
       "text         0\n",
       "dtype: int64"
      ]
     },
     "execution_count": 25,
     "metadata": {},
     "output_type": "execute_result"
    }
   ],
   "source": [
    "data.isnull().sum()"
   ]
  },
  {
   "cell_type": "code",
   "execution_count": 28,
   "metadata": {
    "colab": {
     "base_uri": "https://localhost:8080/",
     "height": 1000
    },
    "id": "_KHwpVDaBjre",
    "outputId": "04e65423-57bc-4e24-bf49-09407eeb1992"
   },
   "outputs": [
    {
     "name": "stdout",
     "output_type": "stream",
     "text": [
      "텍스트의 최소 길이 : 1\n",
      "텍스트의 최대 길이 : 60\n",
      "텍스트의 평균 길이 : 35.09968483123221\n",
      "요약의 최소 길이 : 1\n",
      "요약의 최대 길이 : 16\n",
      "요약의 평균 길이 : 9.299532330215534\n"
     ]
    },
    {
     "data": {
      "image/png": "[encoded data removed]",
      "text/plain": [
       "<Figure size 640x480 with 2 Axes>"
      ]
     },
     "metadata": {},
     "output_type": "display_data"
    },
    {
     "data": {
      "image/png": "[encoded data removed]",
      "text/plain": [
       "<Figure size 640x480 with 1 Axes>"
      ]
     },
     "metadata": {},
     "output_type": "display_data"
    },
    {
     "data": {
      "image/png": "[encoded data removed]",
      "text/plain": [
       "<Figure size 640x480 with 1 Axes>"
      ]
     },
     "metadata": {},
     "output_type": "display_data"
    }
   ],
   "source": [
    "# 길이 분포 출력\n",
    "import matplotlib.pyplot as plt\n",
    "\n",
    "text_len = [len(s.split()) for s in data['text']]\n",
    "headlines_len = [len(s.split()) for s in data['headlines']]\n",
    "\n",
    "print('텍스트의 최소 길이 : {}'.format(np.min(text_len)))\n",
    "print('텍스트의 최대 길이 : {}'.format(np.max(text_len)))\n",
    "print('텍스트의 평균 길이 : {}'.format(np.mean(text_len)))\n",
    "print('요약의 최소 길이 : {}'.format(np.min(headlines_len)))\n",
    "print('요약의 최대 길이 : {}'.format(np.max(headlines_len)))\n",
    "print('요약의 평균 길이 : {}'.format(np.mean(headlines_len)))\n",
    "\n",
    "plt.subplot(1,2,1)\n",
    "plt.boxplot(text_len)\n",
    "plt.title('Text')\n",
    "plt.subplot(1,2,2)\n",
    "plt.boxplot(headlines_len)\n",
    "plt.title('headlines')\n",
    "plt.tight_layout()\n",
    "plt.show()\n",
    "\n",
    "plt.title('Text')\n",
    "plt.hist(text_len, bins = 40)\n",
    "plt.xlabel('length of samples')\n",
    "plt.ylabel('number of samples')\n",
    "plt.show()\n",
    "\n",
    "plt.title('headlines')\n",
    "plt.hist(headlines_len, bins = 40)\n",
    "plt.xlabel('length of samples')\n",
    "plt.ylabel('number of samples')\n",
    "plt.show()"
   ]
  },
  {
   "cell_type": "code",
   "execution_count": 29,
   "metadata": {
    "colab": {
     "base_uri": "https://localhost:8080/"
    },
    "id": "GNmy6ipGCKvJ",
    "outputId": "a8728e81-80f0-4bed-ef9e-8ce80c480f7d"
   },
   "outputs": [
    {
     "name": "stdout",
     "output_type": "stream",
     "text": [
      "=3\n"
     ]
    }
   ],
   "source": [
    "text_max_len = 45\n",
    "headlines_max_len = 14\n",
    "print('=3')"
   ]
  },
  {
   "cell_type": "code",
   "execution_count": 30,
   "metadata": {
    "colab": {
     "base_uri": "https://localhost:8080/"
    },
    "id": "cj9l9FxiCiTj",
    "outputId": "5b2edb8e-f5d6-4108-b82e-20d3963ce5ba"
   },
   "outputs": [
    {
     "name": "stdout",
     "output_type": "stream",
     "text": [
      "=3\n"
     ]
    }
   ],
   "source": [
    "def below_threshold_len(max_len, nested_list):\n",
    "  cnt = 0\n",
    "  for s in nested_list:\n",
    "    if(len(s.split()) <= max_len):\n",
    "        cnt = cnt + 1\n",
    "  print('전체 샘플 중 길이가 %s 이하인 샘플의 비율: %s'%(max_len, (cnt / len(nested_list))))\n",
    "print('=3')"
   ]
  },
  {
   "cell_type": "code",
   "execution_count": 32,
   "metadata": {
    "colab": {
     "base_uri": "https://localhost:8080/"
    },
    "id": "WY9sjI6BCla9",
    "outputId": "c59afcc1-62bd-4283-a3c3-dbe823a4a08d"
   },
   "outputs": [
    {
     "name": "stdout",
     "output_type": "stream",
     "text": [
      "전체 샘플 중 길이가 45 이하인 샘플의 비율: 0.9967771451809678\n",
      "전체 샘플 중 길이가 14 이하인 샘플의 비율: 0.9997763318422123\n"
     ]
    }
   ],
   "source": [
    "below_threshold_len(text_max_len, data['text'])\n",
    "below_threshold_len(headlines_max_len, data['headlines'])"
   ]
  },
  {
   "cell_type": "code",
   "execution_count": 34,
   "metadata": {
    "colab": {
     "base_uri": "https://localhost:8080/"
    },
    "id": "ECa0j9aCEHWv",
    "outputId": "cba3df9e-9a90-4c69-e5a6-e3f7dbf3a8ae"
   },
   "outputs": [
    {
     "name": "stdout",
     "output_type": "stream",
     "text": [
      "전체 샘플수 : 98021\n"
     ]
    }
   ],
   "source": [
    "data = data[data['text'].apply(lambda x: len(x.split()) <= text_max_len)]\n",
    "data = data[data['headlines'].apply(lambda x: len(x.split()) <= headlines_max_len)]\n",
    "\n",
    "print('전체 샘플수 :', (len(data)))"
   ]
  },
  {
   "cell_type": "code",
   "execution_count": 35,
   "metadata": {
    "colab": {
     "base_uri": "https://localhost:8080/",
     "height": 258
    },
    "id": "Q9AL402KCq0D",
    "outputId": "946b4f2e-c453-4cea-eaf6-92e61db0ff28"
   },
   "outputs": [
    {
     "data": {
      "application/vnd.google.colaboratory.intrinsic+json": {
       "summary": "{\n  \"name\": \"data\",\n  \"rows\": 98021,\n  \"fields\": [\n    {\n      \"column\": \"headlines\",\n      \"properties\": {\n        \"dtype\": \"string\",\n        \"num_unique_values\": 97829,\n        \"samples\": [\n          \"zlatan ibrahimovic trolls his own agent in instagram post\",\n          \"video of cop assaulting short film director goes viral\",\n          \"guess co founder paul marciano quits after kissing claims\"\n        ],\n        \"semantic_type\": \"\",\n        \"description\": \"\"\n      }\n    },\n    {\n      \"column\": \"text\",\n      \"properties\": {\n        \"dtype\": \"string\",\n        \"num_unique_values\": 97984,\n        \"samples\": [\n          \"arjun kapoor watching teaser alia bhatt ranveer singh starrer gully boy tweeted asli talent ki volcano zoya akhtar apna dil ka raja ranveer singh mini meryl alia bhatt arjun called alia mini meryl referring meryl streep academy award winning american actress nominated twenty one times\",\n          \"users reported pixel xl units displaying second virtual notch different sides display screen users claimed issue temporarily went away restarting phone changing developer settings responding reported issue google spokesperson confirmed fix coming soon\",\n          \"first full assessment risks world coffee plants found known species edge extinction due climate change deforestation diseases includes wild relative coffea arabica widely traded coffee said researchers majority commercial coffee beans blended arabica coffea robusta\"\n        ],\n        \"semantic_type\": \"\",\n        \"description\": \"\"\n      }\n    },\n    {\n      \"column\": \"decoder_input\",\n      \"properties\": {\n        \"dtype\": \"string\",\n        \"num_unique_values\": 97829,\n        \"samples\": [\n          \"sostoken zlatan ibrahimovic trolls his own agent in instagram post\",\n          \"sostoken video of cop assaulting short film director goes viral\",\n          \"sostoken guess co founder paul marciano quits after kissing claims\"\n        ],\n        \"semantic_type\": \"\",\n        \"description\": \"\"\n      }\n    },\n    {\n      \"column\": \"decoder_target\",\n      \"properties\": {\n        \"dtype\": \"string\",\n        \"num_unique_values\": 97829,\n        \"samples\": [\n          \"zlatan ibrahimovic trolls his own agent in instagram post eostoken\",\n          \"video of cop assaulting short film director goes viral eostoken\",\n          \"guess co founder paul marciano quits after kissing claims eostoken\"\n        ],\n        \"semantic_type\": \"\",\n        \"description\": \"\"\n      }\n    }\n  ]\n}",
       "type": "dataframe",
       "variable_name": "data"
      },
      "text/html": [
       "\n",
       "  <div id=\"df-1f07bbce-b3fb-4a22-a4b4-8d93b14c7833\" class=\"colab-df-container\">\n",
       "    <div>\n",
       "<style scoped>\n",
       "    .dataframe tbody tr th:only-of-type {\n",
       "        vertical-align: middle;\n",
       "    }\n",
       "\n",
       "    .dataframe tbody tr th {\n",
       "        vertical-align: top;\n",
       "    }\n",
       "\n",
       "    .dataframe thead th {\n",
       "        text-align: right;\n",
       "    }\n",
       "</style>\n",
       "<table border=\"1\" class=\"dataframe\">\n",
       "  <thead>\n",
       "    <tr style=\"text-align: right;\">\n",
       "      <th></th>\n",
       "      <th>headlines</th>\n",
       "      <th>text</th>\n",
       "      <th>decoder_input</th>\n",
       "      <th>decoder_target</th>\n",
       "    </tr>\n",
       "  </thead>\n",
       "  <tbody>\n",
       "    <tr>\n",
       "      <th>0</th>\n",
       "      <td>upgrad learner switches to career in ml al wit...</td>\n",
       "      <td>saurav kant alumnus upgrad iiit pg program mac...</td>\n",
       "      <td>sostoken upgrad learner switches to career in ...</td>\n",
       "      <td>upgrad learner switches to career in ml al wit...</td>\n",
       "    </tr>\n",
       "    <tr>\n",
       "      <th>1</th>\n",
       "      <td>delhi techie wins free food from swiggy for on...</td>\n",
       "      <td>kunal shah credit card bill payment platform c...</td>\n",
       "      <td>sostoken delhi techie wins free food from swig...</td>\n",
       "      <td>delhi techie wins free food from swiggy for on...</td>\n",
       "    </tr>\n",
       "    <tr>\n",
       "      <th>2</th>\n",
       "      <td>new zealand end rohit sharma led india match w...</td>\n",
       "      <td>new zealand defeated india wickets fourth odi ...</td>\n",
       "      <td>sostoken new zealand end rohit sharma led indi...</td>\n",
       "      <td>new zealand end rohit sharma led india match w...</td>\n",
       "    </tr>\n",
       "    <tr>\n",
       "      <th>3</th>\n",
       "      <td>aegon life iterm insurance plan helps customer...</td>\n",
       "      <td>aegon life iterm insurance plan customers enjo...</td>\n",
       "      <td>sostoken aegon life iterm insurance plan helps...</td>\n",
       "      <td>aegon life iterm insurance plan helps customer...</td>\n",
       "    </tr>\n",
       "    <tr>\n",
       "      <th>4</th>\n",
       "      <td>have known hirani for yrs what if metoo claims...</td>\n",
       "      <td>speaking sexual harassment allegations rajkuma...</td>\n",
       "      <td>sostoken have known hirani for yrs what if met...</td>\n",
       "      <td>have known hirani for yrs what if metoo claims...</td>\n",
       "    </tr>\n",
       "  </tbody>\n",
       "</table>\n",
       "</div>\n",
       "    <div class=\"colab-df-buttons\">\n",
       "\n",
       "  <div class=\"colab-df-container\">\n",
       "    <button class=\"colab-df-convert\" onclick=\"convertToInteractive('df-1f07bbce-b3fb-4a22-a4b4-8d93b14c7833')\"\n",
       "            title=\"Convert this dataframe to an interactive table.\"\n",
       "            style=\"display:none;\">\n",
       "\n",
       "  <svg xmlns=\"http://www.w3.org/2000/svg\" height=\"24px\" viewBox=\"0 -960 960 960\">\n",
       "    <path d=\"M120-120v-720h720v720H120Zm60-500h600v-160H180v160Zm220 220h160v-160H400v160Zm0 220h160v-160H400v160ZM180-400h160v-160H180v160Zm440 0h160v-160H620v160ZM180-180h160v-160H180v160Zm440 0h160v-160H620v160Z\"/>\n",
       "  </svg>\n",
       "    </button>\n",
       "\n",
       "  <style>\n",
       "    .colab-df-container {\n",
       "      display:flex;\n",
       "      gap: 12px;\n",
       "    }\n",
       "\n",
       "    .colab-df-convert {\n",
       "      background-color: #E8F0FE;\n",
       "      border: none;\n",
       "      border-radius: 50%;\n",
       "      cursor: pointer;\n",
       "      display: none;\n",
       "      fill: #1967D2;\n",
       "      height: 32px;\n",
       "      padding: 0 0 0 0;\n",
       "      width: 32px;\n",
       "    }\n",
       "\n",
       "    .colab-df-convert:hover {\n",
       "      background-color: #E2EBFA;\n",
       "      box-shadow: 0px 1px 2px rgba(60, 64, 67, 0.3), 0px 1px 3px 1px rgba(60, 64, 67, 0.15);\n",
       "      fill: #174EA6;\n",
       "    }\n",
       "\n",
       "    .colab-df-buttons div {\n",
       "      margin-bottom: 4px;\n",
       "    }\n",
       "\n",
       "    [theme=dark] .colab-df-convert {\n",
       "      background-color: #3B4455;\n",
       "      fill: #D2E3FC;\n",
       "    }\n",
       "\n",
       "    [theme=dark] .colab-df-convert:hover {\n",
       "      background-color: #434B5C;\n",
       "      box-shadow: 0px 1px 3px 1px rgba(0, 0, 0, 0.15);\n",
       "      filter: drop-shadow(0px 1px 2px rgba(0, 0, 0, 0.3));\n",
       "      fill: #FFFFFF;\n",
       "    }\n",
       "  </style>\n",
       "\n",
       "    <script>\n",
       "      const buttonEl =\n",
       "        document.querySelector('#df-1f07bbce-b3fb-4a22-a4b4-8d93b14c7833 button.colab-df-convert');\n",
       "      buttonEl.style.display =\n",
       "        google.colab.kernel.accessAllowed ? 'block' : 'none';\n",
       "\n",
       "      async function convertToInteractive(key) {\n",
       "        const element = document.querySelector('#df-1f07bbce-b3fb-4a22-a4b4-8d93b14c7833');\n",
       "        const dataTable =\n",
       "          await google.colab.kernel.invokeFunction('convertToInteractive',\n",
       "                                                    [key], {});\n",
       "        if (!dataTable) return;\n",
       "\n",
       "        const docLinkHtml = 'Like what you see? Visit the ' +\n",
       "          '<a target=\"_blank\" href=https://colab.research.google.com/notebooks/data_table.ipynb>data table notebook</a>'\n",
       "          + ' to learn more about interactive tables.';\n",
       "        element.innerHTML = '';\n",
       "        dataTable['output_type'] = 'display_data';\n",
       "        await google.colab.output.renderOutput(dataTable, element);\n",
       "        const docLink = document.createElement('div');\n",
       "        docLink.innerHTML = docLinkHtml;\n",
       "        element.appendChild(docLink);\n",
       "      }\n",
       "    </script>\n",
       "  </div>\n",
       "\n",
       "\n",
       "    <div id=\"df-237b6263-177f-4d19-8151-a645f1fd7755\">\n",
       "      <button class=\"colab-df-quickchart\" onclick=\"quickchart('df-237b6263-177f-4d19-8151-a645f1fd7755')\"\n",
       "                title=\"Suggest charts\"\n",
       "                style=\"display:none;\">\n",
       "\n",
       "<svg xmlns=\"http://www.w3.org/2000/svg\" height=\"24px\"viewBox=\"0 0 24 24\"\n",
       "     width=\"24px\">\n",
       "    <g>\n",
       "        <path d=\"M19 3H5c-1.1 0-2 .9-2 2v14c0 1.1.9 2 2 2h14c1.1 0 2-.9 2-2V5c0-1.1-.9-2-2-2zM9 17H7v-7h2v7zm4 0h-2V7h2v10zm4 0h-2v-4h2v4z\"/>\n",
       "    </g>\n",
       "</svg>\n",
       "      </button>\n",
       "\n",
       "<style>\n",
       "  .colab-df-quickchart {\n",
       "      --bg-color: #E8F0FE;\n",
       "      --fill-color: #1967D2;\n",
       "      --hover-bg-color: #E2EBFA;\n",
       "      --hover-fill-color: #174EA6;\n",
       "      --disabled-fill-color: #AAA;\n",
       "      --disabled-bg-color: #DDD;\n",
       "  }\n",
       "\n",
       "  [theme=dark] .colab-df-quickchart {\n",
       "      --bg-color: #3B4455;\n",
       "      --fill-color: #D2E3FC;\n",
       "      --hover-bg-color: #434B5C;\n",
       "      --hover-fill-color: #FFFFFF;\n",
       "      --disabled-bg-color: #3B4455;\n",
       "      --disabled-fill-color: #666;\n",
       "  }\n",
       "\n",
       "  .colab-df-quickchart {\n",
       "    background-color: var(--bg-color);\n",
       "    border: none;\n",
       "    border-radius: 50%;\n",
       "    cursor: pointer;\n",
       "    display: none;\n",
       "    fill: var(--fill-color);\n",
       "    height: 32px;\n",
       "    padding: 0;\n",
       "    width: 32px;\n",
       "  }\n",
       "\n",
       "  .colab-df-quickchart:hover {\n",
       "    background-color: var(--hover-bg-color);\n",
       "    box-shadow: 0 1px 2px rgba(60, 64, 67, 0.3), 0 1px 3px 1px rgba(60, 64, 67, 0.15);\n",
       "    fill: var(--button-hover-fill-color);\n",
       "  }\n",
       "\n",
       "  .colab-df-quickchart-complete:disabled,\n",
       "  .colab-df-quickchart-complete:disabled:hover {\n",
       "    background-color: var(--disabled-bg-color);\n",
       "    fill: var(--disabled-fill-color);\n",
       "    box-shadow: none;\n",
       "  }\n",
       "\n",
       "  .colab-df-spinner {\n",
       "    border: 2px solid var(--fill-color);\n",
       "    border-color: transparent;\n",
       "    border-bottom-color: var(--fill-color);\n",
       "    animation:\n",
       "      spin 1s steps(1) infinite;\n",
       "  }\n",
       "\n",
       "  @keyframes spin {\n",
       "    0% {\n",
       "      border-color: transparent;\n",
       "      border-bottom-color: var(--fill-color);\n",
       "      border-left-color: var(--fill-color);\n",
       "    }\n",
       "    20% {\n",
       "      border-color: transparent;\n",
       "      border-left-color: var(--fill-color);\n",
       "      border-top-color: var(--fill-color);\n",
       "    }\n",
       "    30% {\n",
       "      border-color: transparent;\n",
       "      border-left-color: var(--fill-color);\n",
       "      border-top-color: var(--fill-color);\n",
       "      border-right-color: var(--fill-color);\n",
       "    }\n",
       "    40% {\n",
       "      border-color: transparent;\n",
       "      border-right-color: var(--fill-color);\n",
       "      border-top-color: var(--fill-color);\n",
       "    }\n",
       "    60% {\n",
       "      border-color: transparent;\n",
       "      border-right-color: var(--fill-color);\n",
       "    }\n",
       "    80% {\n",
       "      border-color: transparent;\n",
       "      border-right-color: var(--fill-color);\n",
       "      border-bottom-color: var(--fill-color);\n",
       "    }\n",
       "    90% {\n",
       "      border-color: transparent;\n",
       "      border-bottom-color: var(--fill-color);\n",
       "    }\n",
       "  }\n",
       "</style>\n",
       "\n",
       "      <script>\n",
       "        async function quickchart(key) {\n",
       "          const quickchartButtonEl =\n",
       "            document.querySelector('#' + key + ' button');\n",
       "          quickchartButtonEl.disabled = true;  // To prevent multiple clicks.\n",
       "          quickchartButtonEl.classList.add('colab-df-spinner');\n",
       "          try {\n",
       "            const charts = await google.colab.kernel.invokeFunction(\n",
       "                'suggestCharts', [key], {});\n",
       "          } catch (error) {\n",
       "            console.error('Error during call to suggestCharts:', error);\n",
       "          }\n",
       "          quickchartButtonEl.classList.remove('colab-df-spinner');\n",
       "          quickchartButtonEl.classList.add('colab-df-quickchart-complete');\n",
       "        }\n",
       "        (() => {\n",
       "          let quickchartButtonEl =\n",
       "            document.querySelector('#df-237b6263-177f-4d19-8151-a645f1fd7755 button');\n",
       "          quickchartButtonEl.style.display =\n",
       "            google.colab.kernel.accessAllowed ? 'block' : 'none';\n",
       "        })();\n",
       "      </script>\n",
       "    </div>\n",
       "\n",
       "    </div>\n",
       "  </div>\n"
      ],
      "text/plain": [
       "                                           headlines  \\\n",
       "0  upgrad learner switches to career in ml al wit...   \n",
       "1  delhi techie wins free food from swiggy for on...   \n",
       "2  new zealand end rohit sharma led india match w...   \n",
       "3  aegon life iterm insurance plan helps customer...   \n",
       "4  have known hirani for yrs what if metoo claims...   \n",
       "\n",
       "                                                text  \\\n",
       "0  saurav kant alumnus upgrad iiit pg program mac...   \n",
       "1  kunal shah credit card bill payment platform c...   \n",
       "2  new zealand defeated india wickets fourth odi ...   \n",
       "3  aegon life iterm insurance plan customers enjo...   \n",
       "4  speaking sexual harassment allegations rajkuma...   \n",
       "\n",
       "                                       decoder_input  \\\n",
       "0  sostoken upgrad learner switches to career in ...   \n",
       "1  sostoken delhi techie wins free food from swig...   \n",
       "2  sostoken new zealand end rohit sharma led indi...   \n",
       "3  sostoken aegon life iterm insurance plan helps...   \n",
       "4  sostoken have known hirani for yrs what if met...   \n",
       "\n",
       "                                      decoder_target  \n",
       "0  upgrad learner switches to career in ml al wit...  \n",
       "1  delhi techie wins free food from swiggy for on...  \n",
       "2  new zealand end rohit sharma led india match w...  \n",
       "3  aegon life iterm insurance plan helps customer...  \n",
       "4  have known hirani for yrs what if metoo claims...  "
      ]
     },
     "execution_count": 35,
     "metadata": {},
     "output_type": "execute_result"
    }
   ],
   "source": [
    "# 요약 데이터에는 시작 토큰과 종료 토큰을 추가한다.\n",
    "data['decoder_input'] = data['headlines'].apply(lambda x : 'sostoken '+ x)\n",
    "data['decoder_target'] = data['headlines'].apply(lambda x : x + ' eostoken')\n",
    "data.head()"
   ]
  },
  {
   "cell_type": "code",
   "execution_count": 36,
   "metadata": {
    "colab": {
     "base_uri": "https://localhost:8080/"
    },
    "id": "auXr3uFsEORy",
    "outputId": "0c5a69c1-6935-41e1-eb00-2df16a3f59e8"
   },
   "outputs": [
    {
     "name": "stdout",
     "output_type": "stream",
     "text": [
      "=3\n"
     ]
    }
   ],
   "source": [
    "encoder_input = np.array(data['text']) # 인코더의 입력\n",
    "decoder_input = np.array(data['decoder_input']) # 디코더의 입력\n",
    "decoder_target = np.array(data['decoder_target']) # 디코더의 레이블\n",
    "print('=3')"
   ]
  },
  {
   "cell_type": "code",
   "execution_count": 37,
   "metadata": {
    "colab": {
     "base_uri": "https://localhost:8080/"
    },
    "id": "04U-oSfdERXc",
    "outputId": "51eecd1c-aed7-4949-d17e-f3d0183bc562"
   },
   "outputs": [
    {
     "name": "stdout",
     "output_type": "stream",
     "text": [
      "[94859 82819 89617 ... 29522 45566   673]\n"
     ]
    }
   ],
   "source": [
    "indices = np.arange(encoder_input.shape[0])\n",
    "np.random.shuffle(indices)\n",
    "print(indices)"
   ]
  },
  {
   "cell_type": "code",
   "execution_count": 39,
   "metadata": {
    "colab": {
     "base_uri": "https://localhost:8080/"
    },
    "id": "yZ1U9DgTER-d",
    "outputId": "b5cd8f7a-fc80-4bd5-cde8-e75263f79d43"
   },
   "outputs": [
    {
     "name": "stdout",
     "output_type": "stream",
     "text": [
      "=3\n"
     ]
    }
   ],
   "source": [
    "encoder_input = encoder_input[indices]\n",
    "decoder_input = decoder_input[indices]\n",
    "decoder_target = decoder_target[indices]\n",
    "print('=3')"
   ]
  },
  {
   "cell_type": "code",
   "execution_count": 40,
   "metadata": {
    "colab": {
     "base_uri": "https://localhost:8080/"
    },
    "id": "VJF0xY4NEUJ6",
    "outputId": "32d47efd-6b50-480c-c0db-52f679ff9334"
   },
   "outputs": [
    {
     "name": "stdout",
     "output_type": "stream",
     "text": [
      "테스트 데이터의 수 : 19604\n"
     ]
    }
   ],
   "source": [
    "n_of_val = int(len(encoder_input)*0.2)\n",
    "print('테스트 데이터의 수 :', n_of_val)"
   ]
  },
  {
   "cell_type": "code",
   "execution_count": 41,
   "metadata": {
    "colab": {
     "base_uri": "https://localhost:8080/"
    },
    "id": "x0LwdN0eEWFn",
    "outputId": "3d8bdaad-5fb8-454e-d0cc-fc44c3cfd7e1"
   },
   "outputs": [
    {
     "name": "stdout",
     "output_type": "stream",
     "text": [
      "훈련 데이터의 개수 : 78417\n",
      "훈련 레이블의 개수 : 78417\n",
      "테스트 데이터의 개수 : 19604\n",
      "테스트 레이블의 개수 : 19604\n"
     ]
    }
   ],
   "source": [
    "encoder_input_train = encoder_input[:-n_of_val]\n",
    "decoder_input_train = decoder_input[:-n_of_val]\n",
    "decoder_target_train = decoder_target[:-n_of_val]\n",
    "\n",
    "encoder_input_test = encoder_input[-n_of_val:]\n",
    "decoder_input_test = decoder_input[-n_of_val:]\n",
    "decoder_target_test = decoder_target[-n_of_val:]\n",
    "\n",
    "print('훈련 데이터의 개수 :', len(encoder_input_train))\n",
    "print('훈련 레이블의 개수 :', len(decoder_input_train))\n",
    "print('테스트 데이터의 개수 :', len(encoder_input_test))\n",
    "print('테스트 레이블의 개수 :', len(decoder_input_test))"
   ]
  },
  {
   "cell_type": "code",
   "execution_count": 42,
   "metadata": {
    "colab": {
     "base_uri": "https://localhost:8080/"
    },
    "id": "2_w79QlOEX0S",
    "outputId": "4129354e-38d7-4877-aa03-c3475cb1046f"
   },
   "outputs": [
    {
     "name": "stdout",
     "output_type": "stream",
     "text": [
      "=3\n"
     ]
    }
   ],
   "source": [
    "def src_tokenizer(text): # 토크나이저 정의\n",
    "    text = text.lower()  # 소문자로 변환\n",
    "    text = re.sub(r\"[^a-zA-Z0-9]+\", \" \", text)  # 특수문자 제거\n",
    "    return text.split()  # 공백 기준 토큰화\n",
    "\n",
    "def build_vocab(texts):\n",
    "    vocab = {\"<PAD>\": 0, \"<UNK>\": 1}  # 패딩과 UNK 토큰 추가\n",
    "    word_counter = Counter()\n",
    "\n",
    "    for text in texts:\n",
    "        word_counter.update(src_tokenizer(text))  # 단어 빈도수 계산\n",
    "\n",
    "    # 단어 집합 생성 (빈도가 높은 순서대로)\n",
    "    for word, _ in word_counter.most_common():\n",
    "        if word not in vocab:\n",
    "            vocab[word] = len(vocab)\n",
    "\n",
    "    return vocab\n",
    "\n",
    "src_vocab = build_vocab(encoder_input_train) # 입력된 데이터로부터 단어 집합 생성\n",
    "print('=3')"
   ]
  },
  {
   "cell_type": "code",
   "execution_count": 44,
   "metadata": {
    "colab": {
     "base_uri": "https://localhost:8080/"
    },
    "id": "xNjuguvQEd8a",
    "outputId": "e3a26158-974b-4b0b-ffb3-fb6f2a7d1c1f"
   },
   "outputs": [
    {
     "name": "stdout",
     "output_type": "stream",
     "text": [
      "단어 집합(vocabulary)의 크기 : 76017\n",
      "등장 빈도가 6번 이하인 희귀 단어의 수: 51529\n",
      "단어 집합에서 희귀 단어를 제외시킬 경우의 단어 집합의 크기 24488\n",
      "단어 집합에서 희귀 단어의 비율: 67.7861530973335\n",
      "전체 등장 빈도에서 희귀 단어 등장 빈도 비율: 3.0343343418489765\n"
     ]
    }
   ],
   "source": [
    "threshold = 7\n",
    "\n",
    "# 전처리된 데이터 사용\n",
    "text_data = data['text'].tolist()\n",
    "headlines_data = data['headlines'].tolist()\n",
    "# 단어 빈도수 계산\n",
    "word_counter = Counter()\n",
    "for text in text_data:\n",
    "    word_counter.update(text.split())\n",
    "\n",
    "total_cnt = len(word_counter)  # 전체 단어 개수\n",
    "total_freq = sum(word_counter.values())  # 전체 단어 등장 횟수\n",
    "rare_cnt = sum(1 for count in word_counter.values() if count < threshold)  # 희귀 단어 개수\n",
    "rare_freq = sum(count for count in word_counter.values() if count < threshold)  # 희귀 단어 등장 횟수\n",
    "\n",
    "# 희귀 단어를 제외한 단어 사전 구축\n",
    "vocab = {\"<PAD>\": 0, \"<UNK>\": 1}  # 패딩 및 미등록 단어 추가\n",
    "word_index = {word: idx + 2 for idx, (word, count) in enumerate(word_counter.items()) if count >= threshold}\n",
    "\n",
    "print('단어 집합(vocabulary)의 크기 :', total_cnt)\n",
    "print('등장 빈도가 %s번 이하인 희귀 단어의 수: %s'%(threshold - 1, rare_cnt))\n",
    "print('단어 집합에서 희귀 단어를 제외시킬 경우의 단어 집합의 크기 %s'%(total_cnt - rare_cnt))\n",
    "print(\"단어 집합에서 희귀 단어의 비율:\", (rare_cnt / total_cnt)*100)\n",
    "print(\"전체 등장 빈도에서 희귀 단어 등장 빈도 비율:\", (rare_freq / total_freq)*100)"
   ]
  },
  {
   "cell_type": "code",
   "execution_count": 47,
   "metadata": {
    "colab": {
     "base_uri": "https://localhost:8080/"
    },
    "id": "i4s8i29FEmle",
    "outputId": "82458d7e-579e-4114-ef65-3cd1b487baff"
   },
   "outputs": [
    {
     "name": "stdout",
     "output_type": "stream",
     "text": [
      "=3\n"
     ]
    }
   ],
   "source": [
    "src_vocab_size = 24488\n",
    "\n",
    "def build_limited_vocab(texts, vocab_size):\n",
    "    vocab = {\"<PAD>\": 0, \"<UNK>\": 1}  # 패딩과 UNK 토큰 추가\n",
    "    word_counter = Counter()\n",
    "\n",
    "    for text in texts:\n",
    "        word_counter.update(src_tokenizer(text))  # 단어 빈도수 계산\n",
    "\n",
    "    # 빈도가 높은 상위 vocab_size - 2개 단어만 선택 (PAD, UNK 포함)\n",
    "    for word, _ in word_counter.most_common(vocab_size - 2):\n",
    "        vocab[word] = len(vocab)\n",
    "\n",
    "    return vocab\n",
    "\n",
    "src_vocab = build_limited_vocab(encoder_input_train, src_vocab_size)\n",
    "print('=3')"
   ]
  },
  {
   "cell_type": "code",
   "execution_count": 48,
   "metadata": {
    "colab": {
     "base_uri": "https://localhost:8080/"
    },
    "id": "XMcPRGVyFZh7",
    "outputId": "77641867-1c17-405c-ad37-781b541b70ae"
   },
   "outputs": [
    {
     "name": "stdout",
     "output_type": "stream",
     "text": [
      "[[2390, 169, 2097, 7771, 8140, 179, 15, 857, 7439, 4187, 2321, 7, 465, 3147, 15, 185, 3147, 1, 1654, 10, 5683, 1655, 80, 14215, 16634, 1597, 9288, 2922, 1655, 2391, 131, 9640, 7, 858], [64, 1375, 117, 404, 52, 1295, 5917, 269, 64, 8658, 404, 14727, 8141, 269, 202, 1027, 1231, 504, 1601, 10, 2, 404, 241, 82, 1059, 2635, 12510, 164, 9289, 1617, 2678, 12152, 5191, 18316], [29, 46, 758, 3864, 9128, 4554, 88, 2, 40, 2829, 842, 160, 3483, 927, 3843, 739, 1111, 751, 911, 2561, 11815, 1064, 4188, 3216, 73, 105, 3, 2829, 842, 2186, 481, 416, 568]]\n",
      "[[13, 1102, 4047, 1263, 83, 994, 7353, 1263, 227, 26, 28, 92, 4043, 13, 1102, 1896, 32, 4043, 565, 1443, 2256, 2246, 1263, 242, 2252, 994, 7674, 229, 313, 815, 2246, 10025, 994, 7674, 2185], [151, 16, 111, 45, 899, 618, 157, 265, 784, 3718, 1567, 3114, 1138, 65, 4, 14, 663, 588, 50, 266, 2282, 299, 1226, 122, 115, 898, 1951, 679, 202, 541, 1175, 197, 37], [533, 3796, 29, 817, 557, 101, 665, 5488, 4001, 3602, 74, 130, 2914, 484, 993, 929, 1154, 1796, 62, 7368, 1631, 8185, 4732, 1485, 468, 267, 324, 1898, 1554, 1068, 2004, 120, 303, 326, 110, 3602, 358]]\n"
     ]
    }
   ],
   "source": [
    "def text_to_sequence(texts, vocab):\n",
    "    sequences = []\n",
    "    for text in texts:\n",
    "        sequence = [vocab.get(word, vocab[\"<UNK>\"]) for word in src_tokenizer(text)]\n",
    "        sequences.append(sequence)\n",
    "    return sequences\n",
    "\n",
    "# 텍스트 데이터 정수 시퀀스로 변환\n",
    "encoder_input_train_seq = text_to_sequence(encoder_input_train, src_vocab)\n",
    "encoder_input_test_seq = text_to_sequence(encoder_input_test, src_vocab)\n",
    "\n",
    "# 잘 진행되었는지 샘플 출력\n",
    "print(encoder_input_train_seq[:3])\n",
    "print(encoder_input_test_seq[:3])"
   ]
  },
  {
   "cell_type": "code",
   "execution_count": 49,
   "metadata": {
    "colab": {
     "base_uri": "https://localhost:8080/"
    },
    "id": "nlI3BU8aFcSB",
    "outputId": "de374bbc-0050-4b94-fc66-4397660f7fe9"
   },
   "outputs": [
    {
     "name": "stdout",
     "output_type": "stream",
     "text": [
      "=3\n"
     ]
    }
   ],
   "source": [
    "def tar_tokenizer(text):\n",
    "    text = text.lower()  # 소문자로 변환\n",
    "    text = re.sub(r\"[^a-zA-Z0-9]+\", \" \", text)  # 특수문자 제거\n",
    "    return text.split()  # 공백 기준 토큰화\n",
    "\n",
    "tar_vocab = build_vocab(decoder_input_train)\n",
    "print('=3')"
   ]
  },
  {
   "cell_type": "code",
   "execution_count": 50,
   "metadata": {
    "colab": {
     "base_uri": "https://localhost:8080/"
    },
    "id": "A235A73wFekt",
    "outputId": "ddf71fad-b744-4737-d75c-57968869e3d9"
   },
   "outputs": [
    {
     "name": "stdout",
     "output_type": "stream",
     "text": [
      "단어 집합(vocabulary)의 크기 : 29975\n",
      "등장 빈도가 6번 이하인 희귀 단어의 수: 20483\n",
      "단어 집합에서 희귀 단어를 제외시킬 경우의 단어 집합의 크기 9492\n",
      "단어 집합에서 희귀 단어의 비율: 68.33361134278564\n",
      "전체 등장 빈도에서 희귀 단어 등장 빈도 비율: 5.323066787857473\n"
     ]
    }
   ],
   "source": [
    "threshold = 7\n",
    "\n",
    "word_counter = Counter()\n",
    "for text in decoder_input_train:\n",
    "    word_counter.update(tar_tokenizer(text))  # 각 문장의 단어 빈도 계산\n",
    "\n",
    "# 전체 단어 개수 및 등장 빈도 계산\n",
    "total_cnt = len(word_counter)  # 전체 단어 개수\n",
    "total_freq = sum(word_counter.values())  # 전체 단어 등장 횟수\n",
    "rare_cnt = sum(1 for count in word_counter.values() if count < threshold)  # 희귀 단어 개수\n",
    "rare_freq = sum(count for count in word_counter.values() if count < threshold)  # 희귀 단어 등장 횟수\n",
    "\n",
    "print('단어 집합(vocabulary)의 크기 :', total_cnt)\n",
    "print('등장 빈도가 %s번 이하인 희귀 단어의 수: %s'%(threshold - 1, rare_cnt))\n",
    "print('단어 집합에서 희귀 단어를 제외시킬 경우의 단어 집합의 크기 %s'%(total_cnt - rare_cnt))\n",
    "print(\"단어 집합에서 희귀 단어의 비율:\", (rare_cnt / total_cnt)*100)\n",
    "print(\"전체 등장 빈도에서 희귀 단어 등장 빈도 비율:\", (rare_freq / total_freq)*100)"
   ]
  },
  {
   "cell_type": "code",
   "execution_count": 51,
   "metadata": {
    "colab": {
     "base_uri": "https://localhost:8080/"
    },
    "id": "Ozf5sRGCFhRj",
    "outputId": "dfd25466-99aa-4944-9132-d11e3273832d"
   },
   "outputs": [
    {
     "name": "stdout",
     "output_type": "stream",
     "text": [
      "input\n",
      "input  [[2, 2875, 348, 1518, 4401, 2930, 9, 3093, 825], [2, 894, 45, 272, 371, 6, 540, 642, 197], [2, 13, 2026, 132, 44, 405, 209, 12, 15, 1, 5727], [2, 510, 629, 4, 1695, 727, 7232, 8, 3764, 53], [2, 8795, 1, 1, 5, 377, 4, 21, 532, 14]]\n",
      "target\n",
      "decoder  [[2875, 348, 1518, 4401, 2930, 9, 3093, 825, 3], [894, 45, 272, 371, 6, 540, 642, 197, 3], [13, 2026, 132, 44, 405, 209, 12, 15, 1, 5727, 3], [510, 629, 4, 1695, 727, 7232, 8, 3764, 53, 3], [8795, 1, 1, 5, 377, 4, 21, 532, 14, 3]]\n"
     ]
    }
   ],
   "source": [
    "tar_vocab_size = 9492\n",
    "tar_vocab = build_limited_vocab(decoder_input_train + decoder_target_train, tar_vocab_size)\n",
    "\n",
    "# 텍스트 시퀀스를 정수 시퀀스로 변환\n",
    "decoder_input_train_seq = text_to_sequence(decoder_input_train, tar_vocab)\n",
    "decoder_target_train_seq = text_to_sequence(decoder_target_train, tar_vocab)\n",
    "decoder_input_test_seq = text_to_sequence(decoder_input_test, tar_vocab)\n",
    "decoder_target_test_seq = text_to_sequence(decoder_target_test, tar_vocab)\n",
    "\n",
    "# 잘 변환되었는지 확인\n",
    "print('input')\n",
    "print('input ',decoder_input_train_seq[:5])\n",
    "print('target')\n",
    "print('decoder ',decoder_target_train_seq[:5])"
   ]
  },
  {
   "cell_type": "code",
   "execution_count": 52,
   "metadata": {
    "colab": {
     "base_uri": "https://localhost:8080/"
    },
    "id": "0NomLc-wF2j8",
    "outputId": "3b3411c8-38d9-42a5-c9b1-595ce53b9faa"
   },
   "outputs": [
    {
     "name": "stdout",
     "output_type": "stream",
     "text": [
      "삭제할 훈련 데이터의 개수 : 0\n",
      "삭제할 테스트 데이터의 개수 : 0\n",
      "훈련 데이터의 개수 : 78417\n",
      "훈련 레이블의 개수 : 78417\n",
      "테스트 데이터의 개수 : 19604\n",
      "테스트 레이블의 개수 : 19604\n"
     ]
    }
   ],
   "source": [
    "drop_train = [index for index, sentence in enumerate(decoder_input_train) if len(sentence) == 1]\n",
    "drop_test = [index for index, sentence in enumerate(decoder_input_test) if len(sentence) == 1]\n",
    "\n",
    "print('삭제할 훈련 데이터의 개수 :', len(drop_train))\n",
    "print('삭제할 테스트 데이터의 개수 :', len(drop_test))\n",
    "\n",
    "encoder_input_train = [sentence for index, sentence in enumerate(encoder_input_train) if index not in drop_train]\n",
    "decoder_input_train = [sentence for index, sentence in enumerate(decoder_input_train) if index not in drop_train]\n",
    "decoder_target_train = [sentence for index, sentence in enumerate(decoder_target_train) if index not in drop_train]\n",
    "\n",
    "encoder_input_test = [sentence for index, sentence in enumerate(encoder_input_test) if index not in drop_test]\n",
    "decoder_input_test = [sentence for index, sentence in enumerate(decoder_input_test) if index not in drop_test]\n",
    "decoder_target_test = [sentence for index, sentence in enumerate(decoder_target_test) if index not in drop_test]\n",
    "\n",
    "print('훈련 데이터의 개수 :', len(encoder_input_train))\n",
    "print('훈련 레이블의 개수 :', len(decoder_input_train))\n",
    "print('테스트 데이터의 개수 :', len(encoder_input_test))\n",
    "print('테스트 레이블의 개수 :', len(decoder_input_test))"
   ]
  },
  {
   "cell_type": "code",
   "execution_count": 54,
   "metadata": {
    "colab": {
     "base_uri": "https://localhost:8080/"
    },
    "id": "utlsFGXIGajj",
    "outputId": "86c16623-f1cb-40b2-f695-adcadace25fd"
   },
   "outputs": [
    {
     "name": "stdout",
     "output_type": "stream",
     "text": [
      "=3\n"
     ]
    }
   ],
   "source": [
    "from torch.nn.utils.rnn import pad_sequence\n",
    "\n",
    "# 텐서 변환 함수 (리스트 → PyTorch 텐서)\n",
    "def convert_to_tensor(sequences):\n",
    "    return [torch.tensor(seq, dtype=torch.long) for seq in sequences]\n",
    "\n",
    "# 패딩 적용 함수 (PyTorch `pad_sequence()` 활용)\n",
    "def pad_sequences_pytorch(sequences, maxlen, padding_value=0):\n",
    "    sequences = convert_to_tensor(sequences)  # 리스트를 텐서로 변환\n",
    "    padded_seqs = pad_sequence(sequences, batch_first=True, padding_value=padding_value)  # 패딩 적용\n",
    "    return padded_seqs[:, :maxlen]  # maxlen 길이로 자르기 (최대 길이 초과 방지)\n",
    "\n",
    "# 패딩 적용\n",
    "encoder_input_train = pad_sequences_pytorch(encoder_input_train_seq, maxlen=text_max_len)\n",
    "encoder_input_test = pad_sequences_pytorch(encoder_input_test_seq, maxlen=text_max_len)\n",
    "decoder_input_train = pad_sequences_pytorch(decoder_input_train_seq, maxlen=headlines_max_len)\n",
    "decoder_target_train = pad_sequences_pytorch(decoder_target_train_seq, maxlen=headlines_max_len)\n",
    "decoder_input_test = pad_sequences_pytorch(decoder_input_test_seq, maxlen=headlines_max_len)\n",
    "decoder_target_test = pad_sequences_pytorch(decoder_target_test_seq, maxlen=headlines_max_len)\n",
    "\n",
    "print('=3')"
   ]
  },
  {
   "cell_type": "markdown",
   "metadata": {
    "id": "Fu21exxSJDw_"
   },
   "source": [
    "# 모델"
   ]
  },
  {
   "cell_type": "code",
   "execution_count": 55,
   "metadata": {
    "id": "yVR32h9eIkvW"
   },
   "outputs": [],
   "source": [
    "import torch.nn as nn\n",
    "import torch.nn.functional as F\n",
    "\n",
    "# 인코더 설계 시작\n",
    "embedding_dim = 128\n",
    "hidden_size = 256\n",
    "src_vocab_size = len(src_vocab)  # 단어 집합 크기\n",
    "\n",
    "# 인코더\n",
    "class Encoder(nn.Module):\n",
    "    def __init__(self, vocab_size, embedding_dim, hidden_size, num_layers=3, dropout=0.4):\n",
    "        super(Encoder, self).__init__()\n",
    "        self.embedding = nn.Embedding(vocab_size, embedding_dim)\n",
    "        self.lstm = nn.LSTM(\n",
    "            embedding_dim, hidden_size, num_layers=num_layers,\n",
    "            dropout=dropout, batch_first=True\n",
    "        )\n",
    "\n",
    "    def forward(self, x): # 인코더의 임베딩 층\n",
    "        embedded = self.embedding(x)\n",
    "        output, (hidden, cell) = self.lstm(embedded)  # LSTM 실행\n",
    "        return output, hidden, cell\n",
    "\n",
    "# 인코더 모델 생성\n",
    "encoder = Encoder(src_vocab_size, embedding_dim, hidden_size, num_layers=3, dropout=0.4)"
   ]
  },
  {
   "cell_type": "code",
   "execution_count": 56,
   "metadata": {
    "id": "WBQ2RHNhJGok"
   },
   "outputs": [],
   "source": [
    "# 디코더 설계\n",
    "class Decoder(nn.Module):\n",
    "    def __init__(self, vocab_size, embedding_dim, hidden_size, dropout=0.4, num_layers=3):\n",
    "        super(Decoder, self).__init__()\n",
    "        self.embedding = nn.Embedding(vocab_size, embedding_dim)\n",
    "        self.lstm = nn.LSTM(\n",
    "            embedding_dim, hidden_size, num_layers=num_layers, dropout=dropout,\n",
    "            batch_first=True\n",
    "        )\n",
    "\n",
    "    def forward(self, x, hidden, cell): # 디코더의 임베딩 층\n",
    "        embedded = self.embedding(x)\n",
    "        output, (hidden, cell) = self.lstm(embedded, (hidden, cell))  # 초기 상태를 인코더에서 전달받음\n",
    "        return output, hidden, cell\n",
    "\n",
    "# 디코더 모델 생성\n",
    "decoder = Decoder(tar_vocab_size, embedding_dim, hidden_size, num_layers=3, dropout=0.4)"
   ]
  },
  {
   "cell_type": "code",
   "execution_count": 57,
   "metadata": {
    "colab": {
     "base_uri": "https://localhost:8080/"
    },
    "id": "1v_j3YSvJIIG",
    "outputId": "e9e128ff-9284-4076-fd94-b43809ed9d04"
   },
   "outputs": [
    {
     "name": "stdout",
     "output_type": "stream",
     "text": [
      "Seq2Seq(\n",
      "  (encoder): Encoder(\n",
      "    (embedding): Embedding(24488, 128)\n",
      "    (lstm): LSTM(128, 256, num_layers=3, batch_first=True, dropout=0.4)\n",
      "  )\n",
      "  (decoder): Decoder(\n",
      "    (embedding): Embedding(9492, 128)\n",
      "    (lstm): LSTM(128, 256, num_layers=3, batch_first=True, dropout=0.4)\n",
      "  )\n",
      "  (softmax_layer): Linear(in_features=256, out_features=9492, bias=True)\n",
      ")\n"
     ]
    }
   ],
   "source": [
    "# 디코더의 출력층\n",
    "class Seq2Seq(nn.Module):\n",
    "    def __init__(self, encoder, decoder, vocab_size):\n",
    "        super(Seq2Seq, self).__init__()\n",
    "        self.encoder = encoder\n",
    "        self.decoder = decoder\n",
    "        self.softmax_layer = nn.Linear(hidden_size, vocab_size)  # 출력층 정의\n",
    "\n",
    "    def forward(self, encoder_input, decoder_input):\n",
    "        # 인코더 실행\n",
    "        encoder_output, hidden, cell = self.encoder(encoder_input)\n",
    "\n",
    "        # 디코더 실행\n",
    "        decoder_output, _, _ = self.decoder(decoder_input, hidden, cell)\n",
    "\n",
    "        # 출력층 적용 (Softmax는 Loss 내부에서 적용되므로 생략 가능)\n",
    "        output = self.softmax_layer(decoder_output)\n",
    "        return output\n",
    "\n",
    "# 모델 정의\n",
    "model = Seq2Seq(encoder, decoder, tar_vocab_size)\n",
    "print(model)"
   ]
  },
  {
   "cell_type": "code",
   "execution_count": 58,
   "metadata": {
    "colab": {
     "base_uri": "https://localhost:8080/"
    },
    "id": "09HJNe8ZJJqI",
    "outputId": "6eb71037-d778-4a42-9284-762943bd9978"
   },
   "outputs": [
    {
     "name": "stdout",
     "output_type": "stream",
     "text": [
      "Seq2SeqWithAttention(\n",
      "  (encoder): Encoder(\n",
      "    (embedding): Embedding(24488, 128)\n",
      "    (lstm): LSTM(128, 256, num_layers=3, batch_first=True, dropout=0.4)\n",
      "  )\n",
      "  (decoder): Decoder(\n",
      "    (embedding): Embedding(9492, 128)\n",
      "    (lstm): LSTM(128, 256, num_layers=3, batch_first=True, dropout=0.4)\n",
      "  )\n",
      "  (attention): Attention_dot(\n",
      "    (attn): Linear(in_features=256, out_features=256, bias=True)\n",
      "    (v): Linear(in_features=256, out_features=1, bias=False)\n",
      "  )\n",
      "  (concat): Linear(in_features=512, out_features=256, bias=True)\n",
      "  (output_layer): Linear(in_features=256, out_features=9492, bias=True)\n",
      ")\n"
     ]
    }
   ],
   "source": [
    "class Attention_dot(nn.Module):\n",
    "    def __init__(self, hidden_size):\n",
    "        super(Attention_dot, self).__init__()\n",
    "        self.attn = nn.Linear(hidden_size, hidden_size)  # 어텐션 가중치\n",
    "        self.v = nn.Linear(hidden_size, 1, bias=False)  # 어텐션 가중치 벡터\n",
    "\n",
    "    def forward(self, decoder_output, encoder_outputs):\n",
    "        attn_weights = torch.bmm(decoder_output, encoder_outputs.transpose(1, 2))\n",
    "        attn_weights = F.softmax(attn_weights, dim=-1)  # 어텐션 가중치 정규화\n",
    "        attn_out = torch.bmm(attn_weights, encoder_outputs)\n",
    "\n",
    "        return attn_out\n",
    "\n",
    "class Seq2SeqWithAttention(nn.Module):\n",
    "    def __init__(self, encoder, decoder, vocab_size, hidden_size):\n",
    "        super(Seq2SeqWithAttention, self).__init__()\n",
    "        self.encoder = encoder\n",
    "        self.decoder = decoder\n",
    "        self.attention = Attention_dot(hidden_size)\n",
    "        self.concat = nn.Linear(hidden_size * 2, hidden_size)  # 어텐션 결합\n",
    "        self.output_layer = nn.Linear(hidden_size, vocab_size)  # 최종 출력층\n",
    "\n",
    "    def forward(self, encoder_input, decoder_input):\n",
    "        encoder_outputs, hidden, cell = self.encoder(encoder_input)\n",
    "        decoder_outputs, _, _ = self.decoder(decoder_input, hidden, cell)\n",
    "\n",
    "        # 어텐션 적용\n",
    "        attn_out = self.attention(decoder_outputs, encoder_outputs)\n",
    "\n",
    "        # 어텐션 결과와 디코더 출력 연결\n",
    "        decoder_concat_output = torch.cat((decoder_outputs, attn_out), dim=-1)\n",
    "\n",
    "        # 어텐션 결합 후 최종 출력\n",
    "        decoder_concat_output = torch.tanh(self.concat(decoder_concat_output))\n",
    "        output = self.output_layer(decoder_concat_output)\n",
    "\n",
    "        return output\n",
    "\n",
    "# 모델 생성\n",
    "model = Seq2SeqWithAttention(encoder, decoder, tar_vocab_size, hidden_size)\n",
    "print(model)"
   ]
  },
  {
   "cell_type": "markdown",
   "metadata": {
    "id": "s8WnacyfJMOt"
   },
   "source": [
    "# 모델훈련"
   ]
  },
  {
   "cell_type": "code",
   "execution_count": 59,
   "metadata": {
    "colab": {
     "base_uri": "https://localhost:8080/"
    },
    "id": "VvV0D1whJM_L",
    "outputId": "18f8beac-3a27-4697-a955-369d0b9c729f"
   },
   "outputs": [
    {
     "name": "stdout",
     "output_type": "stream",
     "text": [
      "Using device: cuda\n"
     ]
    }
   ],
   "source": [
    "import torch.optim as optim\n",
    "from torch.utils.data import DataLoader, TensorDataset\n",
    "\n",
    "device = torch.device(\"cuda\" if torch.cuda.is_available() else \"cpu\")\n",
    "print(f\"Using device: {device}\")\n",
    "model.to(device)\n",
    "\n",
    "# Hyperparameters\n",
    "batch_size = 256\n",
    "epochs = 50\n",
    "learning_rate = 0.001\n",
    "patience = 2\n",
    "\n",
    "# 손실 함수 & 옵티마이저\n",
    "criterion = nn.CrossEntropyLoss(ignore_index=0)  # 패딩 토큰 무시\n",
    "optimizer = optim.AdamW(model.parameters(), lr=learning_rate)\n",
    "\n",
    "# PyTorch DataLoader 설정\n",
    "train_dataset = TensorDataset(encoder_input_train, decoder_input_train, decoder_target_train)\n",
    "test_dataset = TensorDataset(encoder_input_test, decoder_input_test, decoder_target_test)\n",
    "\n",
    "train_loader = DataLoader(train_dataset, batch_size=batch_size, shuffle=True)\n",
    "test_loader = DataLoader(test_dataset, batch_size=batch_size, shuffle=False)"
   ]
  },
  {
   "cell_type": "code",
   "execution_count": 60,
   "metadata": {
    "id": "b6cZa1PPJRBr"
   },
   "outputs": [],
   "source": [
    "train_losses = []\n",
    "val_losses = []\n",
    "\n",
    "# 학습 함수\n",
    "def train_model(model, train_loader, test_loader, criterion, optimizer, epochs, patience):\n",
    "    model.train()\n",
    "    best_val_loss = float('inf')\n",
    "    early_stop_counter = 0\n",
    "\n",
    "    for epoch in range(epochs):\n",
    "        total_loss = 0\n",
    "\n",
    "        for encoder_input, decoder_input, target in train_loader:\n",
    "            optimizer.zero_grad()\n",
    "\n",
    "            # 정수형 변환\n",
    "            encoder_input = encoder_input.to(device).long()\n",
    "            decoder_input = decoder_input.to(device).long()\n",
    "            target = target.to(device).long()\n",
    "\n",
    "            # 모델 실행\n",
    "            output = model(encoder_input, decoder_input)\n",
    "            output = output.view(-1, output.shape[-1])\n",
    "            target = target.view(-1)\n",
    "\n",
    "            loss = criterion(output, target)\n",
    "            loss.backward()\n",
    "            optimizer.step()\n",
    "            total_loss += loss.item()\n",
    "\n",
    "        avg_loss = total_loss / len(train_loader)\n",
    "        train_losses.append(avg_loss)\n",
    "\n",
    "        # Validation loss 계산\n",
    "        model.eval()\n",
    "        val_loss = 0\n",
    "        with torch.no_grad():\n",
    "            for encoder_input, decoder_input, target in test_loader:\n",
    "                encoder_input = encoder_input.to(device).long()\n",
    "                decoder_input = decoder_input.to(device).long()\n",
    "                target = target.to(device).long()\n",
    "\n",
    "                output = model(encoder_input, decoder_input)\n",
    "                output = output.view(-1, output.shape[-1])\n",
    "                target = target.view(-1)\n",
    "                loss = criterion(output, target)\n",
    "\n",
    "                val_loss += loss.item()\n",
    "\n",
    "        val_loss /= len(test_loader)\n",
    "        val_losses.append(val_loss)\n",
    "        print(f\"Epoch {epoch+1}/{epochs} | Train Loss: {avg_loss:.4f} | Val Loss: {val_loss:.4f}\")\n",
    "\n",
    "        # Early Stopping 조건\n",
    "        if val_loss < best_val_loss:\n",
    "            best_val_loss = val_loss\n",
    "            early_stop_counter = 0\n",
    "        else:\n",
    "            early_stop_counter += 1\n",
    "\n",
    "        if early_stop_counter >= patience:\n",
    "            print(f\"Early stopping triggered at epoch {epoch+1}\")\n",
    "            break\n",
    "\n",
    "        model.train()"
   ]
  },
  {
   "cell_type": "code",
   "execution_count": 61,
   "metadata": {
    "colab": {
     "base_uri": "https://localhost:8080/"
    },
    "id": "_d3lgtj5JZMN",
    "outputId": "98155a3b-3524-4cfb-cdc1-2f77239e76eb"
   },
   "outputs": [
    {
     "name": "stdout",
     "output_type": "stream",
     "text": [
      "Epoch 1/50 | Train Loss: 6.7982 | Val Loss: 6.4986\n",
      "Epoch 2/50 | Train Loss: 6.3486 | Val Loss: 6.0984\n",
      "Epoch 3/50 | Train Loss: 5.9228 | Val Loss: 5.6768\n",
      "Epoch 4/50 | Train Loss: 5.4950 | Val Loss: 5.3383\n",
      "Epoch 5/50 | Train Loss: 5.1699 | Val Loss: 5.1132\n",
      "Epoch 6/50 | Train Loss: 4.9116 | Val Loss: 4.9386\n",
      "Epoch 7/50 | Train Loss: 4.6945 | Val Loss: 4.8045\n",
      "Epoch 8/50 | Train Loss: 4.5088 | Val Loss: 4.6932\n",
      "Epoch 9/50 | Train Loss: 4.3424 | Val Loss: 4.6122\n",
      "Epoch 10/50 | Train Loss: 4.1943 | Val Loss: 4.5486\n",
      "Epoch 11/50 | Train Loss: 4.0610 | Val Loss: 4.4964\n",
      "Epoch 12/50 | Train Loss: 3.9401 | Val Loss: 4.4694\n",
      "Epoch 13/50 | Train Loss: 3.8271 | Val Loss: 4.4348\n",
      "Epoch 14/50 | Train Loss: 3.7240 | Val Loss: 4.4095\n",
      "Epoch 15/50 | Train Loss: 3.6279 | Val Loss: 4.4018\n",
      "Epoch 16/50 | Train Loss: 3.5393 | Val Loss: 4.3917\n",
      "Epoch 17/50 | Train Loss: 3.4550 | Val Loss: 4.3936\n",
      "Epoch 18/50 | Train Loss: 3.3734 | Val Loss: 4.3896\n",
      "Epoch 19/50 | Train Loss: 3.2984 | Val Loss: 4.3884\n",
      "Epoch 20/50 | Train Loss: 3.2263 | Val Loss: 4.4021\n",
      "Epoch 21/50 | Train Loss: 3.1596 | Val Loss: 4.4157\n",
      "Early stopping triggered at epoch 21\n",
      "CPU times: user 7min 46s, sys: 973 ms, total: 7min 47s\n",
      "Wall time: 8min 14s\n"
     ]
    }
   ],
   "source": [
    "%%time\n",
    "# 30분 이상 시간이 걸릴 수 있습니다. GPU 환경에서 학습하는 것을 권장합니다.\n",
    "# 학습 실행\n",
    "train_model(model, train_loader, test_loader, criterion, optimizer, epochs=epochs, patience=patience)"
   ]
  },
  {
   "cell_type": "code",
   "execution_count": 62,
   "metadata": {
    "colab": {
     "base_uri": "https://localhost:8080/",
     "height": 472
    },
    "id": "CPaxcCDBJcgP",
    "outputId": "bbde9abf-f065-4b62-e6e9-4cef7cd018f9"
   },
   "outputs": [
    {
     "data": {
      "image/png": "[encoded data removed]",
      "text/plain": [
       "<Figure size 640x480 with 1 Axes>"
      ]
     },
     "metadata": {},
     "output_type": "display_data"
    }
   ],
   "source": [
    "plt.plot(range(len(train_losses)), train_losses, label='Train Loss')\n",
    "plt.plot(range(len(val_losses)), val_losses, label='Validation Loss')\n",
    "plt.legend()\n",
    "plt.xlabel(\"Epochs\")\n",
    "plt.ylabel(\"Loss\")\n",
    "plt.title(\"Training and Validation Loss\")\n",
    "plt.show()"
   ]
  },
  {
   "cell_type": "markdown",
   "metadata": {
    "id": "v1f5gH83Mm2S"
   },
   "source": [
    "10 에포크 이후 train loss는 계속해서 감소하지만, val loss는 최저점을 찍고 미세하게 상승하여 early stopping이 작동함"
   ]
  },
  {
   "cell_type": "markdown",
   "metadata": {
    "id": "5l2OGssMJhYo"
   },
   "source": [
    "# 어텐션 메커니즘 사용하기 (추상적 요약)"
   ]
  },
  {
   "cell_type": "code",
   "execution_count": 63,
   "metadata": {
    "colab": {
     "base_uri": "https://localhost:8080/"
    },
    "id": "gO2UI38JJivw",
    "outputId": "5859b521-baa8-4bb9-d803-1031f5edd25f"
   },
   "outputs": [
    {
     "name": "stdout",
     "output_type": "stream",
     "text": [
      "=3\n"
     ]
    }
   ],
   "source": [
    "src_index_to_word = {idx: word for word, idx in src_vocab.items()} # 원문 단어 집합에서 정수 -> 단어를 얻음\n",
    "tar_word_to_index = tar_vocab # 요약 단어 집합에서 단어 -> 정수를 얻음\n",
    "tar_index_to_word = {idx: word for word, idx in tar_vocab.items()} # 요약 단어 집합에서 정수 -> 단어를 얻음\n",
    "\n",
    "print('=3')"
   ]
  },
  {
   "cell_type": "code",
   "execution_count": 64,
   "metadata": {
    "colab": {
     "base_uri": "https://localhost:8080/"
    },
    "id": "GTN-Xu8gJoOX",
    "outputId": "c6ffd048-fcad-4ed4-8183-c9d4398867df"
   },
   "outputs": [
    {
     "name": "stdout",
     "output_type": "stream",
     "text": [
      "=3\n"
     ]
    }
   ],
   "source": [
    "device = torch.device(\"cuda\" if torch.cuda.is_available() else \"cpu\")\n",
    "decoder.to(device)\n",
    "\n",
    "# 인코더 설계\n",
    "def encode_input(encoder, input_seq):\n",
    "    encoder_outputs, hidden, cell = encoder(input_seq)\n",
    "    return encoder_outputs, hidden, cell\n",
    "\n",
    "# 이전 시점의 상태들을 저장하는 텐서\n",
    "num_layers = 3  # 디코더 LSTM 레이어 개수 (설정에 맞춰 조정)\n",
    "batch_size = 1\n",
    "\n",
    "decoder_state_input_h = torch.zeros((num_layers, batch_size, hidden_size), dtype=torch.float, device=device)\n",
    "decoder_state_input_c = torch.zeros((num_layers, batch_size, hidden_size), dtype=torch.float, device=device)\n",
    "decoder_input = torch.zeros((batch_size, 1), dtype=torch.long, device=device)\n",
    "\n",
    "dec_emb2 = decoder.embedding(decoder_input)\n",
    "\n",
    "# 문장의 다음 단어를 예측하기 위해서 초기 상태(initial_state)를 이전 시점의 상태로 사용. 이는 뒤의 함수 decode_sequence()에 구현\n",
    "# 훈련 과정에서와 달리 LSTM의 리턴하는 은닉 상태와 셀 상태인 state_h와 state_c를 버리지 않음.\n",
    "decoder_outputs2, state_h2, state_c2 = decoder(decoder_input, decoder_state_input_h, decoder_state_input_c)\n",
    "\n",
    "print('=3')"
   ]
  },
  {
   "cell_type": "code",
   "execution_count": 65,
   "metadata": {
    "colab": {
     "base_uri": "https://localhost:8080/"
    },
    "id": "q9GadAafJpyp",
    "outputId": "1e64a7f5-335f-4679-823c-763a49ea6788"
   },
   "outputs": [
    {
     "name": "stdout",
     "output_type": "stream",
     "text": [
      "=3\n"
     ]
    }
   ],
   "source": [
    "class DecoderWithAttention(nn.Module):\n",
    "    def __init__(self, decoder, attention, hidden_size, vocab_size):\n",
    "        super(DecoderWithAttention, self).__init__()\n",
    "        self.decoder = decoder  # 기존 디코더\n",
    "        self.attention = attention  # 어텐션 레이어\n",
    "        self.concat = nn.Linear(hidden_size * 2, hidden_size)  # 어텐션 결합 레이어\n",
    "        self.output_layer = nn.Linear(hidden_size, vocab_size)  # 최종 출력층\n",
    "        self.softmax = nn.Softmax(dim=-1)  # 소프트맥스\n",
    "\n",
    "    def forward(self, decoder_inputs, decoder_hidden_state, decoder_state_h, decoder_state_c):\n",
    "        # 디코더 실행\n",
    "        decoder_outputs, state_h, state_c = self.decoder(decoder_inputs, decoder_state_h, decoder_state_c)\n",
    "\n",
    "        # 어텐션 적용\n",
    "        attn_out = self.attention(decoder_outputs, decoder_hidden_state)\n",
    "\n",
    "        # 어텐션과 디코더 출력 결합\n",
    "        decoder_concat_output = torch.cat((decoder_outputs, attn_out), dim=-1)\n",
    "        decoder_concat_output = torch.tanh(self.concat(decoder_concat_output))\n",
    "\n",
    "        # 최종 출력층 적용\n",
    "        decoder_outputs2 = self.softmax(self.output_layer(decoder_concat_output))\n",
    "\n",
    "        return decoder_outputs2, state_h, state_c\n",
    "\n",
    "# 기존 Attention 클래스 사용\n",
    "attention_layer = Attention_dot(hidden_size)\n",
    "\n",
    "# 디코더 모델 생성\n",
    "decoder_model = DecoderWithAttention(decoder, attention_layer, hidden_size, tar_vocab_size)\n",
    "print('=3')"
   ]
  },
  {
   "cell_type": "code",
   "execution_count": 66,
   "metadata": {
    "colab": {
     "base_uri": "https://localhost:8080/"
    },
    "id": "HEhWu9CBJrRN",
    "outputId": "e819101d-1226-4012-b97e-aaa1680d0d5a"
   },
   "outputs": [
    {
     "name": "stdout",
     "output_type": "stream",
     "text": [
      "=3\n"
     ]
    }
   ],
   "source": [
    "def decode_sequence(input_seq, encoder, decoder, tar_word_to_index, tar_index_to_word, text_max_len, headlines_max_len, device):\n",
    "    # 입력을 PyTorch Tensor로 변환\n",
    "    input_seq = torch.tensor(input_seq, dtype=torch.long, device=device)\n",
    "\n",
    "    # 인코더 실행하여 초기 상태(hidden, cell) 얻기\n",
    "    with torch.no_grad():\n",
    "        e_out, e_h, e_c = encoder(input_seq)\n",
    "\n",
    "    e_out = e_out.repeat(1, text_max_len, 1)  # 차원 조정 (np.tile 대신 repeat 사용)\n",
    "\n",
    "    # <SOS>에 해당하는 토큰 생성\n",
    "    target_seq = torch.zeros((1, 1), dtype=torch.long, device=device)\n",
    "    target_seq[0, 0] = tar_word_to_index['sostoken']\n",
    "\n",
    "    stop_condition = False\n",
    "    decoded_sentence = ''\n",
    "\n",
    "    while not stop_condition:\n",
    "        # 디코더 실행\n",
    "        with torch.no_grad():\n",
    "            output_tokens, h, c = decoder(target_seq, e_h, e_c)\n",
    "\n",
    "        # 가장 높은 확률을 가진 단어 선택\n",
    "        sampled_token_index = torch.argmax(output_tokens[0, -1, :]).item()\n",
    "        sampled_token = tar_index_to_word[sampled_token_index]\n",
    "\n",
    "        if sampled_token != 'eostoken':\n",
    "            decoded_sentence += ' ' + sampled_token\n",
    "\n",
    "        # 종료 조건: <eos>에 도달하거나 최대 길이를 초과하면 중단\n",
    "        if sampled_token == 'eostoken' or len(decoded_sentence.split()) >= (headlines_max_len - 1):\n",
    "            stop_condition = True\n",
    "\n",
    "        # 길이가 1인 타겟 시퀀스를 업데이트\n",
    "        target_seq = torch.zeros((1, 1), dtype=torch.long, device=device)\n",
    "        target_seq[0, 0] = sampled_token_index\n",
    "\n",
    "        # 상태 업데이트\n",
    "        e_h, e_c = h, c\n",
    "\n",
    "    return decoded_sentence\n",
    "print(\"=3\")"
   ]
  },
  {
   "cell_type": "markdown",
   "metadata": {
    "id": "nYUBcxX7KA6h"
   },
   "source": [
    "# 모델 평가"
   ]
  },
  {
   "cell_type": "code",
   "execution_count": null,
   "metadata": {
    "collapsed": true,
    "id": "_VqnHq1EKDxm",
    "jupyter": {
     "outputs_hidden": true
    }
   },
   "outputs": [],
   "source": [
    "# 원문의 정수 시퀀스를 텍스트 시퀀스로 변환\n",
    "def seq2text(input_seq):\n",
    "    temp = ''\n",
    "    for i in input_seq:\n",
    "        key = int(i.item())  # PyTorch Tensor → int 변환\n",
    "        if key != 0:  # 패딩(0) 제외\n",
    "            temp = temp + src_index_to_word.get(key, \"<UNK>\") + ' '  # 안전한 조회\n",
    "    return temp.strip()\n",
    "\n",
    "# 요약문의 정수 시퀀스를 텍스트 시퀀스로 변환\n",
    "def seq2headlines(input_seq):\n",
    "    temp = ''\n",
    "    for i in input_seq:\n",
    "        key = int(i.item())  # PyTorch Tensor → int 변환\n",
    "        if key != 0 and key != tar_word_to_index['sostoken'] and key != tar_word_to_index['eostoken']:\n",
    "            temp = temp + tar_index_to_word.get(key, \"<UNK>\") + ' '  # 안전한 조회\n",
    "    return temp.strip()  # 양쪽 공백 제거\n",
    "\n",
    "print('=3')"
   ]
  },
  {
   "cell_type": "code",
   "execution_count": 70,
   "metadata": {
    "colab": {
     "base_uri": "https://localhost:8080/"
    },
    "id": "tWbZ1EREKGOY",
    "outputId": "320409c9-c12e-48fb-fd13-61f141338830"
   },
   "outputs": [
    {
     "name": "stdout",
     "output_type": "stream",
     "text": [
      "원문 : following rcb loss csk saturday rcb captain virat kohli said ms dhoni form ipl great sign indian cricket everyone likes see strike ball way played well happy added dhoni slammed sixes ipl ipl season\n",
      "실제 요약 : dhoni ipl form great sign for indian cricket kohli\n",
      "예측 요약 :  time time time time without without can becomes can becomes can becomes girl\n",
      "\n",
      "\n",
      "원문 : third incident many days four armed militants stormed bank kashmir pulwama district tuesday escaped around lakh cash hunt launched arrest culprits official said earlier week militants attacked bank cash van shot dead five policemen two bank security guards\n",
      "실제 요약 : militants escape with in another bank robbery in kashmir\n",
      "예측 요약 :  family airport dead dead dead dead dead dead dead dead dead my man\n",
      "\n",
      "\n",
      "원문 : indian railways declared plans add women strength railway protection force next year vacancies sub inspector level reserved women vacancies constable level reserved women\n",
      "실제 요약 : railway protection force posts to be <UNK> for women\n",
      "예측 요약 :  party pm pm pm pm pm twitter air air air air air air\n",
      "\n",
      "\n",
      "원문 : israel cut another million un contribution year response anti israel resolutions passed un human rights council israel foreign ministry said wednesday funds diverted development projects friendly countries officials said israel earlier withdrew million expected million contribution un year\n",
      "실제 요약 : israel <UNK> un funding more by million over bias\n",
      "예측 요약 :  cup win win can without can go can becomes can becomes crore girl\n",
      "\n",
      "\n",
      "원문 : former world number one test bowler kagiso rabada revealed toughest batsman ever bowled indian captain virat kohli kohli top ranked test odi batsman scored runs three match test series south africa earlier year notably rabada ranked second tests fourth odi rankings among bowlers\n",
      "실제 요약 : kohli the toughest batsman have bowled to sa rabada\n",
      "예측 요약 :  pm pm pm pm pm pm pm pm pm pm pm does hits\n",
      "\n",
      "\n",
      "원문 : supreme court ruled woman file complaint ex husband committing cruelty domestic violence law even securing divorce sc refused interfere rajasthan high court order held absence domestic relationship stop court providing relief affected woman\n",
      "실제 요약 : domestic violence complaint can be filed after divorce sc\n",
      "예측 요약 :  off time time can without without can can can can can am can\n",
      "\n",
      "\n",
      "원문 : south africa reportedly deploy military police guard water collection sites cape town city runs water city expected face day zero may taps would turned water <UNK> residents provided litres water day collection sites\n",
      "실제 요약 : africa to deploy military to guard water collection sites\n",
      "예측 요약 :  party lakh lakh lakh into killed due pic now court more reports girl\n",
      "\n",
      "\n",
      "원문 : greece accused russia meddling internal affairs attempting bribe officials amid strained relations two nations greece russia expelled diplomats past months greece accused russia attempting sabotage deal macedonia would pave way country join nato\n",
      "실제 요약 : greece accuses russia of meddling in its internal affairs\n",
      "예측 요약 :  google state free china china china air killed dead court on wins set\n",
      "\n",
      "\n",
      "원문 : salary cap ipl franchise raised crore ipl auction crore previous auction kings xi punjab maximum amount spend crore followed delhi capitals spend crore kings xi punjab also slots available fill\n",
      "실제 요약 : how much money can each team spend in the ipl auction today\n",
      "예측 요약 :  prez google an up air killed day pic now air killed now set\n",
      "\n",
      "\n",
      "원문 : year old accused killing people rifle school florida us blamed demon voice head massacre <UNK> cruz said constant battle voice told burn kill destroy said attempted suicide two months attack\n",
      "실제 요약 : florida shooter blames demon in his head for killing\n",
      "예측 요약 :  off win family family family family family family crore girl girl with with\n",
      "\n",
      "\n",
      "원문 : mumbai terror attacks mastermind hafiz saeed aide maulana <UNK> claimed pakistan intelligence agency isi behind ill treatment family kulbhushan jadhav pakistan forced jadhav mother wife remove bindi mangalsutra recent meeting former indian navy officer sentenced death pakistani court alleged espionage\n",
      "실제 요약 : isi behind ill treatment of jadhav kin hafiz saeed aide\n",
      "예측 요약 :  time time time family family family family family family girl girl girl with\n",
      "\n",
      "\n",
      "원문 : kashmiri youth gave militancy returned home friday following appeals mother senior police official said earlier jammu kashmir cm mehbooba mufti said four kashmiri youths gave militancy crpf launched helpline allow state youth discard militancy return mainstream\n",
      "실제 요약 : kashmiri youth gives up militancy after mother appeal\n",
      "예측 요약 :  off win can without we world can can can we launch flight girl\n",
      "\n",
      "\n",
      "원문 : england ben stokes alex hales named england squad upcoming odi series australia months suspended involvement brawl outside pub bristol video emerged showing stokes punching man outside bristol pub following provisionally suspended effectively becoming unavailable ongoing ashes\n",
      "실제 요약 : stokes named in england odi squad months after pub incident\n",
      "예측 요약 :  car day lakh without without we on reports pay pic now crore with\n",
      "\n",
      "\n",
      "원문 : hair salon <UNK> germany offers neck massage python named <UNK> <UNK> mode team salon <UNK> frank <UNK> says <UNK> body comprised muscles making python ideal <UNK> massage complimentary customers expected make small donation towards python meals\n",
      "실제 요약 : german hair <UNK> offers snake massage\n",
      "예측 요약 :  google google an an an an an an us air killed pay now\n",
      "\n",
      "\n",
      "원문 : tourist refused remove smelly feet <UNK> bus seat year old thailand claimed said asked many times put feet would would done country video taken approximately hour bangkok <UNK> journey gone viral\n",
      "실제 요약 : video tourist refuses to move <UNK> feet off <UNK>\n",
      "예측 요약 :  google day dead dead dead dead dead air killed people court crore with\n",
      "\n",
      "\n",
      "원문 : game thrones replied elon musk cyborg dragon tweet saying bend knee house targaryen billionaire responded make use space lasers user said ing time someone built cyborg dragon musk replied know <UNK> market\n",
      "실제 요약 : do not make me use my space <UNK> musk to game of thrones\n",
      "예측 요약 :  billion out out pay without without no no no its its its us\n",
      "\n",
      "\n",
      "원문 : facebook tuesday removed accounts displayed misleading political behaviour linked campaigns originating iran russia ban kind behaviour want people able trust connections make facebook ceo mark zuckerberg said twitter also removed accounts coordinated manipulation many originated iran\n",
      "실제 요약 : facebook takes down over accounts linked to iran russia\n",
      "예측 요약 :  google state free no day china air killed nd court on wins set\n",
      "\n",
      "\n",
      "원문 : cisf director general op singh said airport security force exploring technology required boarding card less system air travel start express check process aided biometrics gave example hyderabad airport wherein flyers boarding passes self service kiosks head straight express security check lane skipping check area\n",
      "실제 요약 : cisf may do away with boarding passes at airports\n",
      "예측 요약 :  cup day can shows can go can can can can world am can\n",
      "\n",
      "\n",
      "원문 : chile named best country visit next year lonely planet best travel list south korea portugal ranked second third respectively djibouti new zealand completed top five countries featured list malta georgia mauritius china south africa\n",
      "실제 요약 : chile named best country to visit in\n",
      "예측 요약 :  no win can no no up no up no up tweets now now\n",
      "\n",
      "\n",
      "원문 : man trampled death elephant reportedly trying take selfies bengaluru <UNK> biological park man three friends entered park illegally consuming alcohol reportedly went enclosures house rescued elephants sometimes display aggressive behaviour abuse faced\n",
      "실제 요약 : man killed while taking selfie with elephant in bengaluru\n",
      "예측 요약 :  google airport family family family china air killed their their air girl girl\n",
      "\n",
      "\n",
      "원문 : apple stock hit time high friday warren buffett berkshire hathaway disclosed bought additional million shares company first quarter buffett increased stake raised iphone maker market value billion according nasdaq berkshire third largest apple shareholder behind vanguard blackrock\n",
      "실제 요약 : apple hits record high after warren buffett buys mn shares\n"
     ]
    },
    {
     "name": "stderr",
     "output_type": "stream",
     "text": [
      "<timed exec>:4: UserWarning: To copy construct from a tensor, it is recommended to use sourceTensor.clone().detach() or sourceTensor.clone().detach().requires_grad_(True), rather than torch.tensor(sourceTensor).\n",
      "/tmp/ipython-input-366614501.py:3: UserWarning: To copy construct from a tensor, it is recommended to use sourceTensor.clone().detach() or sourceTensor.clone().detach().requires_grad_(True), rather than torch.tensor(sourceTensor).\n",
      "  input_seq = torch.tensor(input_seq, dtype=torch.long, device=device)\n"
     ]
    },
    {
     "name": "stdout",
     "output_type": "stream",
     "text": [
      "예측 요약 :  prez day free no day day day court state air wins set people\n",
      "\n",
      "\n",
      "원문 : wheelchair bound passenger tuesday claimed allowed board bengaluru kolkata air india flight december man said told airline staff wires connected battery wheelchair would need removed air india however reportedly refuted allegations harassment\n",
      "실제 요약 : air india refuses to let wheelchair bound passenger on plane\n",
      "예측 요약 :  google state air killed pay court twitter air air killed set set set\n",
      "\n",
      "\n",
      "원문 : hollywood actress emma watson announced twitter hiding copies margaret <UNK> novel <UNK> tale paris part collaboration book <UNK> organisation hides books around cities people discover read previously dropped feminist books various women memorials women day\n",
      "실제 요약 : emma watson hides copies of the <UNK> <UNK> in paris\n",
      "예측 요약 :  google day free lakh set we world reports pay court crore makes with\n",
      "\n",
      "\n",
      "원문 : year old <UNK> bride jumped first floor house caught fire due lpg cylinder blast uttar pradesh ghaziabad monday fire spread reportedly least people inside house bride escaped fractured leg three women suffered minor burns\n",
      "실제 요약 : up bride jumps off roof of house after it catches fire\n",
      "예측 요약 :  family lakh family lakh family family family ban ban ban set with air\n",
      "\n",
      "\n",
      "원문 : reacting newton making new shortlist oscars director hansal mehta tweeted oscars oscars remains one finest films made country long time rajkummar rao lead actor newton earlier worked mehta aligarh seen upcoming film omerta\n",
      "실제 요약 : oscars or no oscars newton one of the <UNK> films mehta\n",
      "예측 요약 :  billion out out now air party hc hc new reports gets set use\n",
      "\n",
      "\n",
      "원문 : actress rani mukerji said <UNK> problem successfully hid years added conscious early life made sure worked towards lines way camouflage rani said even team unaware problem\n",
      "실제 요약 : successfully hid my <UNK> problem for yrs says rani\n",
      "예측 요약 :  time time time back back back air killed pay can world my us\n",
      "\n",
      "\n",
      "원문 : karnataka government announced allocation crore project roads within bengaluru city limits get white toppings cm siddaramaiah announced foundation laying ceremony various developmental works <UNK> mutt ward <UNK> layout assembly constituency <UNK> project ensure world class roads city said\n",
      "실제 요약 : govt announces cr for white <UNK> on luru roads\n",
      "예측 요약 :  cup can may day can back we world can their we on th\n",
      "\n",
      "\n",
      "원문 : google venture firm <UNK> backed mental health startup <UNK> health lost chief product officer rajesh <UNK> chief operating officer david liu last weeks <UNK> founding ceo arun gupta also replaced former chief science officer david <UNK> comes amid claims suggesting startup culture line philosophy\n",
      "실제 요약 : google backed startup loses cpo coo replaces ceo\n",
      "예측 요약 :  no win can no day can becomes no no can man launch flight\n",
      "\n",
      "\n",
      "원문 : actor amitabh bachchan took twitter share picture showed akshay kumar touching feet gesture respect wrote embarrassed akshay akshay done picture taken international film festival india akshay presented indian film personality year award bachchan\n",
      "실제 요약 : felt embarrassed big on akshay touching his feet\n",
      "예측 요약 :  billion day china china china china china china air killed dead now set\n",
      "\n",
      "\n",
      "원문 : american economist richard <UNK> awarded nobel prize economic sciences contributions behavioural economics research often cited marketing literature helps recognise marketing tricks avoid bad economic decisions nobel foundation said added <UNK> demonstrated <UNK> term coined may help people exercise better self control\n",
      "실제 요약 : american economist richard <UNK> wins nobel in economics\n",
      "예측 요약 :  cup day pic pic pic pic pic pic pic crore girl crore girl\n",
      "\n",
      "\n",
      "원문 : central bureau investigation move supreme court allahabad high court verdict acquitting rajesh nupur talwar murder case daughter aarushi domestic help hemraj cbi court convicted case sentenced life imprisonment recently hemraj wife also challenged couple acquittal\n",
      "실제 요약 : cbi to move sc against <UNK> acquittal in aarushi murder\n",
      "예측 요약 :  cup free family family family family family family family makes with with with\n",
      "\n",
      "\n",
      "원문 : uttarakhand high court wednesday declared entire animal kingdom including birds aquatic animals legal entity rights living person entity acts like natural person designated person whose acts processed within ambit law said hc hence animal kingdom could represented <UNK>\n",
      "실제 요약 : uttarakhand hc declares entire animal <UNK> as legal <UNK>\n",
      "예측 요약 :  cup win can reports launch can their can their can am crore girl\n",
      "\n",
      "\n",
      "원문 : delhi based indian angel network invested undisclosed amount american video <UNK> startup <UNK> investment reportedly part million fund startup raised last year founded <UNK> allows users set specific personalised videos phone <UNK> also lets set custom <UNK> contact\n",
      "실제 요약 : indian angel network backs us video <UNK> startup <UNK>\n",
      "예측 요약 :  party google an free free free lakh lakh court when kerala girl girl\n",
      "\n",
      "\n",
      "원문 : government wednesday said sell stake state run air india stake international subsidiary air india express government set minimum net worth criteria companies <UNK> bidding air india crore professional services firm ernst young <UNK> india sole transaction advisor disinvestment\n",
      "실제 요약 : government to sell stake in debt ridden air india\n",
      "예측 요약 :  google pm pm pm pm twitter day day court twitter air killed set\n",
      "\n",
      "\n",
      "원문 : india opener rohit sharma slammed career th odi ton th outside india fifth odi south africa tuesday ton also rohit first odis south africa previous highest odi score country rohit highest odi score outside india australia\n",
      "실제 요약 : rohit sharma slams his th odi ton st in south africa\n",
      "예측 요약 :  billion yrs raises yrs pic pic pic pic pic pic set wins my\n",
      "\n",
      "\n",
      "원문 : pm narendra modi russian president vladimir putin friday signed eight pacts including deal cooperation india first manned space mission scheduled pact reportedly incorporates russia taking indian astronauts country train mission moreover india also signed billion deal buy russia aerial defence system\n",
      "실제 요약 : pm modi russian president sign pact on manned space mission\n",
      "예측 요약 :  no win can no day can day no no no its its its\n",
      "\n",
      "\n",
      "원문 : defender jitendra singh aged years six months days became youngest goalscorer league history scoring indian arrows shillong <UNK> tuesday singh represented india world cup went past winger <UNK> bodo earlier youngest score years months days\n",
      "실제 요약 : yr old youngest <UNK> in league year history\n",
      "예측 요약 :  pic indian pic pic pic pic pic pic court pic air wins set\n",
      "\n",
      "\n",
      "원문 : ukrainian president petro poroshenko urged nato deploy naval ships sea <UNK> amid standoff russia order assist ukraine provide security russia wants nothing less occupy sea poroshenko said standoff began russia seized three ukrainian ships captured ukrainian sailors last week\n",
      "실제 요약 : ukraine asks nato to deploy ships amid standoff with russia\n",
      "예측 요약 :  win win win can without can go launch can becomes delhi when us\n",
      "\n",
      "\n",
      "원문 : uk based automobile manufacturer <UNK> motors launched <UNK> <UNK> suv india starting price crore powered litre twin <UNK> petrol engine suv develops bhp nm torque <UNK> go kmph seconds offers top speed kmph\n",
      "실제 요약 : <UNK> <UNK> suv launched in india at crore\n",
      "예측 요약 :  prez google lakh day lakh day day day lakh court kerala air killed\n",
      "\n",
      "\n",
      "원문 : veteran congress leader veerappa moily said madhur bhandarkar film emergency indu sarkar hurt <UNK> sentiments pm narendra modi wants ultimately <UNK> activities help exit bjp added moily said exit door congress always one bjp nn\n",
      "실제 요약 : indu sarkar will hurt <UNK> modi wants that congress\n",
      "예측 요약 :  billion out time air wins hc on wins set set set set set\n",
      "\n",
      "\n",
      "원문 : china tencent led billion investment country largest commercial property company wanda commercial tencent along <UNK> holdings sunac china holdings jd com acquire stake company following deal wanda commercial utilise online resources owned tencent investors\n",
      "실제 요약 : tencent leads billion investment in <UNK> commercial\n",
      "예측 요약 :  google state free who day day day day court twitter air air girl\n",
      "\n",
      "\n",
      "원문 : non bailable case filed admins kerala facebook group <UNK> <UNK> <UNK> <UNK> allegedly instigating communal trouble promoting public underage drinking people shared stories local cuisine drinks closed group lakh members reportedly booked sanctioning images people drinking burial sites\n",
      "실제 요약 : kerala facebook group booked for promoting alcohol use\n",
      "예측 요약 :  car day lakh without reports he kerala reports girl makes reports girl with\n",
      "\n",
      "\n",
      "원문 : abhishek bachchan ileana cruz star sequel film life metro per reports kareena kapoor khan arjun kapoor rajkummar rao saif ali khan also reportedly star sequel original film multi starrer cast included shilpa shetty <UNK> ahuja dharmendra nafisa ali kangana ranaut\n",
      "실제 요약 : abhishek ileana to star in life in metro sequel report\n",
      "예측 요약 :  lakh free that that reports court air up party up air air air\n",
      "\n",
      "\n",
      "원문 : us based online education startup <UNK> raised crore series funding round reported valuation crore existing investors <UNK> asset management new enterprise associates <UNK> perkins <UNK> <UNK> learn capital participated round new investor <UNK> foundation <UNK> offerings include short term courses specialised degrees\n",
      "실제 요약 : online learning startup <UNK> raises crore\n",
      "예측 요약 :  prez google lakh free lakh who twitter day who shows reports girl my\n",
      "\n",
      "\n",
      "원문 : cia director mike pompeo sunday said us president donald trump planned meeting north korean leader kim jong un theatre president trump going solve problem pompeo added however said us military exercises around korean peninsula continue lead talks\n",
      "실제 요약 : trump talks with korea not for theatre cia chief <UNK>\n",
      "예측 요약 :  time time time time air wins dies pay cup crore crore girl girl\n",
      "\n",
      "\n",
      "원문 : video surfaced online wherein locals <UNK> district pakistan occupied kashmir seen accusing pakistan security forces illegal encroachment locals standing group could heard saying right first captured estate capturing plots leave\n",
      "실제 요약 : locals in pok accuse pakistani forces of land <UNK>\n",
      "예측 요약 :  off airport airport airport pic air killed now air killed now set set\n",
      "\n",
      "\n",
      "원문 : staff construction hospital building uttar pradesh hardoi made sleep post mortem house construction building completed yet hence employees bound sleep like hardoi chief medical officer <UNK> chaturvedi said hospital construction three years scheduled ready\n",
      "실제 요약 : hospital staff made to sleep in post mortem house in up\n",
      "예측 요약 :  off win family family family family family court more data girl with with\n",
      "\n",
      "\n",
      "원문 : two kerala government officials arrested friday wayanad district allegedly embezzling relief materials meant flood victims police said residents relief camp stopped officials loading relief materials vehicle duo claimed taking materials another camp upon interrogation police found lied\n",
      "실제 요약 : kerala govt officials held for stealing relief material\n",
      "예측 요약 :  google airport dead dead dead dead dead dead dead dead dead hc hc\n",
      "\n",
      "\n",
      "원문 : actor varun dhawan star director shoojit sircar next film titled october talking film shoojit said love story box kind story unusual unconventional kind story slice life romance space notably varun first film shoojit\n",
      "실제 요약 : varun dhawan to star in shoojit <UNK> next film october\n",
      "예측 요약 :  that pm pm pm pm pm pm pm pm pm pm air air\n",
      "\n",
      "\n",
      "원문 : indian origin royal mail <UNK> sentenced months imprisonment stealing debit cards birthday voucher <UNK> singh khera stole two punjab national bank cards pin numbers withdrawing atm machines khera whose sentence suspended two years due heart condition <UNK> years\n",
      "실제 요약 : british indian <UNK> steals debit cards birthday <UNK>\n",
      "예측 요약 :  google google an us us killed pay court pic court pic makes my\n",
      "\n",
      "\n",
      "CPU times: user 388 ms, sys: 3.13 ms, total: 391 ms\n",
      "Wall time: 431 ms\n"
     ]
    }
   ],
   "source": [
    "%%time\n",
    "for i in range(50, 100):\n",
    "    print(\"원문 :\", seq2text(encoder_input_test[i]))\n",
    "    print(\"실제 요약 :\", seq2headlines(decoder_input_test[i]))\n",
    "    input_seq = torch.tensor(encoder_input_test[i], dtype=torch.long, device=device).unsqueeze(0)\n",
    "    print(\"예측 요약 :\", decode_sequence(input_seq, encoder, decoder, tar_word_to_index, tar_index_to_word, text_max_len, headlines_max_len, device))\n",
    "    print(\"\\n\")"
   ]
  },
  {
   "cell_type": "markdown",
   "metadata": {
    "id": "7P8id4QBL5H_"
   },
   "source": [
    "오류가 너무 많이 보인다 전처리 과정에서 문제가 있음을 확인했다.\n",
    "다만 실제 요약의 중요 단어가 예측 요약에서 보임을 확인했다."
   ]
  },
  {
   "cell_type": "markdown",
   "metadata": {
    "id": "ejWl3cBfKOZ9"
   },
   "source": [
    "# 추출적 요약"
   ]
  },
  {
   "cell_type": "code",
   "execution_count": 72,
   "metadata": {
    "id": "9kHWXPKSKT1L"
   },
   "outputs": [],
   "source": [
    "import requests\n",
    "from summa.summarizer import summarize"
   ]
  },
  {
   "cell_type": "code",
   "execution_count": 73,
   "metadata": {
    "id": "47GBV0d3KVGK"
   },
   "outputs": [],
   "source": [
    "Ext_data = pd.read_csv('/content/news_headlines_more.csv', encoding='iso-8859-1')\n",
    "text_data = Ext_data['text']\n"
   ]
  },
  {
   "cell_type": "code",
   "execution_count": 75,
   "metadata": {
    "colab": {
     "base_uri": "https://localhost:8080/"
    },
    "id": "5N_77PmIMIe9",
    "outputId": "852b3fae-f49b-4fbe-8be0-9fb3921ecf0d"
   },
   "outputs": [
    {
     "name": "stdout",
     "output_type": "stream",
     "text": [
      "sostoken kangana to play an year old in her directorial debut teju\n"
     ]
    }
   ],
   "source": [
    "print(text[:1500])"
   ]
  },
  {
   "cell_type": "code",
   "execution_count": 80,
   "metadata": {
    "colab": {
     "base_uri": "https://localhost:8080/"
    },
    "id": "lkR0HUw2LGRU",
    "outputId": "d5c33abf-bcae-4c15-aa81-0f87ae2900cf"
   },
   "outputs": [
    {
     "name": "stdout",
     "output_type": "stream",
     "text": [
      "원본 텍스트:\n",
      "Saurav Kant, an alumnus of upGrad and IIIT-B's PG Program in Machine learning and Artificial Intelligence, was a Sr Systems Engineer at Infosys with almost 5 years of work experience. The program and upGrad's 360-degree career support helped him transition to a Data Scientist at Tech Mahindra with 90% salary hike. upGrad's Online Power Learning has powered 3 lakh+ careers.\n",
      "\n",
      "추출적 요약 결과:\n",
      "[\"The program and upGrad's 360-degree career support helped him transition to a Data Scientist at Tech Mahindra with 90% salary hike.\", \"upGrad's Online Power Learning has powered 3 lakh+ careers.\"]\n"
     ]
    }
   ],
   "source": [
    "original_text = text_data[0]\n",
    "\n",
    "# TextRank를 이용한 추출적 요약\n",
    "summarized_text = summarize(original_text, ratio=0.01, split=True, words = 20)\n",
    "\n",
    "print(\"원본 텍스트:\")\n",
    "print(original_text)\n",
    "print(\"\\n추출적 요약 결과:\")\n",
    "print(summarized_text)"
   ]
  },
  {
   "cell_type": "markdown",
   "metadata": {
    "id": "-b8vNJ3iOOGZ"
   },
   "source": [
    "![image.png](data:image/png;base64,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)"
   ]
  },
  {
   "cell_type": "markdown",
   "metadata": {
    "id": "Cz--o_cAOQE1"
   },
   "source": []
  }
 ],
 "metadata": {
  "accelerator": "GPU",
  "colab": {
   "gpuType": "T4",
   "provenance": []
  },
  "kernelspec": {
   "display_name": "Python 3 (ipykernel)",
   "language": "python",
   "name": "python3"
  },
  "language_info": {
   "codemirror_mode": {
    "name": "ipython",
    "version": 3
   },
   "file_extension": ".py",
   "mimetype": "text/x-python",
   "name": "python",
   "nbconvert_exporter": "python",
   "pygments_lexer": "ipython3",
   "version": "3.10.11"
  }
 },
 "nbformat": 4,
 "nbformat_minor": 4
}
