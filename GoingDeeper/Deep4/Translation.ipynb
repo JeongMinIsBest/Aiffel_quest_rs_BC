{
 "cells": [
  {
   "cell_type": "code",
   "execution_count": 1,
   "id": "a42ef33a-be1b-4efb-8b59-c007dc6fcb04",
   "metadata": {},
   "outputs": [
    {
     "name": "stdout",
     "output_type": "stream",
     "text": [
      "설정된 폰트: NanumBarunGothic\n"
     ]
    }
   ],
   "source": [
    "import matplotlib as mpl\n",
    "import matplotlib.pyplot as plt\n",
    "import matplotlib.font_manager as fm\n",
    "import matplotlib.ticker as ticker\n",
    "import logging\n",
    "\n",
    "logging.getLogger(\"matplotlib.font_manager\").setLevel(logging.ERROR)\n",
    "\n",
    "fontpath = \"/usr/share/fonts/truetype/nanum/NanumBarunGothic.ttf\"\n",
    "fontprop = fm.FontProperties(fname=fontpath, size=12)\n",
    "plt.rcParams[\"font.family\"] = fontprop.get_name()\n",
    "\n",
    "print(f\"설정된 폰트: {fontprop.get_name()}\")"
   ]
  },
  {
   "cell_type": "code",
   "execution_count": 2,
   "id": "402de552-dc58-4329-b796-e799106f7c6b",
   "metadata": {},
   "outputs": [
    {
     "name": "stdout",
     "output_type": "stream",
     "text": [
      "2.7.1+cu118\n"
     ]
    }
   ],
   "source": [
    "# 데이터 전처리\n",
    "import os\n",
    "import re\n",
    "import urllib.request\n",
    "import zipfile\n",
    "import sentencepiece as spm\n",
    "import pandas as pd\n",
    "\n",
    "import numpy as np\n",
    "import torch\n",
    "import torch.nn as nn\n",
    "import torch.optim as optim\n",
    "from torch.nn.utils.rnn import pad_sequence\n",
    "from sklearn.model_selection import train_test_split\n",
    "from torch.utils.data import DataLoader, Dataset\n",
    "\n",
    "from tqdm import tqdm\n",
    "import random\n",
    "\n",
    "device = torch.device(\"cuda\" if torch.cuda.is_available() else \"cpu\")\n",
    "print(torch.__version__)"
   ]
  },
  {
   "cell_type": "code",
   "execution_count": 3,
   "id": "20709040-da0b-4a78-aade-070042ae0340",
   "metadata": {},
   "outputs": [
    {
     "name": "stdout",
     "output_type": "stream",
     "text": [
      "데이터 다운로드 중...\n",
      "다운로드 완료!\n",
      "압축 해제 중...\n",
      "압축 해제 완료!\n",
      "데이터셋 디렉토리: ['spa-eng', 'spa-eng.zip']\n"
     ]
    }
   ],
   "source": [
    "dataset_dir = os.path.join(os.path.expanduser(\"~\"), \"datasets\", \"spa-eng\")\n",
    "os.makedirs(dataset_dir, exist_ok=True)\n",
    "zip_path = os.path.join(dataset_dir, \"spa-eng.zip\")\n",
    "\n",
    "if not os.path.exists(zip_path):\n",
    "    print(\"데이터 다운로드 중...\")\n",
    "    url = \"http://storage.googleapis.com/download.tensorflow.org/data/spa-eng.zip\"\n",
    "    urllib.request.urlretrieve(url, zip_path)\n",
    "    print(\"다운로드 완료!\")\n",
    "\n",
    "data_folder = os.path.join(dataset_dir, \"spa-eng\")\n",
    "if not os.path.exists(data_folder):\n",
    "    print(\"압축 해제 중...\")\n",
    "    with zipfile.ZipFile(zip_path, 'r') as zip_ref:\n",
    "        zip_ref.extractall(dataset_dir)\n",
    "    print(\"압축 해제 완료!\")\n",
    "\n",
    "path_to_file = os.path.join(data_folder, \"spa.txt\")\n",
    "\n",
    "print(\"데이터셋 디렉토리:\", os.listdir(dataset_dir))"
   ]
  },
  {
   "cell_type": "code",
   "execution_count": 4,
   "id": "b9944c53-9a3c-4f6c-954f-8a576e656705",
   "metadata": {},
   "outputs": [
    {
     "data": {
      "text/html": [
       "<div>\n",
       "<style scoped>\n",
       "    .dataframe tbody tr th:only-of-type {\n",
       "        vertical-align: middle;\n",
       "    }\n",
       "\n",
       "    .dataframe tbody tr th {\n",
       "        vertical-align: top;\n",
       "    }\n",
       "\n",
       "    .dataframe thead th {\n",
       "        text-align: right;\n",
       "    }\n",
       "</style>\n",
       "<table border=\"1\" class=\"dataframe\">\n",
       "  <thead>\n",
       "    <tr style=\"text-align: right;\">\n",
       "      <th></th>\n",
       "      <th>eng</th>\n",
       "      <th>spa</th>\n",
       "    </tr>\n",
       "  </thead>\n",
       "  <tbody>\n",
       "    <tr>\n",
       "      <th>0</th>\n",
       "      <td>Go.</td>\n",
       "      <td>Ve.</td>\n",
       "    </tr>\n",
       "    <tr>\n",
       "      <th>1</th>\n",
       "      <td>Go.</td>\n",
       "      <td>Vete.</td>\n",
       "    </tr>\n",
       "    <tr>\n",
       "      <th>2</th>\n",
       "      <td>Go.</td>\n",
       "      <td>Vaya.</td>\n",
       "    </tr>\n",
       "    <tr>\n",
       "      <th>3</th>\n",
       "      <td>Go.</td>\n",
       "      <td>Váyase.</td>\n",
       "    </tr>\n",
       "    <tr>\n",
       "      <th>4</th>\n",
       "      <td>Hi.</td>\n",
       "      <td>Hola.</td>\n",
       "    </tr>\n",
       "  </tbody>\n",
       "</table>\n",
       "</div>"
      ],
      "text/plain": [
       "   eng      spa\n",
       "0  Go.      Ve.\n",
       "1  Go.    Vete.\n",
       "2  Go.    Vaya.\n",
       "3  Go.  Váyase.\n",
       "4  Hi.    Hola."
      ]
     },
     "execution_count": 4,
     "metadata": {},
     "output_type": "execute_result"
    }
   ],
   "source": [
    "df = pd.read_csv(path_to_file, sep = \"\\t\", names = [\"eng\", \"spa\"])\n",
    "df.head()"
   ]
  },
  {
   "cell_type": "code",
   "execution_count": 5,
   "id": "1bae13e3-63eb-4a06-91b7-42cf0e09b207",
   "metadata": {},
   "outputs": [],
   "source": [
    "def preprocess_sentence(sentence):\n",
    "    sentence = sentence.lower().strip()\n",
    "\n",
    "    sentence = re.sub(r\"([?.!,])\", r\" \\1 \", sentence)\n",
    "    sentence = re.sub(r'[\" \"]+', \" \", sentence)\n",
    "    sentence = re.sub(r\"[^a-zA-Z?.!,]+\", \" \", sentence)\n",
    "\n",
    "    sentence = sentence.strip()\n",
    "\n",
    "    return sentence"
   ]
  },
  {
   "cell_type": "code",
   "execution_count": 6,
   "id": "53bba66c-10ac-4601-924c-99f764c9304c",
   "metadata": {},
   "outputs": [
    {
     "data": {
      "text/html": [
       "<div>\n",
       "<style scoped>\n",
       "    .dataframe tbody tr th:only-of-type {\n",
       "        vertical-align: middle;\n",
       "    }\n",
       "\n",
       "    .dataframe tbody tr th {\n",
       "        vertical-align: top;\n",
       "    }\n",
       "\n",
       "    .dataframe thead th {\n",
       "        text-align: right;\n",
       "    }\n",
       "</style>\n",
       "<table border=\"1\" class=\"dataframe\">\n",
       "  <thead>\n",
       "    <tr style=\"text-align: right;\">\n",
       "      <th></th>\n",
       "      <th>eng</th>\n",
       "      <th>spa</th>\n",
       "    </tr>\n",
       "  </thead>\n",
       "  <tbody>\n",
       "    <tr>\n",
       "      <th>0</th>\n",
       "      <td>go .</td>\n",
       "      <td>ve .</td>\n",
       "    </tr>\n",
       "    <tr>\n",
       "      <th>1</th>\n",
       "      <td>go .</td>\n",
       "      <td>vete .</td>\n",
       "    </tr>\n",
       "    <tr>\n",
       "      <th>2</th>\n",
       "      <td>go .</td>\n",
       "      <td>vaya .</td>\n",
       "    </tr>\n",
       "    <tr>\n",
       "      <th>3</th>\n",
       "      <td>go .</td>\n",
       "      <td>v yase .</td>\n",
       "    </tr>\n",
       "    <tr>\n",
       "      <th>4</th>\n",
       "      <td>hi .</td>\n",
       "      <td>hola .</td>\n",
       "    </tr>\n",
       "  </tbody>\n",
       "</table>\n",
       "</div>"
      ],
      "text/plain": [
       "    eng       spa\n",
       "0  go .      ve .\n",
       "1  go .    vete .\n",
       "2  go .    vaya .\n",
       "3  go .  v yase .\n",
       "4  hi .    hola ."
      ]
     },
     "execution_count": 6,
     "metadata": {},
     "output_type": "execute_result"
    }
   ],
   "source": [
    "#df = df[:30000]\n",
    "\n",
    "df[\"eng\"] = df[\"eng\"].apply(preprocess_sentence)\n",
    "df[\"spa\"] = df[\"spa\"].apply(lambda x: preprocess_sentence(x))\n",
    "\n",
    "df.head()"
   ]
  },
  {
   "cell_type": "code",
   "execution_count": 7,
   "id": "babb9f00-76fa-4519-ab74-9c14f7e98297",
   "metadata": {},
   "outputs": [
    {
     "name": "stdout",
     "output_type": "stream",
     "text": [
      "파일 저장 완료: eng_corpus.txt, spa_corpus.txt\n"
     ]
    }
   ],
   "source": [
    "df[\"eng\"].to_csv(\"eng_corpus.txt\", index=False, header=False, sep=\"\\n\", encoding=\"utf-8\")\n",
    "df[\"spa\"].to_csv(\"spa_corpus.txt\", index=False, header=False, sep=\"\\n\", encoding=\"utf-8\")\n",
    "\n",
    "print(\"파일 저장 완료: eng_corpus.txt, spa_corpus.txt\")"
   ]
  },
  {
   "cell_type": "code",
   "execution_count": 8,
   "id": "fc522310-c23c-40d0-ae50-3b7f668cbb92",
   "metadata": {
    "scrolled": true
   },
   "outputs": [
    {
     "name": "stderr",
     "output_type": "stream",
     "text": [
      "sentencepiece_trainer.cc(78) LOG(INFO) Starts training with : \n",
      "trainer_spec {\n",
      "  input: eng_corpus.txt\n",
      "  input_format: \n",
      "  model_prefix: encoder_spm\n",
      "  model_type: UNIGRAM\n",
      "  vocab_size: 3000\n",
      "  self_test_sample_size: 0\n",
      "  character_coverage: 0.9995\n",
      "  input_sentence_size: 0\n",
      "  shuffle_input_sentence: 1\n",
      "  seed_sentencepiece_size: 1000000\n",
      "  shrinking_factor: 0.75\n",
      "  max_sentence_length: 4192\n",
      "  num_threads: 16\n",
      "  num_sub_iterations: 2\n",
      "  max_sentencepiece_length: 16\n",
      "  split_by_unicode_script: 1\n",
      "  split_by_number: 1\n",
      "  split_by_whitespace: 1\n",
      "  split_digits: 0\n",
      "  pretokenization_delimiter: \n",
      "  treat_whitespace_as_suffix: 0\n",
      "  allow_whitespace_only_pieces: 0\n",
      "  required_chars: \n",
      "  byte_fallback: 0\n",
      "  vocabulary_output_piece_score: 1\n",
      "  train_extremely_large_corpus: 0\n",
      "  seed_sentencepieces_file: \n",
      "  hard_vocab_limit: 1\n",
      "  use_all_vocab: 0\n",
      "  unk_id: 3\n",
      "  bos_id: 1\n",
      "  eos_id: 2\n",
      "  pad_id: 0\n",
      "  unk_piece: <unk>\n",
      "  bos_piece: <s>\n",
      "  eos_piece: </s>\n",
      "  pad_piece: <pad>\n",
      "  unk_surface:  ⁇ \n",
      "  enable_differential_privacy: 0\n",
      "  differential_privacy_noise_level: 0\n",
      "  differential_privacy_clipping_threshold: 0\n",
      "}\n",
      "normalizer_spec {\n",
      "  name: nmt_nfkc\n",
      "  add_dummy_prefix: 1\n",
      "  remove_extra_whitespaces: 1\n",
      "  escape_whitespaces: 1\n",
      "  normalization_rule_tsv: \n",
      "}\n",
      "denormalizer_spec {}\n",
      "trainer_interface.cc(355) LOG(INFO) SentenceIterator is not specified. Using MultiFileSentenceIterator.\n",
      "trainer_interface.cc(186) LOG(INFO) Loading corpus: eng_corpus.txt\n",
      "trainer_interface.cc(411) LOG(INFO) Loaded all 118964 sentences\n",
      "trainer_interface.cc(427) LOG(INFO) Adding meta_piece: <pad>\n",
      "trainer_interface.cc(427) LOG(INFO) Adding meta_piece: <s>\n",
      "trainer_interface.cc(427) LOG(INFO) Adding meta_piece: </s>\n",
      "trainer_interface.cc(427) LOG(INFO) Adding meta_piece: <unk>\n",
      "trainer_interface.cc(432) LOG(INFO) Normalizing sentences...\n",
      "trainer_interface.cc(541) LOG(INFO) all chars count=3995706\n",
      "trainer_interface.cc(552) LOG(INFO) Done: 99.977% characters are covered.\n",
      "trainer_interface.cc(562) LOG(INFO) Alphabet size=30\n",
      "trainer_interface.cc(563) LOG(INFO) Final character coverage=0.99977\n",
      "trainer_interface.cc(594) LOG(INFO) Done! preprocessed 118964 sentences.\n",
      "unigram_model_trainer.cc(265) LOG(INFO) Making suffix array...\n",
      "unigram_model_trainer.cc(269) LOG(INFO) Extracting frequent sub strings... node_num=2428285\n",
      "unigram_model_trainer.cc(312) LOG(INFO) Initialized 24586 seed sentencepieces\n",
      "trainer_interface.cc(600) LOG(INFO) Tokenizing input sentences with whitespace: 118964\n",
      "trainer_interface.cc(611) LOG(INFO) Done! 12934\n",
      "unigram_model_trainer.cc(602) LOG(INFO) Using 12934 sentences for EM training\n",
      "unigram_model_trainer.cc(618) LOG(INFO) EM sub_iter=0 size=10879 obj=8.40561 num_tokens=24411 num_tokens/piece=2.24386\n",
      "unigram_model_trainer.cc(618) LOG(INFO) EM sub_iter=1 size=7862 obj=6.96161 num_tokens=24791 num_tokens/piece=3.15327\n",
      "unigram_model_trainer.cc(618) LOG(INFO) EM sub_iter=0 size=5892 obj=6.87816 num_tokens=25976 num_tokens/piece=4.40869\n",
      "unigram_model_trainer.cc(618) LOG(INFO) EM sub_iter=1 size=5889 obj=6.8487 num_tokens=26019 num_tokens/piece=4.41824\n",
      "unigram_model_trainer.cc(618) LOG(INFO) EM sub_iter=0 size=4415 obj=6.87803 num_tokens=29333 num_tokens/piece=6.64394\n",
      "unigram_model_trainer.cc(618) LOG(INFO) EM sub_iter=1 size=4414 obj=6.86839 num_tokens=29334 num_tokens/piece=6.64567\n",
      "unigram_model_trainer.cc(618) LOG(INFO) EM sub_iter=0 size=3310 obj=6.93513 num_tokens=33614 num_tokens/piece=10.1553\n",
      "unigram_model_trainer.cc(618) LOG(INFO) EM sub_iter=1 size=3310 obj=6.92018 num_tokens=33621 num_tokens/piece=10.1574\n",
      "unigram_model_trainer.cc(618) LOG(INFO) EM sub_iter=0 size=3300 obj=6.92079 num_tokens=33659 num_tokens/piece=10.1997\n",
      "unigram_model_trainer.cc(618) LOG(INFO) EM sub_iter=1 size=3300 obj=6.92041 num_tokens=33659 num_tokens/piece=10.1997\n",
      "trainer_interface.cc(689) LOG(INFO) Saving model: encoder_spm.model\n",
      "trainer_interface.cc(701) LOG(INFO) Saving vocabs: encoder_spm.vocab\n",
      "sentencepiece_trainer.cc(78) LOG(INFO) Starts training with : \n",
      "trainer_spec {\n",
      "  input: spa_corpus.txt\n",
      "  input_format: \n",
      "  model_prefix: decoder_spm\n",
      "  model_type: UNIGRAM\n",
      "  vocab_size: 3000\n",
      "  self_test_sample_size: 0\n",
      "  character_coverage: 0.9995\n",
      "  input_sentence_size: 0\n",
      "  shuffle_input_sentence: 1\n",
      "  seed_sentencepiece_size: 1000000\n",
      "  shrinking_factor: 0.75\n",
      "  max_sentence_length: 4192\n",
      "  num_threads: 16\n",
      "  num_sub_iterations: 2\n",
      "  max_sentencepiece_length: 16\n",
      "  split_by_unicode_script: 1\n",
      "  split_by_number: 1\n",
      "  split_by_whitespace: 1\n",
      "  split_digits: 0\n",
      "  pretokenization_delimiter: \n",
      "  treat_whitespace_as_suffix: 0\n",
      "  allow_whitespace_only_pieces: 0\n",
      "  required_chars: \n",
      "  byte_fallback: 0\n",
      "  vocabulary_output_piece_score: 1\n",
      "  train_extremely_large_corpus: 0\n",
      "  seed_sentencepieces_file: \n",
      "  hard_vocab_limit: 1\n",
      "  use_all_vocab: 0\n",
      "  unk_id: 3\n",
      "  bos_id: 1\n",
      "  eos_id: 2\n",
      "  pad_id: 0\n",
      "  unk_piece: <unk>\n",
      "  bos_piece: <s>\n",
      "  eos_piece: </s>\n",
      "  pad_piece: <pad>\n",
      "  unk_surface:  ⁇ \n",
      "  enable_differential_privacy: 0\n",
      "  differential_privacy_noise_level: 0\n",
      "  differential_privacy_clipping_threshold: 0\n",
      "}\n",
      "normalizer_spec {\n",
      "  name: nmt_nfkc\n",
      "  add_dummy_prefix: 1\n",
      "  remove_extra_whitespaces: 1\n",
      "  escape_whitespaces: 1\n",
      "  normalization_rule_tsv: \n",
      "}\n",
      "denormalizer_spec {}\n",
      "trainer_interface.cc(355) LOG(INFO) SentenceIterator is not specified. Using MultiFileSentenceIterator.\n",
      "trainer_interface.cc(186) LOG(INFO) Loading corpus: spa_corpus.txt\n",
      "trainer_interface.cc(411) LOG(INFO) Loaded all 118964 sentences\n",
      "trainer_interface.cc(427) LOG(INFO) Adding meta_piece: <pad>\n",
      "trainer_interface.cc(427) LOG(INFO) Adding meta_piece: <s>\n",
      "trainer_interface.cc(427) LOG(INFO) Adding meta_piece: </s>\n",
      "trainer_interface.cc(427) LOG(INFO) Adding meta_piece: <unk>\n",
      "trainer_interface.cc(432) LOG(INFO) Normalizing sentences...\n",
      "trainer_interface.cc(541) LOG(INFO) all chars count=4102530\n",
      "trainer_interface.cc(552) LOG(INFO) Done: 99.9724% characters are covered.\n",
      "trainer_interface.cc(562) LOG(INFO) Alphabet size=29\n",
      "trainer_interface.cc(563) LOG(INFO) Final character coverage=0.999724\n",
      "trainer_interface.cc(594) LOG(INFO) Done! preprocessed 118964 sentences.\n",
      "unigram_model_trainer.cc(265) LOG(INFO) Making suffix array...\n",
      "unigram_model_trainer.cc(269) LOG(INFO) Extracting frequent sub strings... node_num=2371227\n",
      "unigram_model_trainer.cc(312) LOG(INFO) Initialized 44830 seed sentencepieces\n",
      "trainer_interface.cc(600) LOG(INFO) Tokenizing input sentences with whitespace: 118964\n",
      "trainer_interface.cc(611) LOG(INFO) Done! 22862\n",
      "unigram_model_trainer.cc(602) LOG(INFO) Using 22862 sentences for EM training\n",
      "unigram_model_trainer.cc(618) LOG(INFO) EM sub_iter=0 size=17236 obj=8.57656 num_tokens=40549 num_tokens/piece=2.35258\n",
      "unigram_model_trainer.cc(618) LOG(INFO) EM sub_iter=1 size=12838 obj=7.04048 num_tokens=41014 num_tokens/piece=3.19473\n",
      "unigram_model_trainer.cc(618) LOG(INFO) EM sub_iter=0 size=9627 obj=6.97301 num_tokens=43074 num_tokens/piece=4.47429\n",
      "unigram_model_trainer.cc(618) LOG(INFO) EM sub_iter=1 size=9618 obj=6.94806 num_tokens=43085 num_tokens/piece=4.47962\n",
      "unigram_model_trainer.cc(618) LOG(INFO) EM sub_iter=0 size=7213 obj=6.99303 num_tokens=48001 num_tokens/piece=6.65479\n",
      "unigram_model_trainer.cc(618) LOG(INFO) EM sub_iter=1 size=7213 obj=6.97506 num_tokens=48008 num_tokens/piece=6.65576\n",
      "unigram_model_trainer.cc(618) LOG(INFO) EM sub_iter=0 size=5409 obj=7.05071 num_tokens=53890 num_tokens/piece=9.96302\n",
      "unigram_model_trainer.cc(618) LOG(INFO) EM sub_iter=1 size=5409 obj=7.02977 num_tokens=53900 num_tokens/piece=9.96487\n",
      "unigram_model_trainer.cc(618) LOG(INFO) EM sub_iter=0 size=4056 obj=7.13877 num_tokens=59808 num_tokens/piece=14.7456\n",
      "unigram_model_trainer.cc(618) LOG(INFO) EM sub_iter=1 size=4056 obj=7.11483 num_tokens=59811 num_tokens/piece=14.7463\n",
      "unigram_model_trainer.cc(618) LOG(INFO) EM sub_iter=0 size=3300 obj=7.20737 num_tokens=63987 num_tokens/piece=19.39\n",
      "unigram_model_trainer.cc(618) LOG(INFO) EM sub_iter=1 size=3300 obj=7.18824 num_tokens=63991 num_tokens/piece=19.3912\n",
      "trainer_interface.cc(689) LOG(INFO) Saving model: decoder_spm.model\n",
      "trainer_interface.cc(701) LOG(INFO) Saving vocabs: decoder_spm.vocab\n"
     ]
    }
   ],
   "source": [
    "vocab_size = 3000\n",
    "pad_id = 0\n",
    "bos_id = 1\n",
    "eos_id = 2\n",
    "unk_id = 3\n",
    "\n",
    "spm.SentencePieceTrainer.train(\n",
    "    input = \"eng_corpus.txt\",\n",
    "    model_prefix = \"encoder_spm\",\n",
    "    vocab_size = vocab_size,\n",
    "    pad_id = pad_id,\n",
    "    bos_id = bos_id,\n",
    "    eos_id = eos_id,\n",
    "    unk_id = unk_id\n",
    ")\n",
    "\n",
    "spm.SentencePieceTrainer.train(\n",
    "    input = \"spa_corpus.txt\",\n",
    "    model_prefix = \"decoder_spm\",\n",
    "    vocab_size = vocab_size,\n",
    "    pad_id = pad_id,\n",
    "    bos_id = bos_id,\n",
    "    eos_id = eos_id,\n",
    "    unk_id = unk_id\n",
    ")"
   ]
  },
  {
   "cell_type": "code",
   "execution_count": 9,
   "id": "156840dc-ae74-454f-9dd9-d078db660ace",
   "metadata": {},
   "outputs": [
    {
     "data": {
      "text/plain": [
       "True"
      ]
     },
     "execution_count": 9,
     "metadata": {},
     "output_type": "execute_result"
    }
   ],
   "source": [
    "encoder_tokenizer = spm.SentencePieceProcessor()\n",
    "encoder_tokenizer.load(\"encoder_spm.model\")\n",
    "\n",
    "decoder_tokenizer = spm.SentencePieceProcessor()\n",
    "decoder_tokenizer.load(\"decoder_spm.model\")"
   ]
  },
  {
   "cell_type": "code",
   "execution_count": 10,
   "id": "7f848364-0dc7-45eb-8e08-c3d7034843b3",
   "metadata": {},
   "outputs": [
    {
     "data": {
      "text/html": [
       "<div>\n",
       "<style scoped>\n",
       "    .dataframe tbody tr th:only-of-type {\n",
       "        vertical-align: middle;\n",
       "    }\n",
       "\n",
       "    .dataframe tbody tr th {\n",
       "        vertical-align: top;\n",
       "    }\n",
       "\n",
       "    .dataframe thead th {\n",
       "        text-align: right;\n",
       "    }\n",
       "</style>\n",
       "<table border=\"1\" class=\"dataframe\">\n",
       "  <thead>\n",
       "    <tr style=\"text-align: right;\">\n",
       "      <th></th>\n",
       "      <th>eng</th>\n",
       "      <th>spa</th>\n",
       "    </tr>\n",
       "  </thead>\n",
       "  <tbody>\n",
       "    <tr>\n",
       "      <th>0</th>\n",
       "      <td>go .</td>\n",
       "      <td>ve .</td>\n",
       "    </tr>\n",
       "    <tr>\n",
       "      <th>1</th>\n",
       "      <td>go .</td>\n",
       "      <td>vete .</td>\n",
       "    </tr>\n",
       "    <tr>\n",
       "      <th>2</th>\n",
       "      <td>go .</td>\n",
       "      <td>vaya .</td>\n",
       "    </tr>\n",
       "    <tr>\n",
       "      <th>3</th>\n",
       "      <td>go .</td>\n",
       "      <td>v yase .</td>\n",
       "    </tr>\n",
       "    <tr>\n",
       "      <th>4</th>\n",
       "      <td>hi .</td>\n",
       "      <td>hola .</td>\n",
       "    </tr>\n",
       "    <tr>\n",
       "      <th>...</th>\n",
       "      <td>...</td>\n",
       "      <td>...</td>\n",
       "    </tr>\n",
       "    <tr>\n",
       "      <th>118959</th>\n",
       "      <td>there are four main causes of alcohol related ...</td>\n",
       "      <td>hay cuatro causas principales de muertes relac...</td>\n",
       "    </tr>\n",
       "    <tr>\n",
       "      <th>118960</th>\n",
       "      <td>there are mothers and fathers who will lie awa...</td>\n",
       "      <td>hay madres y padres que se quedan despiertos d...</td>\n",
       "    </tr>\n",
       "    <tr>\n",
       "      <th>118961</th>\n",
       "      <td>a carbon footprint is the amount of carbon dio...</td>\n",
       "      <td>una huella de carbono es la cantidad de contam...</td>\n",
       "    </tr>\n",
       "    <tr>\n",
       "      <th>118962</th>\n",
       "      <td>since there are usually multiple websites on a...</td>\n",
       "      <td>como suele haber varias p ginas web sobre cual...</td>\n",
       "    </tr>\n",
       "    <tr>\n",
       "      <th>118963</th>\n",
       "      <td>if you want to sound like a native speaker , y...</td>\n",
       "      <td>si quieres sonar como un hablante nativo , deb...</td>\n",
       "    </tr>\n",
       "  </tbody>\n",
       "</table>\n",
       "<p>118964 rows × 2 columns</p>\n",
       "</div>"
      ],
      "text/plain": [
       "                                                      eng  \\\n",
       "0                                                    go .   \n",
       "1                                                    go .   \n",
       "2                                                    go .   \n",
       "3                                                    go .   \n",
       "4                                                    hi .   \n",
       "...                                                   ...   \n",
       "118959  there are four main causes of alcohol related ...   \n",
       "118960  there are mothers and fathers who will lie awa...   \n",
       "118961  a carbon footprint is the amount of carbon dio...   \n",
       "118962  since there are usually multiple websites on a...   \n",
       "118963  if you want to sound like a native speaker , y...   \n",
       "\n",
       "                                                      spa  \n",
       "0                                                    ve .  \n",
       "1                                                  vete .  \n",
       "2                                                  vaya .  \n",
       "3                                                v yase .  \n",
       "4                                                  hola .  \n",
       "...                                                   ...  \n",
       "118959  hay cuatro causas principales de muertes relac...  \n",
       "118960  hay madres y padres que se quedan despiertos d...  \n",
       "118961  una huella de carbono es la cantidad de contam...  \n",
       "118962  como suele haber varias p ginas web sobre cual...  \n",
       "118963  si quieres sonar como un hablante nativo , deb...  \n",
       "\n",
       "[118964 rows x 2 columns]"
      ]
     },
     "execution_count": 10,
     "metadata": {},
     "output_type": "execute_result"
    }
   ],
   "source": [
    "df"
   ]
  },
  {
   "cell_type": "code",
   "execution_count": 11,
   "id": "12154565-fb08-4767-b188-6f7251bc4ac7",
   "metadata": {},
   "outputs": [
    {
     "name": "stdout",
     "output_type": "stream",
     "text": [
      "do you like fish ?\n",
      "te gusta el pescado ?\n"
     ]
    }
   ],
   "source": [
    "eng_sample = df[\"eng\"][10000]\n",
    "spa_sample = df[\"spa\"][10000]\n",
    "print(eng_sample)\n",
    "print(spa_sample)"
   ]
  },
  {
   "cell_type": "code",
   "execution_count": 12,
   "id": "24f4c968-5dad-4974-8204-6a5a68768784",
   "metadata": {},
   "outputs": [
    {
     "data": {
      "text/plain": [
       "[1, 28, 10, 52, 401, 15, 2]"
      ]
     },
     "execution_count": 12,
     "metadata": {},
     "output_type": "execute_result"
    }
   ],
   "source": [
    "enc_token = encoder_tokenizer.encode(eng_sample)\n",
    "enc_token = [encoder_tokenizer.bos_id()] + enc_token + [encoder_tokenizer.eos_id()]\n",
    "enc_token"
   ]
  },
  {
   "cell_type": "code",
   "execution_count": 13,
   "id": "fa48a6e7-5d46-4f57-a6eb-94ba599bc760",
   "metadata": {},
   "outputs": [
    {
     "data": {
      "text/plain": [
       "'do you like fish ?'"
      ]
     },
     "execution_count": 13,
     "metadata": {},
     "output_type": "execute_result"
    }
   ],
   "source": [
    "enc_decoding = encoder_tokenizer.decode(enc_token)\n",
    "enc_decoding"
   ]
  },
  {
   "cell_type": "code",
   "execution_count": 14,
   "id": "778c999b-bf85-4fd4-8586-f7326d2fb94f",
   "metadata": {},
   "outputs": [],
   "source": [
    "class TranslationDataset(Dataset):\n",
    "    def __init__(self, data, encoder_tokenizer, decoder_tokenizer, max_len):\n",
    "        self.data = data\n",
    "        self.encoder_tokenizer = encoder_tokenizer\n",
    "        self.decoder_tokenizer = decoder_tokenizer\n",
    "        self.max_len = max_len\n",
    "        self.pad_id = 0\n",
    "        self.bos_id = 1\n",
    "        self.eos_id = 2\n",
    "\n",
    "    def __len__(self):\n",
    "        return len(self.data)\n",
    "\n",
    "    def __getitem__(self, idx):\n",
    "        src_text = self.data.iloc[idx]['eng']\n",
    "        trg_text = self.data.iloc[idx]['spa']\n",
    "\n",
    "        src_ids = self.encoder_tokenizer.encode(src_text)\n",
    "        trg_ids = self.decoder_tokenizer.encode(trg_text)\n",
    "\n",
    "        src_ids = src_ids[:self.max_len]\n",
    "\n",
    "        # Decoder의 입력에는 START_TOKEN과 END_TOKEN을 추가해줍니다. 단, 최대 길이 제한을 적용시킵니다.\n",
    "        trg_input = [self.bos_id] + trg_ids[:self.max_len - 2] + [self.eos_id]\n",
    "        trg_label = trg_ids[:self.max_len - 1] + [self.eos_id]\n",
    "\n",
    "        # 길이가 짧은 경우 PAD_TOKEN을 추가해줍니다.\n",
    "        src_ids = src_ids + [self.pad_id] * (self.max_len - len(src_ids))\n",
    "        trg_input = trg_input + [self.pad_id] * (self.max_len - len(trg_input))\n",
    "        trg_label = trg_label + [self.pad_id] * (self.max_len - len(trg_label))\n",
    "\n",
    "        return torch.tensor(src_ids), torch.tensor(trg_input), torch.tensor(trg_label)"
   ]
  },
  {
   "cell_type": "code",
   "execution_count": 15,
   "id": "828d2a69-4d5e-4872-909d-d3533c35c1c7",
   "metadata": {},
   "outputs": [],
   "source": [
    "train_ratio = 0.8  # 전체 길이의 80%\n",
    "MAX_LEN = 30 # 임의의 값\n",
    "BATCH_SIZE = 64\n",
    "\n",
    "train_data = df.sample(frac=train_ratio, random_state=42)  # 70% 훈련 데이터\n",
    "valid_data = df.drop(train_data.index)\n",
    "\n",
    "train_data.reset_index(drop=True, inplace=True)\n",
    "valid_data.reset_index(drop=True, inplace=True)\n",
    "\n",
    "train_data = TranslationDataset(train_data, encoder_tokenizer, decoder_tokenizer, max_len=MAX_LEN)\n",
    "validataion_data = TranslationDataset(valid_data, encoder_tokenizer, decoder_tokenizer, max_len=MAX_LEN)\n",
    "\n",
    "train_loader = DataLoader(train_data, batch_size=BATCH_SIZE, shuffle=True)\n",
    "validation_loader = DataLoader(validataion_data, batch_size=BATCH_SIZE, shuffle=False)"
   ]
  },
  {
   "cell_type": "code",
   "execution_count": 16,
   "id": "087716d3-f126-4ef2-bb78-b82426688463",
   "metadata": {},
   "outputs": [
    {
     "name": "stdout",
     "output_type": "stream",
     "text": [
      "torch.Size([64, 30]) torch.Size([64, 30]) torch.Size([64, 30])\n"
     ]
    }
   ],
   "source": [
    "for src, trg_input, trg_label in train_loader:\n",
    "    print(src.shape, trg_input.shape, trg_label.shape)\n",
    "    break"
   ]
  },
  {
   "cell_type": "code",
   "execution_count": 17,
   "id": "13aa22ed-680a-4c7b-91bc-57cb14e5d594",
   "metadata": {},
   "outputs": [],
   "source": [
    "# 모델 설계\n",
    "class BahdanauAttention(nn.Module):\n",
    "    def __init__(self, hidden_dim):\n",
    "        super().__init__()\n",
    "\n",
    "        self.W1 = nn.Linear(hidden_dim, hidden_dim)\n",
    "        self.W2 = nn.Linear(hidden_dim, hidden_dim)\n",
    "        self.v = nn.Linear(hidden_dim, 1, bias=False)\n",
    "\n",
    "    def forward(self, hidden, encoder_outputs):\n",
    "        # hidden: (batch_size, hidden_dim)\n",
    "        # encoder_outputs: (src_len, batch_size, hidden_dim)\n",
    "\n",
    "        src_len = encoder_outputs.shape[0]\n",
    "\n",
    "        hidden = hidden.unsqueeze(1).repeat(1, src_len, 1)  # (batch_size, src_len, hidden_dim)\n",
    "        encoder_outputs = encoder_outputs.permute(1, 0, 2)  # (batch_size, src_len, hidden_dim)\n",
    "\n",
    "        energy = torch.tanh(self.W1(encoder_outputs) + self.W2(hidden))  # (batch_size, src_len, hidden_dim)\n",
    "        attention = self.v(energy).squeeze(2)  # (batch_size, src_len)\n",
    "\n",
    "        return nn.functional.softmax(attention, dim=1)  # (batch_size, src_len)"
   ]
  },
  {
   "cell_type": "code",
   "execution_count": 18,
   "id": "49bb6aba-2a09-4fc0-a8a6-154d4dec93e2",
   "metadata": {},
   "outputs": [],
   "source": [
    "class Encoder(nn.Module):\n",
    "    def __init__(self, input_dim, emb_dim, hidden_dim):\n",
    "        super().__init__()\n",
    "\n",
    "        self.embedding = nn.Embedding(input_dim, emb_dim)\n",
    "        self.rnn = nn.GRU(emb_dim, hidden_dim)\n",
    "\n",
    "    def forward(self, src):\n",
    "        # src : (src_len, batch_size)\n",
    "        embedded = self.embedding(src)  # embedded : (src_len, batch_size, emb_dim)\n",
    "        outputs, hidden = self.rnn(embedded)  # outputs : (src_len, batch_size, hidden_dim)\n",
    "\n",
    "        return outputs, hidden"
   ]
  },
  {
   "cell_type": "code",
   "execution_count": 19,
   "id": "aa0dbdc1-f54a-46b3-8449-7ace4eff0450",
   "metadata": {},
   "outputs": [],
   "source": [
    "class Decoder(nn.Module):\n",
    "    def __init__(self, output_dim, emb_dim, hidden_dim, attention):\n",
    "        super(Decoder, self).__init__()\n",
    "\n",
    "        self.output_dim = output_dim\n",
    "        self.attention = attention\n",
    "        self.embedding = nn.Embedding(output_dim, emb_dim)\n",
    "        # Decoder RNN에는 embedding만 입력\n",
    "        self.rnn = nn.GRU(emb_dim, hidden_dim)\n",
    "        # 출력층에는 hidden state와 attention value가 결합되어 입력\n",
    "        self.fc_out = nn.Linear(hidden_dim + hidden_dim, output_dim)\n",
    "\n",
    "    def forward(self, input, hidden, encoder_outputs):\n",
    "        # input : (batch_size,)\n",
    "        # hidden : (batch_size, hidden_dim)\n",
    "        # encoder_outputs : (src_len, batch_size, hidden_dim)\n",
    "        input = input.unsqueeze(0)  # input : (1, batch_size)\n",
    "        embedded = self.embedding(input)  # embedded : (1, batch_size, emb_dim)\n",
    "\n",
    "        # attention distribution을 계산합니다. decoder의 이전 hidden state, s_{t-1}와 encoder의 H가 입력됩니다.\n",
    "        a = self.attention(hidden[-1], encoder_outputs)  # a : (batch_size, src_len)\n",
    "\n",
    "        # H에 가중치를 부여해 attention value(Context vector) 계산\n",
    "        a = a.unsqueeze(1)  # a : (batch_size, 1, src_len)\n",
    "        encoder_outputs = encoder_outputs.permute(1, 0, 2)  # encoder_outputs : (batch_size, src_len, hidden_dim)\n",
    "        context = torch.bmm(a, encoder_outputs)  # context : (batch_size, 1, hidden_dim)\n",
    "        context = context.permute(1, 0, 2)  # context : (1, batch_size, hidden_dim)\n",
    "\n",
    "        output, hidden = self.rnn(embedded, hidden)\n",
    "\n",
    "        # 출력층에서는 현재 hidden state와 context vector를 결합하여 예측값 생성\n",
    "        output = output.squeeze(0)  # output : (batch_size, hidden_dim)\n",
    "        context = context.squeeze(0)  # context : (batch_size, hidden_dim)\n",
    "        prediction = self.fc_out(torch.cat((output, context), dim=1))  # (batch_size, output_dim)\n",
    "\n",
    "        return prediction, hidden, a.squeeze(1)"
   ]
  },
  {
   "cell_type": "code",
   "execution_count": 20,
   "id": "cebbe3ec-79d2-4813-b6d6-5330692f2672",
   "metadata": {},
   "outputs": [],
   "source": [
    "class Seq2SeqAttention(nn.Module):\n",
    "    def __init__(self, encoder, decoder, device):\n",
    "        super().__init__()\n",
    "        self.encoder = encoder\n",
    "        self.decoder = decoder\n",
    "        self.device = device\n",
    "\n",
    "    def forward(self, src, trg=None, max_len=30, bos_id = 1, eos_id=2):\n",
    "        # 학습 모드에서는 trg_len 사용, 추론 모드에서는 max_len까지 동적 생성\n",
    "        batch_size = src.shape[1]\n",
    "        trg_vocab_size = self.decoder.fc_out.out_features\n",
    "\n",
    "        # 조기 종료를 위해 tensor가 아닌 리스트 사용\n",
    "        outputs = []\n",
    "\n",
    "        # 시각화를 위해 attention 저장\n",
    "        attentions = []\n",
    "\n",
    "        # 인코더를 통해 context 생성\n",
    "        encoder_outputs, hidden = self.encoder(src)\n",
    "\n",
    "        if trg is not None:\n",
    "            for t in range(0, trg.shape[0]):\n",
    "                input = trg[t]\n",
    "                output, hidden, attention = self.decoder(input, hidden, encoder_outputs)\n",
    "                outputs.append(output.unsqueeze(0))\n",
    "                attentions.append(attention.unsqueeze(0))\n",
    "\n",
    "        else:\n",
    "\t\t    # inference에서는 target(정답)이 없기 때문에 sos_token을 생성해줍니다.\n",
    "            input = torch.full((batch_size,), bos_id, dtype=torch.long, device=self.device)\n",
    "            finished = torch.zeros(batch_size, dtype=torch.bool, device=self.device)\n",
    "\n",
    "            for t in range(max_len):\n",
    "                output, hidden, attention = self.decoder(input, hidden,  encoder_outputs)\n",
    "                outputs.append(output.unsqueeze(0))\n",
    "                attentions.append(attention.unsqueeze(0))\n",
    "                top1 = output.argmax(1)\n",
    "                input = top1\n",
    "\n",
    "                # 조기 종료 조건\n",
    "                finished |= (top1 == eos_id)\n",
    "                if finished.all():\n",
    "                    break\n",
    "\n",
    "        outputs = torch.cat(outputs, dim=0)  # (trg_len, batch_size, output_dim)\n",
    "        attentions = torch.cat(attentions, dim=0)  # (trg_len, batch_size, src_len)\n",
    "\n",
    "        return outputs, attentions"
   ]
  },
  {
   "cell_type": "code",
   "execution_count": 21,
   "id": "a72f1cbf-e98a-4bcc-af93-b1d52822c1d8",
   "metadata": {},
   "outputs": [],
   "source": [
    "device = torch.device('cuda' if torch.cuda.is_available() else 'cpu')\n",
    "\n",
    "input_dim = len(encoder_tokenizer)\n",
    "output_dim = len(decoder_tokenizer)\n",
    "emb_dim = 256\n",
    "hid_dim = 512"
   ]
  },
  {
   "cell_type": "code",
   "execution_count": 22,
   "id": "29515064-525a-440c-9030-c51cb9cff9c0",
   "metadata": {},
   "outputs": [],
   "source": [
    "encoder = Encoder(input_dim, emb_dim, hid_dim).to(device)\n",
    "attention = BahdanauAttention(hid_dim).to(device)\n",
    "decoder = Decoder(output_dim, emb_dim, hid_dim, attention).to(device)\n",
    "model = Seq2SeqAttention(encoder, decoder, device).to(device)"
   ]
  },
  {
   "cell_type": "code",
   "execution_count": 23,
   "id": "397a6b0c-407f-4eae-b20b-8139b7957e69",
   "metadata": {},
   "outputs": [
    {
     "name": "stdout",
     "output_type": "stream",
     "text": [
      "Seq2SeqAttention(\n",
      "  (encoder): Encoder(\n",
      "    (embedding): Embedding(3000, 256)\n",
      "    (rnn): GRU(256, 512)\n",
      "  )\n",
      "  (decoder): Decoder(\n",
      "    (attention): BahdanauAttention(\n",
      "      (W1): Linear(in_features=512, out_features=512, bias=True)\n",
      "      (W2): Linear(in_features=512, out_features=512, bias=True)\n",
      "      (v): Linear(in_features=512, out_features=1, bias=False)\n",
      "    )\n",
      "    (embedding): Embedding(3000, 256)\n",
      "    (rnn): GRU(256, 512)\n",
      "    (fc_out): Linear(in_features=1024, out_features=3000, bias=True)\n",
      "  )\n",
      ")\n"
     ]
    }
   ],
   "source": [
    "print(model)"
   ]
  },
  {
   "cell_type": "code",
   "execution_count": 24,
   "id": "a946e42b-3c00-459a-bc5d-176821525a17",
   "metadata": {},
   "outputs": [],
   "source": [
    "# 훈련하기\n",
    "optimizer = optim.Adam(model.parameters(), lr=1e-3)\n",
    "criterion = nn.CrossEntropyLoss(ignore_index=pad_id)"
   ]
  },
  {
   "cell_type": "code",
   "execution_count": 25,
   "id": "bdfa64f4-3c17-4be4-84ae-d33a60847247",
   "metadata": {},
   "outputs": [],
   "source": [
    "def train_step(model, data_loader, optimizer, criterion, epoch):\n",
    "    model.train()\n",
    "    epoch_loss = 0\n",
    "\n",
    "    progress_bar = tqdm(data_loader, desc=f\"Epoch {epoch+1}\", leave=True)\n",
    "\n",
    "    for src, trg_input, trg_label in progress_bar:\n",
    "        src, trg_input, trg_label = src.to(device), trg_input.to(device), trg_label.to(device)\n",
    "        optimizer.zero_grad()\n",
    "\n",
    "        outputs,_ = model(src, trg_input)\n",
    "\n",
    "        # (trg_len, batch_size, output_dim)을 (batch_size * trg_len, output_dim)으로 변환\n",
    "        outputs = outputs.view(-1, outputs.shape[-1])\n",
    "        trg_label = trg_label.view(-1)\n",
    "\n",
    "        loss = criterion(outputs, trg_label)\n",
    "        loss.backward()\n",
    "\n",
    "        torch.nn.utils.clip_grad_norm_(model.parameters(), max_norm=1)\n",
    "\n",
    "        optimizer.step()\n",
    "\n",
    "        epoch_loss += loss.item()\n",
    "\n",
    "        progress_bar.set_postfix(loss=loss.item())\n",
    "\n",
    "    return epoch_loss / len(data_loader)"
   ]
  },
  {
   "cell_type": "code",
   "execution_count": 26,
   "id": "39feaed2-f49f-42d4-bf20-3935678945eb",
   "metadata": {},
   "outputs": [
    {
     "name": "stderr",
     "output_type": "stream",
     "text": [
      "Epoch 1: 100%|██████████| 1488/1488 [04:46<00:00,  5.20it/s, loss=3.8] \n"
     ]
    },
    {
     "name": "stdout",
     "output_type": "stream",
     "text": [
      "Epoch 1/10, Train Loss: 4.0434\n"
     ]
    },
    {
     "name": "stderr",
     "output_type": "stream",
     "text": [
      "Epoch 2: 100%|██████████| 1488/1488 [04:47<00:00,  5.17it/s, loss=3.94]\n"
     ]
    },
    {
     "name": "stdout",
     "output_type": "stream",
     "text": [
      "Epoch 2/10, Train Loss: 3.7171\n"
     ]
    },
    {
     "name": "stderr",
     "output_type": "stream",
     "text": [
      "Epoch 3: 100%|██████████| 1488/1488 [04:48<00:00,  5.16it/s, loss=3.95]\n"
     ]
    },
    {
     "name": "stdout",
     "output_type": "stream",
     "text": [
      "Epoch 3/10, Train Loss: 3.6256\n"
     ]
    },
    {
     "name": "stderr",
     "output_type": "stream",
     "text": [
      "Epoch 4: 100%|██████████| 1488/1488 [04:50<00:00,  5.11it/s, loss=4.06]\n"
     ]
    },
    {
     "name": "stdout",
     "output_type": "stream",
     "text": [
      "Epoch 4/10, Train Loss: 3.5553\n"
     ]
    },
    {
     "name": "stderr",
     "output_type": "stream",
     "text": [
      "Epoch 5: 100%|██████████| 1488/1488 [04:52<00:00,  5.08it/s, loss=4.79]\n"
     ]
    },
    {
     "name": "stdout",
     "output_type": "stream",
     "text": [
      "Epoch 5/10, Train Loss: 3.4938\n"
     ]
    },
    {
     "name": "stderr",
     "output_type": "stream",
     "text": [
      "Epoch 6: 100%|██████████| 1488/1488 [04:51<00:00,  5.11it/s, loss=3.18]\n"
     ]
    },
    {
     "name": "stdout",
     "output_type": "stream",
     "text": [
      "Epoch 6/10, Train Loss: 3.4358\n"
     ]
    },
    {
     "name": "stderr",
     "output_type": "stream",
     "text": [
      "Epoch 7: 100%|██████████| 1488/1488 [04:50<00:00,  5.12it/s, loss=3.62]\n"
     ]
    },
    {
     "name": "stdout",
     "output_type": "stream",
     "text": [
      "Epoch 7/10, Train Loss: 3.3816\n"
     ]
    },
    {
     "name": "stderr",
     "output_type": "stream",
     "text": [
      "Epoch 8: 100%|██████████| 1488/1488 [04:48<00:00,  5.15it/s, loss=3.09]\n"
     ]
    },
    {
     "name": "stdout",
     "output_type": "stream",
     "text": [
      "Epoch 8/10, Train Loss: 3.3245\n"
     ]
    },
    {
     "name": "stderr",
     "output_type": "stream",
     "text": [
      "Epoch 9: 100%|██████████| 1488/1488 [04:48<00:00,  5.16it/s, loss=3.98]\n"
     ]
    },
    {
     "name": "stdout",
     "output_type": "stream",
     "text": [
      "Epoch 9/10, Train Loss: 3.2758\n"
     ]
    },
    {
     "name": "stderr",
     "output_type": "stream",
     "text": [
      "Epoch 10: 100%|██████████| 1488/1488 [04:50<00:00,  5.12it/s, loss=3.7] "
     ]
    },
    {
     "name": "stdout",
     "output_type": "stream",
     "text": [
      "Epoch 10/10, Train Loss: 3.2300\n",
      "CPU times: user 48min 8s, sys: 22.2 s, total: 48min 30s\n",
      "Wall time: 48min 16s\n"
     ]
    },
    {
     "name": "stderr",
     "output_type": "stream",
     "text": [
      "\n"
     ]
    }
   ],
   "source": [
    "%%time\n",
    "\n",
    "EPOCHS = 10\n",
    "\n",
    "for epoch in range(EPOCHS):\n",
    "    train_loss = train_step(model, train_loader, optimizer, criterion, epoch)\n",
    "    print(f'Epoch {epoch+1}/{EPOCHS}, Train Loss: {train_loss:.4f}')"
   ]
  },
  {
   "cell_type": "code",
   "execution_count": 27,
   "id": "ee57a3e7-643e-40fa-8412-8420cbe0f317",
   "metadata": {},
   "outputs": [],
   "source": [
    "def eval_step(model, data_loader, optimizer, criterion):\n",
    "    model.eval()\n",
    "    total_loss = 0\n",
    "\n",
    "    for src, trg_input, trg_label in data_loader:\n",
    "        src, trg_input, trg_label = src.to(device), trg_input.to(device), trg_label.to(device)\n",
    "\n",
    "        outputs, _ = model(src, trg_input)\n",
    "\n",
    "        # (trg_len, batch_size, output_dim)을 (batch_size * trg_len, output_dim)으로 변환\n",
    "        outputs = outputs.view(-1, outputs.shape[-1])\n",
    "        trg_label = trg_label.view(-1)\n",
    "\n",
    "        loss = criterion(outputs, trg_label)\n",
    "\n",
    "        total_loss += loss.item()\n",
    "\n",
    "    return total_loss / len(data_loader)"
   ]
  },
  {
   "cell_type": "code",
   "execution_count": 28,
   "id": "b77fbf2b-67b3-4c9e-85cc-6a53e56534b1",
   "metadata": {},
   "outputs": [
    {
     "name": "stderr",
     "output_type": "stream",
     "text": [
      "Epoch 1: 100%|██████████| 1488/1488 [04:51<00:00,  5.11it/s, loss=4.53]\n"
     ]
    },
    {
     "name": "stdout",
     "output_type": "stream",
     "text": [
      "Epoch 1/20, Train Loss: 3.1965, Validation Loss: 3.3656\n"
     ]
    },
    {
     "name": "stderr",
     "output_type": "stream",
     "text": [
      "Epoch 2: 100%|██████████| 1488/1488 [04:49<00:00,  5.14it/s, loss=4.09]\n"
     ]
    },
    {
     "name": "stdout",
     "output_type": "stream",
     "text": [
      "Epoch 2/20, Train Loss: 3.1610, Validation Loss: 3.3479\n"
     ]
    },
    {
     "name": "stderr",
     "output_type": "stream",
     "text": [
      "Epoch 3: 100%|██████████| 1488/1488 [04:48<00:00,  5.15it/s, loss=3.53]\n"
     ]
    },
    {
     "name": "stdout",
     "output_type": "stream",
     "text": [
      "Epoch 3/20, Train Loss: 3.1335, Validation Loss: 3.4024\n"
     ]
    },
    {
     "name": "stderr",
     "output_type": "stream",
     "text": [
      "Epoch 4: 100%|██████████| 1488/1488 [04:49<00:00,  5.14it/s, loss=2.79]\n"
     ]
    },
    {
     "name": "stdout",
     "output_type": "stream",
     "text": [
      "Epoch 4/20, Train Loss: 3.1103, Validation Loss: 3.3991\n"
     ]
    },
    {
     "name": "stderr",
     "output_type": "stream",
     "text": [
      "Epoch 5: 100%|██████████| 1488/1488 [04:49<00:00,  5.15it/s, loss=3.86]\n"
     ]
    },
    {
     "name": "stdout",
     "output_type": "stream",
     "text": [
      "Epoch 5/20, Train Loss: 3.0920, Validation Loss: 3.3722\n"
     ]
    },
    {
     "name": "stderr",
     "output_type": "stream",
     "text": [
      "Epoch 6: 100%|██████████| 1488/1488 [04:48<00:00,  5.16it/s, loss=3.29]\n"
     ]
    },
    {
     "name": "stdout",
     "output_type": "stream",
     "text": [
      "Epoch 6/20, Train Loss: 3.0754, Validation Loss: 3.3889\n"
     ]
    },
    {
     "name": "stderr",
     "output_type": "stream",
     "text": [
      "Epoch 7: 100%|██████████| 1488/1488 [04:48<00:00,  5.16it/s, loss=3.39]\n"
     ]
    },
    {
     "name": "stdout",
     "output_type": "stream",
     "text": [
      "Epoch 7/20, Train Loss: 3.0576, Validation Loss: 3.3419\n"
     ]
    },
    {
     "name": "stderr",
     "output_type": "stream",
     "text": [
      "Epoch 8: 100%|██████████| 1488/1488 [04:50<00:00,  5.12it/s, loss=3.77]\n"
     ]
    },
    {
     "name": "stdout",
     "output_type": "stream",
     "text": [
      "Epoch 8/20, Train Loss: 3.0345, Validation Loss: 3.3493\n"
     ]
    },
    {
     "name": "stderr",
     "output_type": "stream",
     "text": [
      "Epoch 9: 100%|██████████| 1488/1488 [04:48<00:00,  5.15it/s, loss=3.52]\n"
     ]
    },
    {
     "name": "stdout",
     "output_type": "stream",
     "text": [
      "Epoch 9/20, Train Loss: 3.0144, Validation Loss: 3.3451\n"
     ]
    },
    {
     "name": "stderr",
     "output_type": "stream",
     "text": [
      "Epoch 10: 100%|██████████| 1488/1488 [04:49<00:00,  5.15it/s, loss=3.95]\n"
     ]
    },
    {
     "name": "stdout",
     "output_type": "stream",
     "text": [
      "Epoch 10/20, Train Loss: 3.0023, Validation Loss: 3.3436\n"
     ]
    },
    {
     "name": "stderr",
     "output_type": "stream",
     "text": [
      "Epoch 11: 100%|██████████| 1488/1488 [04:49<00:00,  5.14it/s, loss=3.1] \n"
     ]
    },
    {
     "name": "stdout",
     "output_type": "stream",
     "text": [
      "Epoch 11/20, Train Loss: 2.9916, Validation Loss: 3.3213\n"
     ]
    },
    {
     "name": "stderr",
     "output_type": "stream",
     "text": [
      "Epoch 12: 100%|██████████| 1488/1488 [04:49<00:00,  5.14it/s, loss=3.5] \n"
     ]
    },
    {
     "name": "stdout",
     "output_type": "stream",
     "text": [
      "Epoch 12/20, Train Loss: 2.9778, Validation Loss: 3.3515\n"
     ]
    },
    {
     "name": "stderr",
     "output_type": "stream",
     "text": [
      "Epoch 13: 100%|██████████| 1488/1488 [04:49<00:00,  5.14it/s, loss=3.05]\n"
     ]
    },
    {
     "name": "stdout",
     "output_type": "stream",
     "text": [
      "Epoch 13/20, Train Loss: 2.9662, Validation Loss: 3.3988\n"
     ]
    },
    {
     "name": "stderr",
     "output_type": "stream",
     "text": [
      "Epoch 14: 100%|██████████| 1488/1488 [04:48<00:00,  5.15it/s, loss=4.24]\n"
     ]
    },
    {
     "name": "stdout",
     "output_type": "stream",
     "text": [
      "Epoch 14/20, Train Loss: 2.9543, Validation Loss: 3.3724\n"
     ]
    },
    {
     "name": "stderr",
     "output_type": "stream",
     "text": [
      "Epoch 15: 100%|██████████| 1488/1488 [04:49<00:00,  5.15it/s, loss=3.61]\n"
     ]
    },
    {
     "name": "stdout",
     "output_type": "stream",
     "text": [
      "Epoch 15/20, Train Loss: 2.9427, Validation Loss: 3.3656\n"
     ]
    },
    {
     "name": "stderr",
     "output_type": "stream",
     "text": [
      "Epoch 16: 100%|██████████| 1488/1488 [04:49<00:00,  5.14it/s, loss=2.91]\n"
     ]
    },
    {
     "name": "stdout",
     "output_type": "stream",
     "text": [
      "Epoch 16/20, Train Loss: 2.9334, Validation Loss: 3.3573\n"
     ]
    },
    {
     "name": "stderr",
     "output_type": "stream",
     "text": [
      "Epoch 17: 100%|██████████| 1488/1488 [04:48<00:00,  5.16it/s, loss=3.38]\n"
     ]
    },
    {
     "name": "stdout",
     "output_type": "stream",
     "text": [
      "Epoch 17/20, Train Loss: 2.9241, Validation Loss: 3.3847\n"
     ]
    },
    {
     "name": "stderr",
     "output_type": "stream",
     "text": [
      "Epoch 18: 100%|██████████| 1488/1488 [04:48<00:00,  5.15it/s, loss=3.32]\n"
     ]
    },
    {
     "name": "stdout",
     "output_type": "stream",
     "text": [
      "Epoch 18/20, Train Loss: 2.9196, Validation Loss: 3.3734\n"
     ]
    },
    {
     "name": "stderr",
     "output_type": "stream",
     "text": [
      "Epoch 19: 100%|██████████| 1488/1488 [04:50<00:00,  5.13it/s, loss=3.91]\n"
     ]
    },
    {
     "name": "stdout",
     "output_type": "stream",
     "text": [
      "Epoch 19/20, Train Loss: 2.9074, Validation Loss: 3.4036\n"
     ]
    },
    {
     "name": "stderr",
     "output_type": "stream",
     "text": [
      "Epoch 20: 100%|██████████| 1488/1488 [04:48<00:00,  5.15it/s, loss=3.03]\n"
     ]
    },
    {
     "name": "stdout",
     "output_type": "stream",
     "text": [
      "Epoch 20/20, Train Loss: 2.8932, Validation Loss: 3.3345\n",
      "CPU times: user 1h 44min 40s, sys: 42.9 s, total: 1h 45min 23s\n",
      "Wall time: 1h 44min 55s\n"
     ]
    }
   ],
   "source": [
    "%%time\n",
    "\n",
    "EPOCHS = 20\n",
    "\n",
    "for epoch in range(EPOCHS):\n",
    "    train_loss = train_step(model, train_loader, optimizer, criterion, epoch)\n",
    "    valid_loss = eval_step(model, validation_loader, optimizer, criterion)\n",
    "    print(f'Epoch {epoch+1}/{EPOCHS}, Train Loss: {train_loss:.4f}, Validation Loss: {valid_loss:.4f}')"
   ]
  },
  {
   "cell_type": "code",
   "execution_count": 29,
   "id": "20427259-e9ef-456e-8337-4c4e7197f52e",
   "metadata": {},
   "outputs": [],
   "source": [
    "def evaluate(sentence, model, encoder_tokenizer, decoder_tokenizer, max_len=30):\n",
    "    model.eval()\n",
    "\n",
    "    sentence = preprocess_sentence(sentence)\n",
    "    src_ids = encoder_tokenizer.encode(sentence)\n",
    "    src_ids = src_ids[:max_len]\n",
    "    src_ids = src_ids + [0] * (max_len - len(src_ids))  # 패딩 추가\n",
    "    src_tensor = torch.tensor(src_ids).unsqueeze(1).to(device)  # (src_len, 1)\n",
    "\n",
    "    with torch.no_grad():\n",
    "        outputs, attentions = model(src_tensor, max_len=max_len)\n",
    "\n",
    "    result = [decoder_tokenizer.decode([token.item()]) for token in outputs.argmax(2).squeeze(1)]\n",
    "\n",
    "    if \"<end>\" in result:\n",
    "        result = result[:result.index(\"<end>\")]\n",
    "\n",
    "    return result, sentence, attentions.squeeze(1).cpu().numpy()"
   ]
  },
  {
   "cell_type": "code",
   "execution_count": 30,
   "id": "561976fb-e6ad-4afc-96c1-0525df25dae7",
   "metadata": {},
   "outputs": [],
   "source": [
    "def plot_attention(attention, sentence, predicted_sentence):\n",
    "    fig, ax = plt.subplots(figsize=(10, 10))\n",
    "    ax.matshow(attention, cmap='viridis')\n",
    "\n",
    "    fontdict = {'fontsize': 14}\n",
    "\n",
    "    ax.set_xticks(range(len(sentence)))\n",
    "    ax.set_xticklabels(sentence, fontdict=fontdict, rotation=90)\n",
    "\n",
    "    ax.set_yticks(range(len(predicted_sentence)))\n",
    "    ax.set_yticklabels(predicted_sentence, fontdict=fontdict)\n",
    "\n",
    "    plt.show()"
   ]
  },
  {
   "cell_type": "code",
   "execution_count": 31,
   "id": "8b091432-119d-43aa-a2bf-a0ae15949bc0",
   "metadata": {},
   "outputs": [],
   "source": [
    "def translate(sentence, model, encoder_tokenizer, decoder_tokenizer, max_len=30):\n",
    "    result, sentence, attention = evaluate(sentence, model, encoder_tokenizer, decoder_tokenizer, max_len)\n",
    "\n",
    "    print('Input: %s' % (sentence))\n",
    "    print('Predicted translation: {}'.format(result))\n",
    "\n",
    "    # Attention 크기 조정 (trg_len, src_len)\n",
    "    attention = attention[:len(result), :len(sentence.split())]\n",
    "\n",
    "    plot_attention(attention, sentence.split(), result)"
   ]
  },
  {
   "cell_type": "code",
   "execution_count": 32,
   "id": "f05f2ccc-07dc-47ed-820a-247e7cd42004",
   "metadata": {},
   "outputs": [
    {
     "name": "stdout",
     "output_type": "stream",
     "text": [
      "Input: the most powerful man all over the world .\n",
      "Predicted translation: ['el', 'mund', 'o', 'todo', 's', 'del', 'mund', 'o', '.', '']\n"
     ]
    },
    {
     "data": {
      "image/png": "[encoded data removed]",
      "text/plain": [
       "<Figure size 1000x1000 with 1 Axes>"
      ]
     },
     "metadata": {},
     "output_type": "display_data"
    }
   ],
   "source": [
    "translate(\"The most powerful man all over the world.\", model, encoder_tokenizer, decoder_tokenizer, max_len=30)"
   ]
  },
  {
   "cell_type": "code",
   "execution_count": 33,
   "id": "a8cd759d-f1d3-4508-8bf3-fde855517fc1",
   "metadata": {},
   "outputs": [
    {
     "name": "stdout",
     "output_type": "stream",
     "text": [
      "Input: may i help you ?\n",
      "Predicted translation: ['tal', 'o', '.', '']\n"
     ]
    },
    {
     "data": {
      "image/png": "[encoded data removed]",
      "text/plain": [
       "<Figure size 1000x1000 with 1 Axes>"
      ]
     },
     "metadata": {},
     "output_type": "display_data"
    }
   ],
   "source": [
    "translate(\"May I help you?\", model, encoder_tokenizer, decoder_tokenizer, max_len=30)"
   ]
  },
  {
   "cell_type": "code",
   "execution_count": 34,
   "id": "96001dd6-5b92-47de-9f4d-25fc2be854e9",
   "metadata": {},
   "outputs": [
    {
     "name": "stdout",
     "output_type": "stream",
     "text": [
      "Input: can i have some coffee ?\n",
      "Predicted translation: ['puede', 'que', 'yo', '.', '']\n"
     ]
    },
    {
     "data": {
      "image/png": "[encoded data removed]",
      "text/plain": [
       "<Figure size 1000x1000 with 1 Axes>"
      ]
     },
     "metadata": {},
     "output_type": "display_data"
    }
   ],
   "source": [
    "# 실행 예제\n",
    "translate(\"Can I have some coffee?\", model, encoder_tokenizer, decoder_tokenizer, max_len=30)"
   ]
  }
 ],
 "metadata": {
  "kernelspec": {
   "display_name": "Python 3 (ipykernel)",
   "language": "python",
   "name": "python3"
  },
  "language_info": {
   "codemirror_mode": {
    "name": "ipython",
    "version": 3
   },
   "file_extension": ".py",
   "mimetype": "text/x-python",
   "name": "python",
   "nbconvert_exporter": "python",
   "pygments_lexer": "ipython3",
   "version": "3.12.11"
  }
 },
 "nbformat": 4,
 "nbformat_minor": 5
}
